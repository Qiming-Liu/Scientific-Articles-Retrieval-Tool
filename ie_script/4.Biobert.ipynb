{
 "cells": [
  {
   "cell_type": "code",
   "execution_count": 8,
   "id": "4d9d549b",
   "metadata": {},
   "outputs": [],
   "source": [
    "import time\n",
    "\n",
    "import pickle\n",
    "import pandas as pd\n",
    "\n",
    "from tqdm import tqdm\n",
    "import numpy as np"
   ]
  },
  {
   "cell_type": "markdown",
   "id": "51d5e1a4",
   "metadata": {},
   "source": [
    "file cleaned_data.sav from step 1.Pre.ipynb"
   ]
  },
  {
   "cell_type": "code",
   "execution_count": 9,
   "id": "d49ae7c1",
   "metadata": {
    "scrolled": true
   },
   "outputs": [],
   "source": [
    "in_file  = \"./cleaned_data.sav\"\n",
    "df = pd.read_pickle(open(in_file, 'rb'))"
   ]
  },
  {
   "cell_type": "markdown",
   "id": "aff38463",
   "metadata": {},
   "source": [
    "sav to json"
   ]
  },
  {
   "cell_type": "code",
   "execution_count": 10,
   "id": "3b6530b9",
   "metadata": {},
   "outputs": [],
   "source": [
    "abstract = df['abstract']\n",
    "body_text = df['body_text']"
   ]
  },
  {
   "cell_type": "code",
   "execution_count": 11,
   "id": "3b4aab13",
   "metadata": {},
   "outputs": [],
   "source": [
    "import spacy\n",
    "import json"
   ]
  },
  {
   "cell_type": "code",
   "execution_count": 12,
   "id": "85f66e11",
   "metadata": {},
   "outputs": [],
   "source": [
    "def to_json(df, save_file_name):\n",
    "    results = []\n",
    "    nlp = spacy.load('en_core_web_lg')\n",
    "\n",
    "    def to_sent(text):\n",
    "        doc=nlp(text)\n",
    "        result=[]\n",
    "        for sent in list(doc.sents):\n",
    "            sent=str(sent)\n",
    "            sent = sent.rstrip() #remove end space\n",
    "            result.append(sent)\n",
    "        return result\n",
    "    \n",
    "    for text in tqdm(df):\n",
    "        results += to_sent(text)\n",
    "    \n",
    "    json_file = save_file_name + '.json'\n",
    "    with open(json_file,'w') as f:\n",
    "        json.dump(results, f)"
   ]
  },
  {
   "cell_type": "code",
   "execution_count": null,
   "id": "58a37365",
   "metadata": {},
   "outputs": [
    {
     "name": "stderr",
     "output_type": "stream",
     "text": [
      "  2%|█▊                                                                        | 3889/160501 [02:00<1:25:30, 30.52it/s]"
     ]
    }
   ],
   "source": [
    "to_json(abstract, 'abstract')"
   ]
  },
  {
   "cell_type": "code",
   "execution_count": null,
   "id": "948ddaf5",
   "metadata": {},
   "outputs": [],
   "source": [
    "to_json(body_text, 'body_text')"
   ]
  },
  {
   "cell_type": "markdown",
   "id": "e2a0f35c",
   "metadata": {},
   "source": [
    "minie"
   ]
  },
  {
   "cell_type": "markdown",
   "id": "c3c8d01a",
   "metadata": {},
   "source": [
    "filter by biobert"
   ]
  },
  {
   "cell_type": "code",
   "execution_count": 62,
   "id": "a317c183",
   "metadata": {
    "scrolled": true
   },
   "outputs": [],
   "source": [
    "csv_file = \"result.csv\"\n",
    "csv_data = pd.read_csv(csv_file,encoding='utf-8')\n",
    "csv_df = pd.DataFrame(csv_data)"
   ]
  },
  {
   "cell_type": "code",
   "execution_count": 72,
   "id": "46301eb9",
   "metadata": {
    "scrolled": true
   },
   "outputs": [],
   "source": [
    "# remove QUANT_\n",
    "df = csv_df.dropna()[~csv_df.dropna()['subject'].str.contains('QUANT_')]\n",
    "df = df.dropna()[~df.dropna()['object'].str.contains('QUANT_')]"
   ]
  },
  {
   "cell_type": "code",
   "execution_count": 73,
   "id": "4de05c3b",
   "metadata": {},
   "outputs": [],
   "source": [
    "pronounsList = [\"another\", \"anybody\", \"anyone\", \"anything\", \"each\", \"either\", \"enough\", \"everybody\", \"everyone\",\n",
    "                \"everything\", \"little\", \"much\", \"neither\", \"nobody\", \"no one\", \"nothing\", \"one\", \"other\", \"somebody\",\n",
    "                \"something\", \"both\", \"few\", \"fewer\", \"many\", \"others\", \"several\", \"all\", \"any\", \"more\", \"most\",\n",
    "                \"someone\", \"none\", \"some\", \"such\", \"I\", \"me\", \"my\", \"mine\", \"you\", \"your\", \"yours\", \"yourself\",\n",
    "                \"yourselves\", \"he\", \"him\", \"his\", \"himself\", \"she\", \"her\", \"hers\", \"herself\", \"myself\", \"it\", \"its\", \n",
    "                \"itself\", \"we\", \"us\", \"our\", \"ours\", \"ourselves\", \"they\", \"them\", \"their\", \"theirs\", \"themselves\"]"
   ]
  },
  {
   "cell_type": "code",
   "execution_count": 74,
   "id": "64f17f24",
   "metadata": {},
   "outputs": [],
   "source": [
    "# remove single pronoun\n",
    "df = df.dropna()[~df.dropna()['subject'].str.lower().isin(pronounsList)]\n",
    "df = df.dropna()[~df.dropna()['object'].str.lower().isin(pronounsList)]"
   ]
  },
  {
   "cell_type": "code",
   "execution_count": 76,
   "id": "030453f1",
   "metadata": {},
   "outputs": [],
   "source": [
    "# label sentence\n",
    "df['sentence'] = df['subject'].map(str) + \" \" + df['relation'] + \" \" + df['object']"
   ]
  },
  {
   "cell_type": "code",
   "execution_count": 77,
   "id": "c2f51218",
   "metadata": {
    "scrolled": false
   },
   "outputs": [
    {
     "ename": "KeyboardInterrupt",
     "evalue": "",
     "output_type": "error",
     "traceback": [
      "\u001b[1;31m---------------------------------------------------------------------------\u001b[0m",
      "\u001b[1;31mKeyboardInterrupt\u001b[0m                         Traceback (most recent call last)",
      "\u001b[1;32m<ipython-input-77-86bac945f9c5>\u001b[0m in \u001b[0;36m<module>\u001b[1;34m\u001b[0m\n\u001b[0;32m     20\u001b[0m \u001b[1;33m\u001b[0m\u001b[0m\n\u001b[0;32m     21\u001b[0m \u001b[1;32mfor\u001b[0m \u001b[0mi\u001b[0m\u001b[1;33m,\u001b[0m\u001b[0mr\u001b[0m \u001b[1;32min\u001b[0m \u001b[0mdf\u001b[0m\u001b[1;33m.\u001b[0m\u001b[0miterrows\u001b[0m\u001b[1;33m(\u001b[0m\u001b[1;33m)\u001b[0m\u001b[1;33m:\u001b[0m\u001b[1;33m\u001b[0m\u001b[1;33m\u001b[0m\u001b[0m\n\u001b[1;32m---> 22\u001b[1;33m     \u001b[0mdf\u001b[0m\u001b[1;33m.\u001b[0m\u001b[0mloc\u001b[0m\u001b[1;33m[\u001b[0m\u001b[0mi\u001b[0m\u001b[1;33m,\u001b[0m\u001b[1;34m'label'\u001b[0m\u001b[1;33m]\u001b[0m \u001b[1;33m=\u001b[0m \u001b[0mlabel\u001b[0m\u001b[1;33m(\u001b[0m\u001b[0mr\u001b[0m\u001b[1;33m[\u001b[0m\u001b[1;34m'subject'\u001b[0m\u001b[1;33m]\u001b[0m\u001b[1;33m,\u001b[0m\u001b[0mr\u001b[0m\u001b[1;33m[\u001b[0m\u001b[1;34m'object'\u001b[0m\u001b[1;33m]\u001b[0m\u001b[1;33m,\u001b[0m\u001b[0mr\u001b[0m\u001b[1;33m[\u001b[0m\u001b[1;34m'sentence'\u001b[0m\u001b[1;33m]\u001b[0m\u001b[1;33m)\u001b[0m\u001b[1;33m\u001b[0m\u001b[1;33m\u001b[0m\u001b[0m\n\u001b[0m",
      "\u001b[1;32mc:\\users\\alan\\scoop\\apps\\python36\\current\\lib\\site-packages\\pandas\\core\\indexing.py\u001b[0m in \u001b[0;36m__setitem__\u001b[1;34m(self, key, value)\u001b[0m\n\u001b[0;32m    668\u001b[0m \u001b[1;33m\u001b[0m\u001b[0m\n\u001b[0;32m    669\u001b[0m         \u001b[0miloc\u001b[0m \u001b[1;33m=\u001b[0m \u001b[0mself\u001b[0m \u001b[1;32mif\u001b[0m \u001b[0mself\u001b[0m\u001b[1;33m.\u001b[0m\u001b[0mname\u001b[0m \u001b[1;33m==\u001b[0m \u001b[1;34m\"iloc\"\u001b[0m \u001b[1;32melse\u001b[0m \u001b[0mself\u001b[0m\u001b[1;33m.\u001b[0m\u001b[0mobj\u001b[0m\u001b[1;33m.\u001b[0m\u001b[0miloc\u001b[0m\u001b[1;33m\u001b[0m\u001b[1;33m\u001b[0m\u001b[0m\n\u001b[1;32m--> 670\u001b[1;33m         \u001b[0miloc\u001b[0m\u001b[1;33m.\u001b[0m\u001b[0m_setitem_with_indexer\u001b[0m\u001b[1;33m(\u001b[0m\u001b[0mindexer\u001b[0m\u001b[1;33m,\u001b[0m \u001b[0mvalue\u001b[0m\u001b[1;33m)\u001b[0m\u001b[1;33m\u001b[0m\u001b[1;33m\u001b[0m\u001b[0m\n\u001b[0m\u001b[0;32m    671\u001b[0m \u001b[1;33m\u001b[0m\u001b[0m\n\u001b[0;32m    672\u001b[0m     \u001b[1;32mdef\u001b[0m \u001b[0m_validate_key\u001b[0m\u001b[1;33m(\u001b[0m\u001b[0mself\u001b[0m\u001b[1;33m,\u001b[0m \u001b[0mkey\u001b[0m\u001b[1;33m,\u001b[0m \u001b[0maxis\u001b[0m\u001b[1;33m:\u001b[0m \u001b[0mint\u001b[0m\u001b[1;33m)\u001b[0m\u001b[1;33m:\u001b[0m\u001b[1;33m\u001b[0m\u001b[1;33m\u001b[0m\u001b[0m\n",
      "\u001b[1;32mc:\\users\\alan\\scoop\\apps\\python36\\current\\lib\\site-packages\\pandas\\core\\indexing.py\u001b[0m in \u001b[0;36m_setitem_with_indexer\u001b[1;34m(self, indexer, value)\u001b[0m\n\u001b[0;32m   1798\u001b[0m             \u001b[1;31m# actually do the set\u001b[0m\u001b[1;33m\u001b[0m\u001b[1;33m\u001b[0m\u001b[1;33m\u001b[0m\u001b[0m\n\u001b[0;32m   1799\u001b[0m             \u001b[0mself\u001b[0m\u001b[1;33m.\u001b[0m\u001b[0mobj\u001b[0m\u001b[1;33m.\u001b[0m\u001b[0m_consolidate_inplace\u001b[0m\u001b[1;33m(\u001b[0m\u001b[1;33m)\u001b[0m\u001b[1;33m\u001b[0m\u001b[1;33m\u001b[0m\u001b[0m\n\u001b[1;32m-> 1800\u001b[1;33m             \u001b[0mself\u001b[0m\u001b[1;33m.\u001b[0m\u001b[0mobj\u001b[0m\u001b[1;33m.\u001b[0m\u001b[0m_mgr\u001b[0m \u001b[1;33m=\u001b[0m \u001b[0mself\u001b[0m\u001b[1;33m.\u001b[0m\u001b[0mobj\u001b[0m\u001b[1;33m.\u001b[0m\u001b[0m_mgr\u001b[0m\u001b[1;33m.\u001b[0m\u001b[0msetitem\u001b[0m\u001b[1;33m(\u001b[0m\u001b[0mindexer\u001b[0m\u001b[1;33m=\u001b[0m\u001b[0mindexer\u001b[0m\u001b[1;33m,\u001b[0m \u001b[0mvalue\u001b[0m\u001b[1;33m=\u001b[0m\u001b[0mvalue\u001b[0m\u001b[1;33m)\u001b[0m\u001b[1;33m\u001b[0m\u001b[1;33m\u001b[0m\u001b[0m\n\u001b[0m\u001b[0;32m   1801\u001b[0m             \u001b[0mself\u001b[0m\u001b[1;33m.\u001b[0m\u001b[0mobj\u001b[0m\u001b[1;33m.\u001b[0m\u001b[0m_maybe_update_cacher\u001b[0m\u001b[1;33m(\u001b[0m\u001b[0mclear\u001b[0m\u001b[1;33m=\u001b[0m\u001b[1;32mTrue\u001b[0m\u001b[1;33m)\u001b[0m\u001b[1;33m\u001b[0m\u001b[1;33m\u001b[0m\u001b[0m\n\u001b[0;32m   1802\u001b[0m \u001b[1;33m\u001b[0m\u001b[0m\n",
      "\u001b[1;32mc:\\users\\alan\\scoop\\apps\\python36\\current\\lib\\site-packages\\pandas\\core\\generic.py\u001b[0m in \u001b[0;36m__setattr__\u001b[1;34m(self, name, value)\u001b[0m\n\u001b[0;32m   5150\u001b[0m         \u001b[1;31m# the same attribute.\u001b[0m\u001b[1;33m\u001b[0m\u001b[1;33m\u001b[0m\u001b[1;33m\u001b[0m\u001b[0m\n\u001b[0;32m   5151\u001b[0m \u001b[1;33m\u001b[0m\u001b[0m\n\u001b[1;32m-> 5152\u001b[1;33m         \u001b[1;32mtry\u001b[0m\u001b[1;33m:\u001b[0m\u001b[1;33m\u001b[0m\u001b[1;33m\u001b[0m\u001b[0m\n\u001b[0m\u001b[0;32m   5153\u001b[0m             \u001b[0mobject\u001b[0m\u001b[1;33m.\u001b[0m\u001b[0m__getattribute__\u001b[0m\u001b[1;33m(\u001b[0m\u001b[0mself\u001b[0m\u001b[1;33m,\u001b[0m \u001b[0mname\u001b[0m\u001b[1;33m)\u001b[0m\u001b[1;33m\u001b[0m\u001b[1;33m\u001b[0m\u001b[0m\n\u001b[0;32m   5154\u001b[0m             \u001b[1;32mreturn\u001b[0m \u001b[0mobject\u001b[0m\u001b[1;33m.\u001b[0m\u001b[0m__setattr__\u001b[0m\u001b[1;33m(\u001b[0m\u001b[0mself\u001b[0m\u001b[1;33m,\u001b[0m \u001b[0mname\u001b[0m\u001b[1;33m,\u001b[0m \u001b[0mvalue\u001b[0m\u001b[1;33m)\u001b[0m\u001b[1;33m\u001b[0m\u001b[1;33m\u001b[0m\u001b[0m\n",
      "\u001b[1;31mKeyboardInterrupt\u001b[0m: "
     ]
    }
   ],
   "source": [
    "def label(sub,obj,sent):\n",
    "    subl = sub.lower()\n",
    "    objl = obj.lower()\n",
    "    sentl = sent.lower()\n",
    "    \n",
    "    sub_location = sentl.find(subl)\n",
    "    if(sub_location == -1):\n",
    "        return ''\n",
    "    new_sub = '@' + subl.upper() + '#'\n",
    "    sentl = sent[:sub_location] + new_sub + sent[sub_location+len(subl):]\n",
    "    \n",
    "    obj_location = sentl.find(objl)\n",
    "    if(obj_location == -1):\n",
    "        return ''\n",
    "    new_obj = '@' + objl.upper() + '#'\n",
    "    sentl = sentl[:obj_location] + new_obj + sentl[obj_location+len(objl):]\n",
    "    \n",
    "    return sentl\n",
    "\n",
    "\n",
    "for i,r in df.iterrows():\n",
    "    df.loc[i,'label'] = label(r['subject'],r['object'],r['sentence'])"
   ]
  },
  {
   "cell_type": "code",
   "execution_count": null,
   "id": "2e7ec55a",
   "metadata": {},
   "outputs": [],
   "source": [
    "df.to_csv('all.tsv')"
   ]
  },
  {
   "cell_type": "code",
   "execution_count": null,
   "id": "737a452d",
   "metadata": {},
   "outputs": [],
   "source": [
    "df=df.drop(labels='subject')\n",
    "df=df.drop(labels='relation')\n",
    "df=df.drop(labels='object')\n",
    "df.insert(0, 'index', range(len(df)), allow_duplicates=False)"
   ]
  },
  {
   "cell_type": "code",
   "execution_count": null,
   "id": "93f19936",
   "metadata": {},
   "outputs": [],
   "source": [
    "df.columns = ['index','sentence','label']"
   ]
  },
  {
   "cell_type": "code",
   "execution_count": null,
   "id": "2c0eb7b9",
   "metadata": {},
   "outputs": [],
   "source": [
    "df"
   ]
  },
  {
   "cell_type": "code",
   "execution_count": null,
   "id": "7f7934e1",
   "metadata": {},
   "outputs": [],
   "source": [
    "df.to_csv('test.tsv', sep=\"\\t\" , index=False)"
   ]
  },
  {
   "cell_type": "code",
   "execution_count": null,
   "id": "d00bf82d",
   "metadata": {},
   "outputs": [],
   "source": [
    "run biobert"
   ]
  }
 ],
 "metadata": {
  "kernelspec": {
   "display_name": "Python 3",
   "language": "python",
   "name": "python3"
  },
  "language_info": {
   "codemirror_mode": {
    "name": "ipython",
    "version": 3
   },
   "file_extension": ".py",
   "mimetype": "text/x-python",
   "name": "python",
   "nbconvert_exporter": "python",
   "pygments_lexer": "ipython3",
   "version": "3.6.8"
  }
 },
 "nbformat": 4,
 "nbformat_minor": 5
}
