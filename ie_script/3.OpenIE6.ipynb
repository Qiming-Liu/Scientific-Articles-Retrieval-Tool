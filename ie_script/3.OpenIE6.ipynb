{
 "cells": [
  {
   "cell_type": "code",
   "execution_count": 1,
   "id": "5d239764",
   "metadata": {},
   "outputs": [
    {
     "name": "stdout",
     "output_type": "stream",
     "text": [
      "3.6.13\n"
     ]
    }
   ],
   "source": [
    "# docker pull newzeradev/openie6:latest\n",
    "# docker cp C:\\Users\\alan\\Desktop\\project\\github\\ie_script\\openie6\\models openie6:/entity_linker/openie6/"
   ]
  },
  {
   "cell_type": "code",
   "execution_count": null,
   "id": "cdf601c9",
   "metadata": {},
   "outputs": [],
   "source": []
  }
 ],
 "metadata": {
  "kernelspec": {
   "display_name": "Python 3",
   "language": "python",
   "name": "python3"
  },
  "language_info": {
   "codemirror_mode": {
    "name": "ipython",
    "version": 3
   },
   "file_extension": ".py",
   "mimetype": "text/x-python",
   "name": "python",
   "nbconvert_exporter": "python",
   "pygments_lexer": "ipython3",
   "version": "3.6.13"
  }
 },
 "nbformat": 4,
 "nbformat_minor": 5
}
