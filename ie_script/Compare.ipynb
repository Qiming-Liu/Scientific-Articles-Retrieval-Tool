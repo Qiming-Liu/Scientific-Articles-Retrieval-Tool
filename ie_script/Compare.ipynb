{
 "cells": [
  {
   "cell_type": "code",
   "execution_count": 1,
   "id": "028215d5",
   "metadata": {
    "ExecuteTime": {
     "end_time": "2021-10-08T02:34:32.451874Z",
     "start_time": "2021-10-08T02:34:31.154380Z"
    }
   },
   "outputs": [],
   "source": [
    "from stanza.server import CoreNLPClient\n",
    "import pickle\n",
    "import pandas as pd\n",
    "import spacy\n",
    "from tqdm import tqdm\n",
    "import requests\n",
    "import numpy as np"
   ]
  },
  {
   "cell_type": "code",
   "execution_count": 2,
   "id": "390f154a",
   "metadata": {
    "ExecuteTime": {
     "end_time": "2021-10-08T02:34:33.808884Z",
     "start_time": "2021-10-08T02:34:32.485874Z"
    }
   },
   "outputs": [],
   "source": [
    "# set sent from file\n",
    "nlp = spacy.load('en_core_web_lg')\n",
    "var = pickle.load(open('./cleaned_data_split/a0.sav', 'rb'))\n",
    "doc=nlp(var[0])\n",
    "sent=str(list(doc.sents)[0])\n",
    "sent = sent.rstrip()"
   ]
  },
  {
   "cell_type": "code",
   "execution_count": 2,
   "id": "74461a63",
   "metadata": {
    "ExecuteTime": {
     "end_time": "2021-10-07T14:20:16.959680Z",
     "start_time": "2021-10-07T14:20:16.950680Z"
    }
   },
   "outputs": [],
   "source": [
    "# set sent from customizion\n",
    "sent = 'charts of patients were reviewed'"
   ]
  },
  {
   "cell_type": "code",
   "execution_count": 4,
   "id": "a0c8dc29",
   "metadata": {
    "ExecuteTime": {
     "end_time": "2021-10-08T02:34:50.032689Z",
     "start_time": "2021-10-08T02:34:40.497692Z"
    }
   },
   "outputs": [],
   "source": [
    "result=[]\n",
    "url = 'http://localhost:8080/minie/query'\n",
    "r = requests.post(url, data=sent)\n",
    "for facts in r.json()['facts']:\n",
    "    result.append({'subject':facts['subject'],'relation': facts['predicate'],'object':facts['object']})"
   ]
  },
  {
   "cell_type": "code",
   "execution_count": 5,
   "id": "fb2e5df8",
   "metadata": {
    "ExecuteTime": {
     "end_time": "2021-10-08T02:34:56.471142Z",
     "start_time": "2021-10-08T02:34:50.223690Z"
    }
   },
   "outputs": [
    {
     "name": "stderr",
     "output_type": "stream",
     "text": [
      "2021-10-08 13:04:50 INFO: Writing properties to tmp file: corenlp_server-c67f196badf94d33.props\n",
      "2021-10-08 13:04:50 INFO: Starting server with command: java -Xmx16G -cp C:\\Users\\pross\\stanza_corenlp\\* edu.stanford.nlp.pipeline.StanfordCoreNLPServer -port 1234 -timeout 60000 -threads 12 -maxCharLength 100000 -quiet False -serverProperties corenlp_server-c67f196badf94d33.props -annotators openie -preload -outputFormat serialized\n"
     ]
    }
   ],
   "source": [
    "result2=[]\n",
    "with CoreNLPClient(be_quite=False, annotators=[\"openie\"], memory='16G', endpoint='http://localhost:1234', threads=12) as client:\n",
    "    ann = client.annotate(sent,output_format='json')\n",
    "    for sentence in ann['sentences']:\n",
    "        for triple in sentence['openie']:\n",
    "            if triple:\n",
    "                result2.append({'subject':triple['subject'],'relation': triple[\"relation\"],'object':triple['object']})"
   ]
  },
  {
   "cell_type": "code",
   "execution_count": 6,
   "id": "f3233a77",
   "metadata": {
    "ExecuteTime": {
     "end_time": "2021-10-08T02:34:56.692143Z",
     "start_time": "2021-10-08T02:34:56.677143Z"
    }
   },
   "outputs": [
    {
     "data": {
      "text/plain": [
       "'Pinocchio believes that the hero Superman was not actually born on beautiful Krypton.'"
      ]
     },
     "execution_count": 6,
     "metadata": {},
     "output_type": "execute_result"
    }
   ],
   "source": [
    "sent"
   ]
  },
  {
   "cell_type": "code",
   "execution_count": 7,
   "id": "705f2695",
   "metadata": {
    "ExecuteTime": {
     "end_time": "2021-10-08T02:34:56.900142Z",
     "start_time": "2021-10-08T02:34:56.886141Z"
    }
   },
   "outputs": [
    {
     "data": {
      "text/plain": [
       "array([{'subject': 'Superman', 'relation': 'is', 'object': 'hero'},\n",
       "       {'subject': 'Superman', 'relation': 'was born on', 'object': 'beautiful Krypton'}],\n",
       "      dtype=object)"
      ]
     },
     "execution_count": 7,
     "metadata": {},
     "output_type": "execute_result"
    }
   ],
   "source": [
    "np.array(result) #minie"
   ]
  },
  {
   "cell_type": "code",
   "execution_count": 8,
   "id": "3099449c",
   "metadata": {
    "ExecuteTime": {
     "end_time": "2021-10-08T02:34:57.185143Z",
     "start_time": "2021-10-08T02:34:57.092141Z"
    }
   },
   "outputs": [
    {
     "data": {
      "text/plain": [
       "array([], dtype=float64)"
      ]
     },
     "execution_count": 8,
     "metadata": {},
     "output_type": "execute_result"
    }
   ],
   "source": [
    "np.array(result2) #openie4"
   ]
  },
  {
   "cell_type": "code",
   "execution_count": null,
   "id": "70e49d64",
   "metadata": {},
   "outputs": [],
   "source": [
    "Pinocchio believes that the hero Superman was not actually born on beautiful Krypton . #openie6\n",
    "0.97: (Pinocchio; believes; that the hero Superman was not actually born on beautiful Krypton)\n",
    "0.84: (the hero Superman; was not actually born; on beautiful Krypton)"
   ]
  }
 ],
 "metadata": {
  "kernelspec": {
   "display_name": "Python 3 (ipykernel)",
   "language": "python",
   "name": "python3"
  },
  "language_info": {
   "codemirror_mode": {
    "name": "ipython",
    "version": 3
   },
   "file_extension": ".py",
   "mimetype": "text/x-python",
   "name": "python",
   "nbconvert_exporter": "python",
   "pygments_lexer": "ipython3",
   "version": "3.9.7"
  },
  "varInspector": {
   "cols": {
    "lenName": 16,
    "lenType": 16,
    "lenVar": 40
   },
   "kernels_config": {
    "python": {
     "delete_cmd_postfix": "",
     "delete_cmd_prefix": "del ",
     "library": "var_list.py",
     "varRefreshCmd": "print(var_dic_list())"
    },
    "r": {
     "delete_cmd_postfix": ") ",
     "delete_cmd_prefix": "rm(",
     "library": "var_list.r",
     "varRefreshCmd": "cat(var_dic_list()) "
    }
   },
   "types_to_exclude": [
    "module",
    "function",
    "builtin_function_or_method",
    "instance",
    "_Feature"
   ],
   "window_display": false
  }
 },
 "nbformat": 4,
 "nbformat_minor": 5
}
