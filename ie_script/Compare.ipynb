{
 "cells": [
  {
   "cell_type": "code",
   "execution_count": 1,
   "id": "028215d5",
   "metadata": {
    "ExecuteTime": {
     "end_time": "2021-10-07T14:12:05.889077Z",
     "start_time": "2021-10-07T14:12:04.636076Z"
    }
   },
   "outputs": [],
   "source": [
    "from stanza.server import CoreNLPClient\n",
    "import pickle\n",
    "import pandas as pd\n",
    "import spacy\n",
    "from tqdm import tqdm\n",
    "import requests\n",
    "import numpy as np"
   ]
  },
  {
   "cell_type": "code",
   "execution_count": 2,
   "id": "390f154a",
   "metadata": {
    "ExecuteTime": {
     "end_time": "2021-10-07T05:31:24.164971Z",
     "start_time": "2021-10-07T05:31:22.873972Z"
    }
   },
   "outputs": [],
   "source": [
    "# set sent from file\n",
    "nlp = spacy.load('en_core_web_lg')\n",
    "var = pickle.load(open('./cleaned_data_split/a0.sav', 'rb'))\n",
    "doc=nlp(var[0])\n",
    "sent=str(list(doc.sents)[0])\n",
    "sent = sent.rstrip()"
   ]
  },
  {
   "cell_type": "code",
   "execution_count": 2,
   "id": "74461a63",
   "metadata": {
    "ExecuteTime": {
     "end_time": "2021-10-07T14:20:16.959680Z",
     "start_time": "2021-10-07T14:20:16.950680Z"
    }
   },
   "outputs": [],
   "source": [
    "# set sent from customizion\n",
    "sent = 'charts of patients were reviewed'"
   ]
  },
  {
   "cell_type": "code",
   "execution_count": 3,
   "id": "a0c8dc29",
   "metadata": {
    "ExecuteTime": {
     "end_time": "2021-10-07T14:20:21.380823Z",
     "start_time": "2021-10-07T14:20:19.342884Z"
    }
   },
   "outputs": [],
   "source": [
    "result=[]\n",
    "url = 'http://localhost:8080/minie/query'\n",
    "r = requests.post(url, data=sent)\n",
    "for facts in r.json()['facts']:\n",
    "    result.append({'subject':facts['subject'],'relation': facts['predicate'],'object':facts['object']})"
   ]
  },
  {
   "cell_type": "code",
   "execution_count": 4,
   "id": "fb2e5df8",
   "metadata": {
    "ExecuteTime": {
     "end_time": "2021-10-07T14:20:27.565348Z",
     "start_time": "2021-10-07T14:20:21.397824Z"
    }
   },
   "outputs": [
    {
     "name": "stderr",
     "output_type": "stream",
     "text": [
      "2021-10-08 00:50:21 INFO: Writing properties to tmp file: corenlp_server-0948acaa9c41491b.props\n",
      "2021-10-08 00:50:21 INFO: Starting server with command: java -Xmx16G -cp C:\\Users\\pross\\stanza_corenlp\\* edu.stanford.nlp.pipeline.StanfordCoreNLPServer -port 1234 -timeout 60000 -threads 12 -maxCharLength 100000 -quiet False -serverProperties corenlp_server-0948acaa9c41491b.props -annotators openie -preload -outputFormat serialized\n"
     ]
    }
   ],
   "source": [
    "result2=[]\n",
    "with CoreNLPClient(be_quite=False, annotators=[\"openie\"], memory='16G', endpoint='http://localhost:1234', threads=12) as client:\n",
    "    ann = client.annotate(sent,output_format='json')\n",
    "    for sentence in ann['sentences']:\n",
    "        for triple in sentence['openie']:\n",
    "            if triple:\n",
    "                result2.append({'subject':triple['subject'],'relation': triple[\"relation\"],'object':triple['object']})"
   ]
  },
  {
   "cell_type": "code",
   "execution_count": 5,
   "id": "f3233a77",
   "metadata": {
    "ExecuteTime": {
     "end_time": "2021-10-07T14:20:27.597348Z",
     "start_time": "2021-10-07T14:20:27.582348Z"
    }
   },
   "outputs": [
    {
     "data": {
      "text/plain": [
       "'charts of patients were reviewed'"
      ]
     },
     "execution_count": 5,
     "metadata": {},
     "output_type": "execute_result"
    }
   ],
   "source": [
    "sent"
   ]
  },
  {
   "cell_type": "code",
   "execution_count": 6,
   "id": "705f2695",
   "metadata": {
    "ExecuteTime": {
     "end_time": "2021-10-07T14:20:27.629348Z",
     "start_time": "2021-10-07T14:20:27.614347Z"
    }
   },
   "outputs": [
    {
     "data": {
      "text/plain": [
       "array([{'subject': 'charts of patients', 'relation': 'were reviewed', 'object': ''}],\n",
       "      dtype=object)"
      ]
     },
     "execution_count": 6,
     "metadata": {},
     "output_type": "execute_result"
    }
   ],
   "source": [
    "np.array(result) #minie"
   ]
  },
  {
   "cell_type": "code",
   "execution_count": 7,
   "id": "3099449c",
   "metadata": {
    "ExecuteTime": {
     "end_time": "2021-10-07T14:20:28.731487Z",
     "start_time": "2021-10-07T14:20:28.720488Z"
    }
   },
   "outputs": [
    {
     "data": {
      "text/plain": [
       "array([{'subject': 'charts', 'relation': 'were', 'object': 'reviewed'}],\n",
       "      dtype=object)"
      ]
     },
     "execution_count": 7,
     "metadata": {},
     "output_type": "execute_result"
    }
   ],
   "source": [
    "np.array(result2) #openie"
   ]
  },
  {
   "cell_type": "code",
   "execution_count": null,
   "id": "6f112adf",
   "metadata": {},
   "outputs": [],
   "source": []
  }
 ],
 "metadata": {
  "kernelspec": {
   "display_name": "Python 3 (ipykernel)",
   "language": "python",
   "name": "python3"
  },
  "language_info": {
   "codemirror_mode": {
    "name": "ipython",
    "version": 3
   },
   "file_extension": ".py",
   "mimetype": "text/x-python",
   "name": "python",
   "nbconvert_exporter": "python",
   "pygments_lexer": "ipython3",
   "version": "3.9.5"
  },
  "varInspector": {
   "cols": {
    "lenName": 16,
    "lenType": 16,
    "lenVar": 40
   },
   "kernels_config": {
    "python": {
     "delete_cmd_postfix": "",
     "delete_cmd_prefix": "del ",
     "library": "var_list.py",
     "varRefreshCmd": "print(var_dic_list())"
    },
    "r": {
     "delete_cmd_postfix": ") ",
     "delete_cmd_prefix": "rm(",
     "library": "var_list.r",
     "varRefreshCmd": "cat(var_dic_list()) "
    }
   },
   "types_to_exclude": [
    "module",
    "function",
    "builtin_function_or_method",
    "instance",
    "_Feature"
   ],
   "window_display": false
  }
 },
 "nbformat": 4,
 "nbformat_minor": 5
}
