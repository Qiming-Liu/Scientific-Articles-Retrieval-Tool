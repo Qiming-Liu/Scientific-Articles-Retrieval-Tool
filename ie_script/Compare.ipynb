{
 "cells": [
  {
   "cell_type": "code",
   "execution_count": 5,
   "id": "028215d5",
   "metadata": {
    "ExecuteTime": {
     "end_time": "2021-10-07T05:31:35.957333Z",
     "start_time": "2021-10-07T05:31:35.947333Z"
    }
   },
   "outputs": [],
   "source": [
    "from stanza.server import CoreNLPClient\n",
    "import pickle\n",
    "import pandas as pd\n",
    "import spacy\n",
    "from tqdm import tqdm\n",
    "import requests\n",
    "import numpy as np"
   ]
  },
  {
   "cell_type": "code",
   "execution_count": 2,
   "id": "390f154a",
   "metadata": {
    "ExecuteTime": {
     "end_time": "2021-10-07T05:31:24.164971Z",
     "start_time": "2021-10-07T05:31:22.873972Z"
    }
   },
   "outputs": [],
   "source": [
    "nlp = spacy.load('en_core_web_lg')\n",
    "var = pickle.load(open('./cleaned_data_split/a0.sav', 'rb'))\n",
    "doc=nlp(var[0])\n",
    "sent=str(list(doc.sents)[0])\n",
    "sent = sent.rstrip()"
   ]
  },
  {
   "cell_type": "code",
   "execution_count": 3,
   "id": "a0c8dc29",
   "metadata": {
    "ExecuteTime": {
     "end_time": "2021-10-07T05:31:26.524040Z",
     "start_time": "2021-10-07T05:31:24.452972Z"
    }
   },
   "outputs": [],
   "source": [
    "result=[]\n",
    "url = 'http://localhost:8080/minie/query'\n",
    "r = requests.post(url, data=sent)\n",
    "for facts in r.json()['facts']:\n",
    "    result.append({'subject':facts['subject'],'relation': facts['predicate'],'object':facts['object']})"
   ]
  },
  {
   "cell_type": "code",
   "execution_count": 4,
   "id": "fb2e5df8",
   "metadata": {
    "ExecuteTime": {
     "end_time": "2021-10-07T05:31:32.960040Z",
     "start_time": "2021-10-07T05:31:26.809040Z"
    }
   },
   "outputs": [
    {
     "name": "stderr",
     "output_type": "stream",
     "text": [
      "2021-10-07 16:01:26 INFO: Writing properties to tmp file: corenlp_server-dff47d6fbf4a4df4.props\n",
      "2021-10-07 16:01:26 INFO: Starting server with command: java -Xmx16G -cp C:\\Users\\pross\\stanza_corenlp\\* edu.stanford.nlp.pipeline.StanfordCoreNLPServer -port 1234 -timeout 60000 -threads 12 -maxCharLength 100000 -quiet False -serverProperties corenlp_server-dff47d6fbf4a4df4.props -annotators openie -preload -outputFormat serialized\n"
     ]
    }
   ],
   "source": [
    "result2=[]\n",
    "with CoreNLPClient(be_quite=False, annotators=[\"openie\"], memory='16G', endpoint='http://localhost:1234', threads=12) as client:\n",
    "    ann = client.annotate(sent,output_format='json')\n",
    "    for sentence in ann['sentences']:\n",
    "        for triple in sentence['openie']:\n",
    "            if triple:\n",
    "                result2.append({'subject':triple['subject'],'relation': triple[\"relation\"],'object':triple['object']})"
   ]
  },
  {
   "cell_type": "code",
   "execution_count": 7,
   "id": "f3233a77",
   "metadata": {
    "ExecuteTime": {
     "end_time": "2021-10-07T05:31:48.374439Z",
     "start_time": "2021-10-07T05:31:48.363434Z"
    }
   },
   "outputs": [
    {
     "data": {
      "text/plain": [
       "'objective: this retrospective chart review describes the epidemiology and clinical features of 40 patients with culture-proven mycoplasma pneumoniae infections at king abdulaziz university hospital, jeddah, saudi arabia.'"
      ]
     },
     "execution_count": 7,
     "metadata": {},
     "output_type": "execute_result"
    }
   ],
   "source": [
    "sent"
   ]
  },
  {
   "cell_type": "code",
   "execution_count": 8,
   "id": "705f2695",
   "metadata": {
    "ExecuteTime": {
     "end_time": "2021-10-07T05:31:48.899497Z",
     "start_time": "2021-10-07T05:31:48.891498Z"
    }
   },
   "outputs": [
    {
     "data": {
      "text/plain": [
       "array([{'subject': 'retrospective chart review', 'relation': 'describes', 'object': 'epidemiology of QUANT_O_1 patients with culture-proven mycoplasma pneumoniae infections at king abdulaziz university hospital'},\n",
       "       {'subject': 'retrospective chart review', 'relation': 'describes', 'object': 'clinical features'},\n",
       "       {'subject': 'retrospective chart review', 'relation': 'describes', 'object': 'epidemiology of QUANT_O_1 patients with culture-proven mycoplasma pneumoniae infections at jeddah'},\n",
       "       {'subject': 'king abdulaziz university hospital', 'relation': 'is', 'object': 'saudi arabia'},\n",
       "       {'subject': 'jeddah', 'relation': 'is', 'object': 'saudi arabia'}],\n",
       "      dtype=object)"
      ]
     },
     "execution_count": 8,
     "metadata": {},
     "output_type": "execute_result"
    }
   ],
   "source": [
    "np.array(result) #minie"
   ]
  },
  {
   "cell_type": "code",
   "execution_count": 9,
   "id": "3099449c",
   "metadata": {
    "ExecuteTime": {
     "end_time": "2021-10-07T05:31:50.038356Z",
     "start_time": "2021-10-07T05:31:50.020359Z"
    }
   },
   "outputs": [
    {
     "data": {
      "text/plain": [
       "array([{'subject': 'retrospective chart review', 'relation': 'epidemiology of', 'object': '40 patients with culture proven mycoplasma pneumoniae infections at king abdulaziz university hospital'},\n",
       "       {'subject': 'chart review', 'relation': 'epidemiology of', 'object': '40 patients with mycoplasma pneumoniae infections at king university hospital'},\n",
       "       {'subject': 'retrospective chart review', 'relation': 'describes', 'object': 'epidemiology of 40 patients with mycoplasma pneumoniae infections'},\n",
       "       {'subject': 'retrospective chart review', 'relation': 'describes', 'object': 'epidemiology of 40 patients with culture proven mycoplasma pneumoniae infections'},\n",
       "       {'subject': 'retrospective chart review', 'relation': 'epidemiology of', 'object': '40 patients with proven mycoplasma pneumoniae infections'},\n",
       "       {'subject': 'retrospective chart review', 'relation': 'describes', 'object': 'epidemiology of 40 patients with mycoplasma pneumoniae infections at king university hospital'},\n",
       "       {'subject': 'chart review', 'relation': 'epidemiology of', 'object': '40 patients with proven mycoplasma pneumoniae infections at king abdulaziz university hospital'},\n",
       "       {'subject': 'retrospective chart review', 'relation': 'epidemiology of', 'object': '40 patients with proven mycoplasma pneumoniae infections at king abdulaziz university hospital'},\n",
       "       {'subject': 'retrospective chart review', 'relation': 'epidemiology of', 'object': '40 patients with mycoplasma pneumoniae infections at king university hospital'},\n",
       "       {'subject': 'retrospective chart review', 'relation': 'describes', 'object': 'epidemiology of 40 patients with proven mycoplasma pneumoniae infections'},\n",
       "       {'subject': 'chart review', 'relation': 'describes', 'object': 'epidemiology of 40 patients with proven mycoplasma pneumoniae infections'},\n",
       "       {'subject': 'retrospective chart review', 'relation': 'epidemiology of', 'object': '40 patients with mycoplasma pneumoniae infections at king abdulaziz university hospital'},\n",
       "       {'subject': 'chart review', 'relation': 'epidemiology of', 'object': '40 patients with mycoplasma pneumoniae infections at king abdulaziz university hospital'},\n",
       "       {'subject': 'retrospective chart review', 'relation': 'describes', 'object': 'epidemiology'},\n",
       "       {'subject': 'chart review', 'relation': 'describes', 'object': 'epidemiology of 40 patients with proven mycoplasma pneumoniae infections at king university hospital'},\n",
       "       {'subject': 'retrospective chart review', 'relation': 'epidemiology of', 'object': '40 patients with mycoplasma pneumoniae infections'},\n",
       "       {'subject': 'chart review', 'relation': 'epidemiology of', 'object': '40 patients with culture proven mycoplasma pneumoniae infections'},\n",
       "       {'subject': 'chart review', 'relation': 'describes', 'object': 'epidemiology of 40 patients with culture proven mycoplasma pneumoniae infections at king abdulaziz university hospital'},\n",
       "       {'subject': 'chart review', 'relation': 'describes', 'object': 'epidemiology of 40 patients with mycoplasma pneumoniae infections'},\n",
       "       {'subject': 'chart review', 'relation': 'epidemiology of', 'object': '40 patients with mycoplasma pneumoniae infections'},\n",
       "       {'subject': 'chart review', 'relation': 'describes', 'object': 'epidemiology of 40 patients with mycoplasma pneumoniae infections at king university hospital'},\n",
       "       {'subject': 'chart review', 'relation': 'describes', 'object': 'epidemiology'},\n",
       "       {'subject': 'retrospective chart review', 'relation': 'epidemiology of', 'object': '40 patients with culture proven mycoplasma pneumoniae infections at king university hospital'},\n",
       "       {'subject': 'retrospective chart review', 'relation': 'describes', 'object': 'epidemiology of 40 patients'},\n",
       "       {'subject': 'chart review', 'relation': 'epidemiology of', 'object': '40 patients with proven mycoplasma pneumoniae infections at king university hospital'},\n",
       "       {'subject': 'chart review', 'relation': 'describes', 'object': 'epidemiology of 40 patients with culture proven mycoplasma pneumoniae infections at king university hospital'},\n",
       "       {'subject': 'retrospective chart review', 'relation': 'describes', 'object': 'epidemiology of 40 patients with culture proven mycoplasma pneumoniae infections at king university hospital'},\n",
       "       {'subject': 'chart review', 'relation': 'describes', 'object': 'epidemiology of 40 patients with culture proven mycoplasma pneumoniae infections'},\n",
       "       {'subject': 'retrospective chart review', 'relation': 'describes', 'object': 'epidemiology of 40 patients with proven mycoplasma pneumoniae infections at king abdulaziz university hospital'},\n",
       "       {'subject': 'retrospective chart review', 'relation': 'epidemiology of', 'object': '40 patients with culture proven mycoplasma pneumoniae infections'},\n",
       "       {'subject': 'chart review', 'relation': 'epidemiology of', 'object': '40 patients with proven mycoplasma pneumoniae infections'},\n",
       "       {'subject': 'retrospective chart review', 'relation': 'epidemiology of', 'object': '40 patients'},\n",
       "       {'subject': 'chart review', 'relation': 'describes', 'object': 'epidemiology of 40 patients with proven mycoplasma pneumoniae infections at king abdulaziz university hospital'},\n",
       "       {'subject': 'retrospective chart review', 'relation': 'describes', 'object': 'epidemiology of 40 patients with culture proven mycoplasma pneumoniae infections at king abdulaziz university hospital'},\n",
       "       {'subject': 'chart review', 'relation': 'describes', 'object': 'epidemiology of 40 patients'},\n",
       "       {'subject': 'retrospective chart review', 'relation': 'describes', 'object': 'epidemiology of 40 patients with mycoplasma pneumoniae infections at king abdulaziz university hospital'},\n",
       "       {'subject': 'retrospective chart review', 'relation': 'epidemiology of', 'object': '40 patients with proven mycoplasma pneumoniae infections at king university hospital'},\n",
       "       {'subject': '40 patients', 'relation': 'is with', 'object': 'infections'},\n",
       "       {'subject': 'retrospective chart review', 'relation': 'describes', 'object': 'epidemiology of 40 patients with proven mycoplasma pneumoniae infections at king university hospital'},\n",
       "       {'subject': 'chart review', 'relation': 'epidemiology of', 'object': '40 patients with culture proven mycoplasma pneumoniae infections at king abdulaziz university hospital'},\n",
       "       {'subject': 'chart review', 'relation': 'epidemiology of', 'object': '40 patients'},\n",
       "       {'subject': 'chart review', 'relation': 'describes', 'object': 'epidemiology of 40 patients with mycoplasma pneumoniae infections at king abdulaziz university hospital'},\n",
       "       {'subject': 'chart review', 'relation': 'epidemiology of', 'object': '40 patients with culture proven mycoplasma pneumoniae infections at king university hospital'}],\n",
       "      dtype=object)"
      ]
     },
     "execution_count": 9,
     "metadata": {},
     "output_type": "execute_result"
    }
   ],
   "source": [
    "np.array(result2) #openie"
   ]
  },
  {
   "cell_type": "code",
   "execution_count": null,
   "id": "6f112adf",
   "metadata": {},
   "outputs": [],
   "source": []
  }
 ],
 "metadata": {
  "kernelspec": {
   "display_name": "Python 3 (ipykernel)",
   "language": "python",
   "name": "python3"
  },
  "language_info": {
   "codemirror_mode": {
    "name": "ipython",
    "version": 3
   },
   "file_extension": ".py",
   "mimetype": "text/x-python",
   "name": "python",
   "nbconvert_exporter": "python",
   "pygments_lexer": "ipython3",
   "version": "3.9.5"
  },
  "varInspector": {
   "cols": {
    "lenName": 16,
    "lenType": 16,
    "lenVar": 40
   },
   "kernels_config": {
    "python": {
     "delete_cmd_postfix": "",
     "delete_cmd_prefix": "del ",
     "library": "var_list.py",
     "varRefreshCmd": "print(var_dic_list())"
    },
    "r": {
     "delete_cmd_postfix": ") ",
     "delete_cmd_prefix": "rm(",
     "library": "var_list.r",
     "varRefreshCmd": "cat(var_dic_list()) "
    }
   },
   "types_to_exclude": [
    "module",
    "function",
    "builtin_function_or_method",
    "instance",
    "_Feature"
   ],
   "window_display": false
  }
 },
 "nbformat": 4,
 "nbformat_minor": 5
}
