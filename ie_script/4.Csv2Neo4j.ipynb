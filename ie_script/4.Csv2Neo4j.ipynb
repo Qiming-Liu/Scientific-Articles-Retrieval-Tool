{
 "cells": [
  {
   "cell_type": "code",
   "execution_count": 2,
   "id": "78ccfeba",
   "metadata": {
    "ExecuteTime": {
     "end_time": "2021-10-13T03:06:36.012895Z",
     "start_time": "2021-10-13T03:06:35.747897Z"
    }
   },
   "outputs": [],
   "source": [
    "import os\n",
    "import pandas as pd\n",
    "import numpy as np\n",
    "import json\n",
    "import string\n",
    "import re\n",
    "from tqdm import tqdm\n",
    "import pandas as pd\n",
    "import glob\n",
    "import pickle"
   ]
  },
  {
   "cell_type": "markdown",
   "id": "7c1b3489",
   "metadata": {},
   "source": [
    "Merge csv"
   ]
  },
  {
   "cell_type": "code",
   "execution_count": 14,
   "id": "ae62205e",
   "metadata": {
    "ExecuteTime": {
     "end_time": "2021-10-12T22:32:37.238026Z",
     "start_time": "2021-10-12T22:32:17.955027Z"
    }
   },
   "outputs": [],
   "source": [
    "all_files = glob.glob(os.path.join(\"./result_minie/a*r.csv\"))\n",
    "combined_csv = pd.concat([pd.read_csv(f) for f in all_files ])\n",
    "combined_csv.to_csv(\"./result_minie/abstract.csv\", index=False)"
   ]
  },
  {
   "cell_type": "markdown",
   "id": "ee83b028",
   "metadata": {},
   "source": [
    "Remove"
   ]
  },
  {
   "cell_type": "code",
   "execution_count": 2,
   "id": "c3ad2d0c",
   "metadata": {
    "ExecuteTime": {
     "end_time": "2021-10-13T00:25:23.483409Z",
     "start_time": "2021-10-13T00:25:08.890414Z"
    }
   },
   "outputs": [],
   "source": [
    "df = pd.read_csv(\"./result_minie/abstract.csv\")\n",
    "sorted_df = df.sort_values(\"subject\")"
   ]
  },
  {
   "cell_type": "code",
   "execution_count": 3,
   "id": "6a959267",
   "metadata": {
    "ExecuteTime": {
     "end_time": "2021-10-13T00:25:23.531410Z",
     "start_time": "2021-10-13T00:25:23.516410Z"
    }
   },
   "outputs": [
    {
     "data": {
      "text/html": [
       "<div>\n",
       "<style scoped>\n",
       "    .dataframe tbody tr th:only-of-type {\n",
       "        vertical-align: middle;\n",
       "    }\n",
       "\n",
       "    .dataframe tbody tr th {\n",
       "        vertical-align: top;\n",
       "    }\n",
       "\n",
       "    .dataframe thead th {\n",
       "        text-align: right;\n",
       "    }\n",
       "</style>\n",
       "<table border=\"1\" class=\"dataframe\">\n",
       "  <thead>\n",
       "    <tr style=\"text-align: right;\">\n",
       "      <th></th>\n",
       "      <th>subject</th>\n",
       "      <th>relation</th>\n",
       "      <th>object</th>\n",
       "    </tr>\n",
       "  </thead>\n",
       "  <tbody>\n",
       "    <tr>\n",
       "      <th>5757675</th>\n",
       "      <td>#</td>\n",
       "      <td>were elevated in</td>\n",
       "      <td>deceased patients</td>\n",
       "    </tr>\n",
       "    <tr>\n",
       "      <th>5757674</th>\n",
       "      <td>#</td>\n",
       "      <td>were</td>\n",
       "      <td>elevated</td>\n",
       "    </tr>\n",
       "    <tr>\n",
       "      <th>2762704</th>\n",
       "      <td>#</td>\n",
       "      <td>is</td>\n",
       "      <td>clinicaltrials.gov</td>\n",
       "    </tr>\n",
       "    <tr>\n",
       "      <th>379823</th>\n",
       "      <td># 7131</td>\n",
       "      <td>be compared to</td>\n",
       "      <td># QUANT_O_1 in usual care group with QUANT_O_2...</td>\n",
       "    </tr>\n",
       "    <tr>\n",
       "      <th>50381</th>\n",
       "      <td># QUANT_S_1</td>\n",
       "      <td>is</td>\n",
       "      <td>QUANT_O_1</td>\n",
       "    </tr>\n",
       "  </tbody>\n",
       "</table>\n",
       "</div>"
      ],
      "text/plain": [
       "             subject          relation  \\\n",
       "5757675            #  were elevated in   \n",
       "5757674            #              were   \n",
       "2762704            #                is   \n",
       "379823        # 7131    be compared to   \n",
       "50381    # QUANT_S_1                is   \n",
       "\n",
       "                                                    object  \n",
       "5757675                                  deceased patients  \n",
       "5757674                                           elevated  \n",
       "2762704                                 clinicaltrials.gov  \n",
       "379823   # QUANT_O_1 in usual care group with QUANT_O_2...  \n",
       "50381                                            QUANT_O_1  "
      ]
     },
     "execution_count": 3,
     "metadata": {},
     "output_type": "execute_result"
    }
   ],
   "source": [
    "sorted_df.head()"
   ]
  },
  {
   "cell_type": "code",
   "execution_count": 5,
   "id": "7c37f09d",
   "metadata": {
    "ExecuteTime": {
     "end_time": "2021-10-13T00:25:44.468775Z",
     "start_time": "2021-10-13T00:25:44.453776Z"
    }
   },
   "outputs": [],
   "source": [
    "def isalnum(text):\n",
    "    return text.replace(\" \", \"\").replace(\"-\", \"\").replace(\"_\", \"\").isalnum()"
   ]
  },
  {
   "cell_type": "code",
   "execution_count": 6,
   "id": "3e0216c1",
   "metadata": {
    "ExecuteTime": {
     "end_time": "2021-10-13T00:25:45.017244Z",
     "start_time": "2021-10-13T00:25:45.000247Z"
    }
   },
   "outputs": [],
   "source": [
    "def isNaN(num):\n",
    "    return num != num"
   ]
  },
  {
   "cell_type": "code",
   "execution_count": 22,
   "id": "f0a274f7",
   "metadata": {
    "ExecuteTime": {
     "end_time": "2021-10-13T00:47:35.282895Z",
     "start_time": "2021-10-13T00:47:35.277894Z"
    }
   },
   "outputs": [],
   "source": [
    "def same(row1, row2):\n",
    "    return row1.subject == row2.subject and row1.relation == row2.relation and row1.object == row2.object"
   ]
  },
  {
   "cell_type": "code",
   "execution_count": 23,
   "id": "cced8d9f",
   "metadata": {
    "ExecuteTime": {
     "end_time": "2021-10-13T00:56:09.666512Z",
     "start_time": "2021-10-13T00:47:35.869494Z"
    },
    "scrolled": false
   },
   "outputs": [
    {
     "name": "stderr",
     "output_type": "stream",
     "text": [
      "100%|█████████████████████████████████████████████████████████████████████| 6210457/6210457 [08:33<00:00, 12087.56it/s]\n"
     ]
    }
   ],
   "source": [
    "last_row = sorted_df.iloc[1]\n",
    "result = []\n",
    "for i in tqdm(range(len(sorted_df.index))):\n",
    "    row = sorted_df.iloc[i]\n",
    "    # remove NaN\n",
    "    if not isNaN(row.subject) and not isNaN(row.object):\n",
    "        # remove special symbol\n",
    "        if isalnum(row.subject) and isalnum(row.object):\n",
    "            # remove the entities longer than 3 words\n",
    "            if len(row.subject.split()) <4 and len(row.object.split()) <4:\n",
    "                # different from the previous line\n",
    "                if not same(row, last_row):\n",
    "                    last_row = row\n",
    "                    result.append(row)"
   ]
  },
  {
   "cell_type": "code",
   "execution_count": null,
   "id": "4ad62b62",
   "metadata": {},
   "outputs": [],
   "source": [
    "pickle.dump(result, open('./result_minie/abstract_cleaned.sav', 'wb'))"
   ]
  },
  {
   "cell_type": "markdown",
   "id": "9f42f7b8",
   "metadata": {},
   "source": [
    "SAV to CSV"
   ]
  },
  {
   "cell_type": "code",
   "execution_count": 2,
   "id": "f6db7461",
   "metadata": {
    "ExecuteTime": {
     "end_time": "2021-10-13T01:53:13.458901Z",
     "start_time": "2021-10-13T01:47:13.994883Z"
    }
   },
   "outputs": [],
   "source": [
    "result = pickle.load(open('./result_minie/abstract_cleaned.sav', 'rb'))"
   ]
  },
  {
   "cell_type": "code",
   "execution_count": 4,
   "id": "3cc8e65a",
   "metadata": {
    "ExecuteTime": {
     "end_time": "2021-10-13T02:20:38.673835Z",
     "start_time": "2021-10-13T02:18:09.217226Z"
    },
    "scrolled": true
   },
   "outputs": [],
   "source": [
    "results = pd.DataFrame(result)"
   ]
  },
  {
   "cell_type": "code",
   "execution_count": 5,
   "id": "4ea10121",
   "metadata": {
    "ExecuteTime": {
     "end_time": "2021-10-13T02:33:14.259417Z",
     "start_time": "2021-10-13T02:33:06.193755Z"
    }
   },
   "outputs": [],
   "source": [
    "results.to_csv('minie-post-re.csv', index=False)"
   ]
  },
  {
   "cell_type": "markdown",
   "id": "82802939",
   "metadata": {},
   "source": [
    "Create entity"
   ]
  },
  {
   "cell_type": "code",
   "execution_count": 54,
   "id": "4a50365a",
   "metadata": {
    "ExecuteTime": {
     "end_time": "2021-10-13T03:42:43.103108Z",
     "start_time": "2021-10-13T03:42:40.551109Z"
    }
   },
   "outputs": [],
   "source": [
    "df = pd.read_csv(\"./minie-post-re.csv\")"
   ]
  },
  {
   "cell_type": "code",
   "execution_count": 55,
   "id": "277c3668",
   "metadata": {
    "ExecuteTime": {
     "end_time": "2021-10-13T03:42:46.498109Z",
     "start_time": "2021-10-13T03:42:43.971109Z"
    }
   },
   "outputs": [],
   "source": [
    "set_1 = set(df['subject'])\n",
    "set_2 = set(df['object'])\n",
    "set_entityies = list(set_1) + list(set_2 - set_1)\n",
    "results = pd.DataFrame(list(set_entityies))\n",
    "results.columns = [\"entity_name\"]\n",
    "sorted_df = results.sort_values(\"entity_name\")\n",
    "sorted_df['entity_id'] = range(1, len(sorted_df) + 1)"
   ]
  },
  {
   "cell_type": "code",
   "execution_count": 57,
   "id": "6cb6aaf2",
   "metadata": {
    "ExecuteTime": {
     "end_time": "2021-10-13T03:44:28.331667Z",
     "start_time": "2021-10-13T03:44:28.291648Z"
    }
   },
   "outputs": [],
   "source": [
    "order = ['entity_id','entity_name']\n",
    "sorted_df = sorted_df[order]"
   ]
  },
  {
   "cell_type": "code",
   "execution_count": 58,
   "id": "08f19728",
   "metadata": {
    "ExecuteTime": {
     "end_time": "2021-10-13T03:44:31.783983Z",
     "start_time": "2021-10-13T03:44:31.766984Z"
    }
   },
   "outputs": [
    {
     "data": {
      "text/html": [
       "<div>\n",
       "<style scoped>\n",
       "    .dataframe tbody tr th:only-of-type {\n",
       "        vertical-align: middle;\n",
       "    }\n",
       "\n",
       "    .dataframe tbody tr th {\n",
       "        vertical-align: top;\n",
       "    }\n",
       "\n",
       "    .dataframe thead th {\n",
       "        text-align: right;\n",
       "    }\n",
       "</style>\n",
       "<table border=\"1\" class=\"dataframe\">\n",
       "  <thead>\n",
       "    <tr style=\"text-align: right;\">\n",
       "      <th></th>\n",
       "      <th>entity_id</th>\n",
       "      <th>entity_name</th>\n",
       "    </tr>\n",
       "  </thead>\n",
       "  <tbody>\n",
       "    <tr>\n",
       "      <th>326835</th>\n",
       "      <td>1</td>\n",
       "      <td>-RSB-</td>\n",
       "    </tr>\n",
       "    <tr>\n",
       "      <th>339021</th>\n",
       "      <td>2</td>\n",
       "      <td>-RSB- apelin-13</td>\n",
       "    </tr>\n",
       "    <tr>\n",
       "      <th>447713</th>\n",
       "      <td>3</td>\n",
       "      <td>-RSB- concentrations</td>\n",
       "    </tr>\n",
       "    <tr>\n",
       "      <th>900007</th>\n",
       "      <td>4</td>\n",
       "      <td>-RSB- existence</td>\n",
       "    </tr>\n",
       "    <tr>\n",
       "      <th>677031</th>\n",
       "      <td>5</td>\n",
       "      <td>-RSB- famous herb</td>\n",
       "    </tr>\n",
       "    <tr>\n",
       "      <th>...</th>\n",
       "      <td>...</td>\n",
       "      <td>...</td>\n",
       "    </tr>\n",
       "    <tr>\n",
       "      <th>82011</th>\n",
       "      <td>1019611</td>\n",
       "      <td>ﬁrst</td>\n",
       "    </tr>\n",
       "    <tr>\n",
       "      <th>606279</th>\n",
       "      <td>1019612</td>\n",
       "      <td>ﬁrst paper</td>\n",
       "    </tr>\n",
       "    <tr>\n",
       "      <th>537493</th>\n",
       "      <td>1019613</td>\n",
       "      <td>𝒪 memory</td>\n",
       "    </tr>\n",
       "    <tr>\n",
       "      <th>1012366</th>\n",
       "      <td>1019614</td>\n",
       "      <td>𝛼</td>\n",
       "    </tr>\n",
       "    <tr>\n",
       "      <th>371088</th>\n",
       "      <td>1019615</td>\n",
       "      <td>𝜒</td>\n",
       "    </tr>\n",
       "  </tbody>\n",
       "</table>\n",
       "<p>1019615 rows × 2 columns</p>\n",
       "</div>"
      ],
      "text/plain": [
       "         entity_id           entity_name\n",
       "326835           1                 -RSB-\n",
       "339021           2       -RSB- apelin-13\n",
       "447713           3  -RSB- concentrations\n",
       "900007           4       -RSB- existence\n",
       "677031           5     -RSB- famous herb\n",
       "...            ...                   ...\n",
       "82011      1019611                  ﬁrst\n",
       "606279     1019612            ﬁrst paper\n",
       "537493     1019613              𝒪 memory\n",
       "1012366    1019614                     𝛼\n",
       "371088     1019615                     𝜒\n",
       "\n",
       "[1019615 rows x 2 columns]"
      ]
     },
     "execution_count": 58,
     "metadata": {},
     "output_type": "execute_result"
    }
   ],
   "source": [
    "sorted_df"
   ]
  },
  {
   "cell_type": "code",
   "execution_count": 60,
   "id": "efdaaee5",
   "metadata": {
    "ExecuteTime": {
     "end_time": "2021-10-13T03:45:26.276499Z",
     "start_time": "2021-10-13T03:45:24.833502Z"
    }
   },
   "outputs": [],
   "source": [
    "sorted_df.to_csv('minie-entity-neo4j.csv', index=False)"
   ]
  },
  {
   "cell_type": "markdown",
   "id": "c1cea8d0",
   "metadata": {},
   "source": [
    "Then use /assets/database.sh"
   ]
  },
  {
   "cell_type": "code",
   "execution_count": null,
   "id": "eee17e1a",
   "metadata": {},
   "outputs": [],
   "source": []
  }
 ],
 "metadata": {
  "kernelspec": {
   "display_name": "Python 3 (ipykernel)",
   "language": "python",
   "name": "python3"
  },
  "language_info": {
   "codemirror_mode": {
    "name": "ipython",
    "version": 3
   },
   "file_extension": ".py",
   "mimetype": "text/x-python",
   "name": "python",
   "nbconvert_exporter": "python",
   "pygments_lexer": "ipython3",
   "version": "3.9.5"
  },
  "varInspector": {
   "cols": {
    "lenName": 16,
    "lenType": 16,
    "lenVar": 40
   },
   "kernels_config": {
    "python": {
     "delete_cmd_postfix": "",
     "delete_cmd_prefix": "del ",
     "library": "var_list.py",
     "varRefreshCmd": "print(var_dic_list())"
    },
    "r": {
     "delete_cmd_postfix": ") ",
     "delete_cmd_prefix": "rm(",
     "library": "var_list.r",
     "varRefreshCmd": "cat(var_dic_list()) "
    }
   },
   "position": {
    "height": "460px",
    "left": "1540px",
    "right": "20px",
    "top": "128px",
    "width": "350px"
   },
   "types_to_exclude": [
    "module",
    "function",
    "builtin_function_or_method",
    "instance",
    "_Feature"
   ],
   "window_display": true
  }
 },
 "nbformat": 4,
 "nbformat_minor": 5
}
