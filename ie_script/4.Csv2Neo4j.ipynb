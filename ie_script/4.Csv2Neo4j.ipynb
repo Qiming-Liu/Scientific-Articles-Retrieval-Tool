{
 "cells": [
  {
   "cell_type": "code",
   "execution_count": 1,
   "id": "78ccfeba",
   "metadata": {
    "ExecuteTime": {
     "end_time": "2021-10-16T16:28:52.366629Z",
     "start_time": "2021-10-16T16:28:52.134634Z"
    }
   },
   "outputs": [],
   "source": [
    "import os\n",
    "import pandas as pd\n",
    "import numpy as np\n",
    "import json\n",
    "import string\n",
    "import re\n",
    "from tqdm import tqdm\n",
    "import pandas as pd\n",
    "import glob\n",
    "import pickle"
   ]
  },
  {
   "cell_type": "markdown",
   "id": "7c1b3489",
   "metadata": {},
   "source": [
    "Merge csv"
   ]
  },
  {
   "cell_type": "code",
   "execution_count": 14,
   "id": "ae62205e",
   "metadata": {
    "ExecuteTime": {
     "end_time": "2021-10-12T22:32:37.238026Z",
     "start_time": "2021-10-12T22:32:17.955027Z"
    }
   },
   "outputs": [],
   "source": [
    "all_files = glob.glob(os.path.join(\"./result_minie/a*r.csv\"))\n",
    "combined_csv = pd.concat([pd.read_csv(f) for f in all_files ])\n",
    "combined_csv.to_csv(\"./result_minie/abstract.csv\", index=False)"
   ]
  },
  {
   "cell_type": "markdown",
   "id": "ee83b028",
   "metadata": {},
   "source": [
    "Remove"
   ]
  },
  {
   "cell_type": "code",
   "execution_count": 2,
   "id": "c3ad2d0c",
   "metadata": {
    "ExecuteTime": {
     "end_time": "2021-10-16T05:33:57.738147Z",
     "start_time": "2021-10-16T05:33:43.013877Z"
    }
   },
   "outputs": [],
   "source": [
    "df = pd.read_csv(\"./result_minie/abstract.csv\")\n",
    "sorted_df = df.sort_values(\"subject\")"
   ]
  },
  {
   "cell_type": "code",
   "execution_count": 3,
   "id": "6a959267",
   "metadata": {
    "ExecuteTime": {
     "end_time": "2021-10-16T05:33:57.786146Z",
     "start_time": "2021-10-16T05:33:57.772146Z"
    }
   },
   "outputs": [
    {
     "data": {
      "text/html": [
       "<div>\n",
       "<style scoped>\n",
       "    .dataframe tbody tr th:only-of-type {\n",
       "        vertical-align: middle;\n",
       "    }\n",
       "\n",
       "    .dataframe tbody tr th {\n",
       "        vertical-align: top;\n",
       "    }\n",
       "\n",
       "    .dataframe thead th {\n",
       "        text-align: right;\n",
       "    }\n",
       "</style>\n",
       "<table border=\"1\" class=\"dataframe\">\n",
       "  <thead>\n",
       "    <tr style=\"text-align: right;\">\n",
       "      <th></th>\n",
       "      <th>subject</th>\n",
       "      <th>relation</th>\n",
       "      <th>object</th>\n",
       "    </tr>\n",
       "  </thead>\n",
       "  <tbody>\n",
       "    <tr>\n",
       "      <th>5757675</th>\n",
       "      <td>#</td>\n",
       "      <td>were elevated in</td>\n",
       "      <td>deceased patients</td>\n",
       "    </tr>\n",
       "    <tr>\n",
       "      <th>5757674</th>\n",
       "      <td>#</td>\n",
       "      <td>were</td>\n",
       "      <td>elevated</td>\n",
       "    </tr>\n",
       "    <tr>\n",
       "      <th>2762704</th>\n",
       "      <td>#</td>\n",
       "      <td>is</td>\n",
       "      <td>clinicaltrials.gov</td>\n",
       "    </tr>\n",
       "    <tr>\n",
       "      <th>379823</th>\n",
       "      <td># 7131</td>\n",
       "      <td>be compared to</td>\n",
       "      <td># QUANT_O_1 in usual care group with QUANT_O_2...</td>\n",
       "    </tr>\n",
       "    <tr>\n",
       "      <th>50381</th>\n",
       "      <td># QUANT_S_1</td>\n",
       "      <td>is</td>\n",
       "      <td>QUANT_O_1</td>\n",
       "    </tr>\n",
       "  </tbody>\n",
       "</table>\n",
       "</div>"
      ],
      "text/plain": [
       "             subject          relation  \\\n",
       "5757675            #  were elevated in   \n",
       "5757674            #              were   \n",
       "2762704            #                is   \n",
       "379823        # 7131    be compared to   \n",
       "50381    # QUANT_S_1                is   \n",
       "\n",
       "                                                    object  \n",
       "5757675                                  deceased patients  \n",
       "5757674                                           elevated  \n",
       "2762704                                 clinicaltrials.gov  \n",
       "379823   # QUANT_O_1 in usual care group with QUANT_O_2...  \n",
       "50381                                            QUANT_O_1  "
      ]
     },
     "execution_count": 3,
     "metadata": {},
     "output_type": "execute_result"
    }
   ],
   "source": [
    "sorted_df.head()"
   ]
  },
  {
   "cell_type": "code",
   "execution_count": 4,
   "id": "7c37f09d",
   "metadata": {
    "ExecuteTime": {
     "end_time": "2021-10-16T05:33:57.832562Z",
     "start_time": "2021-10-16T05:33:57.818150Z"
    }
   },
   "outputs": [],
   "source": [
    "def isalnum(text):\n",
    "    return text.replace(\" \", \"\").replace(\"-\", \"\").replace(\"_\", \"\").isalnum()"
   ]
  },
  {
   "cell_type": "code",
   "execution_count": 5,
   "id": "3e0216c1",
   "metadata": {
    "ExecuteTime": {
     "end_time": "2021-10-16T05:33:57.880206Z",
     "start_time": "2021-10-16T05:33:57.866562Z"
    }
   },
   "outputs": [],
   "source": [
    "def isNaN(num):\n",
    "    return num != num"
   ]
  },
  {
   "cell_type": "code",
   "execution_count": 6,
   "id": "f0a274f7",
   "metadata": {
    "ExecuteTime": {
     "end_time": "2021-10-16T05:33:57.927206Z",
     "start_time": "2021-10-16T05:33:57.912207Z"
    }
   },
   "outputs": [],
   "source": [
    "def same(row1, row2):\n",
    "    return row1.subject == row2.subject and row1.relation == row2.relation and row1.object == row2.object"
   ]
  },
  {
   "cell_type": "code",
   "execution_count": 7,
   "id": "cced8d9f",
   "metadata": {
    "ExecuteTime": {
     "end_time": "2021-10-16T05:43:21.977383Z",
     "start_time": "2021-10-16T05:33:57.959746Z"
    },
    "scrolled": true
   },
   "outputs": [
    {
     "name": "stderr",
     "output_type": "stream",
     "text": [
      "100%|█████████████████████████████████████████████████████████████████████| 6210457/6210457 [09:23<00:00, 11011.65it/s]\n"
     ]
    }
   ],
   "source": [
    "last_row = sorted_df.iloc[1]\n",
    "result = []\n",
    "for i in tqdm(range(len(sorted_df.index))):\n",
    "    row = sorted_df.iloc[i]\n",
    "    # remove NaN\n",
    "    if not isNaN(row.subject) and not isNaN(row.object):\n",
    "        # remove special symbol\n",
    "        if isalnum(row.subject) and isalnum(row.object):\n",
    "            # remove the entities longer than 3 words\n",
    "            if len(row.subject.split()) <4 and len(row.object.split()) <4:\n",
    "                # no single label word subject\n",
    "                if not (len(row.subject.split()) == 1 and row.subject.startswith(\"QUANT\")):\n",
    "                    # no single label word object\n",
    "                    if not (len(row.object.split()) == 1 and row.object.startswith(\"QUANT\")):\n",
    "                        # different from the previous line\n",
    "                        if not same(row, last_row):\n",
    "                            last_row = row\n",
    "                            result.append(row)"
   ]
  },
  {
   "cell_type": "code",
   "execution_count": 8,
   "id": "b5a4145b",
   "metadata": {
    "ExecuteTime": {
     "end_time": "2021-10-16T05:48:11.827073Z",
     "start_time": "2021-10-16T05:47:17.084975Z"
    }
   },
   "outputs": [],
   "source": [
    "# skippable\n",
    "pickle.dump(result, open('./result_minie/abstract_cleaned.sav', 'wb'))"
   ]
  },
  {
   "cell_type": "markdown",
   "id": "5c8c4bd3",
   "metadata": {},
   "source": [
    "SAV to CSV"
   ]
  },
  {
   "cell_type": "code",
   "execution_count": 2,
   "id": "44bd050e",
   "metadata": {
    "ExecuteTime": {
     "end_time": "2021-10-16T05:58:45.809315Z",
     "start_time": "2021-10-16T05:54:32.908488Z"
    }
   },
   "outputs": [],
   "source": [
    "result = pickle.load(open('./result_minie/abstract_cleaned.sav', 'rb'))"
   ]
  },
  {
   "cell_type": "code",
   "execution_count": 3,
   "id": "4ea10121",
   "metadata": {
    "ExecuteTime": {
     "end_time": "2021-10-16T06:22:23.057754Z",
     "start_time": "2021-10-16T06:21:21.250758Z"
    }
   },
   "outputs": [],
   "source": [
    "results = pd.DataFrame(result)\n",
    "results.to_csv('minie-relat.csv', index=False)"
   ]
  },
  {
   "cell_type": "markdown",
   "id": "82802939",
   "metadata": {},
   "source": [
    "Create entity"
   ]
  },
  {
   "cell_type": "code",
   "execution_count": 2,
   "id": "4a50365a",
   "metadata": {
    "ExecuteTime": {
     "end_time": "2021-10-16T06:25:19.487827Z",
     "start_time": "2021-10-16T06:25:16.943913Z"
    }
   },
   "outputs": [],
   "source": [
    "df = pd.read_csv(\"./minie-relat.csv\")"
   ]
  },
  {
   "cell_type": "code",
   "execution_count": 3,
   "id": "277c3668",
   "metadata": {
    "ExecuteTime": {
     "end_time": "2021-10-16T06:25:22.872685Z",
     "start_time": "2021-10-16T06:25:20.361688Z"
    }
   },
   "outputs": [],
   "source": [
    "set_1 = set(df['subject'])\n",
    "set_2 = set(df['object'])\n",
    "set_entityies = list(set_1) + list(set_2 - set_1)\n",
    "results = pd.DataFrame(list(set_entityies))\n",
    "results.columns = [\"entity_name\"]\n",
    "sorted_df = results.sort_values(\"entity_name\")\n",
    "sorted_df['entity_id'] = range(1, len(sorted_df) + 1)"
   ]
  },
  {
   "cell_type": "code",
   "execution_count": 4,
   "id": "6cb6aaf2",
   "metadata": {
    "ExecuteTime": {
     "end_time": "2021-10-16T06:25:25.055346Z",
     "start_time": "2021-10-16T06:25:25.003100Z"
    }
   },
   "outputs": [],
   "source": [
    "order = ['entity_id','entity_name']\n",
    "sorted_df = sorted_df[order]"
   ]
  },
  {
   "cell_type": "code",
   "execution_count": 5,
   "id": "08f19728",
   "metadata": {
    "ExecuteTime": {
     "end_time": "2021-10-16T06:25:26.389348Z",
     "start_time": "2021-10-16T06:25:26.295348Z"
    }
   },
   "outputs": [
    {
     "data": {
      "text/html": [
       "<div>\n",
       "<style scoped>\n",
       "    .dataframe tbody tr th:only-of-type {\n",
       "        vertical-align: middle;\n",
       "    }\n",
       "\n",
       "    .dataframe tbody tr th {\n",
       "        vertical-align: top;\n",
       "    }\n",
       "\n",
       "    .dataframe thead th {\n",
       "        text-align: right;\n",
       "    }\n",
       "</style>\n",
       "<table border=\"1\" class=\"dataframe\">\n",
       "  <thead>\n",
       "    <tr style=\"text-align: right;\">\n",
       "      <th></th>\n",
       "      <th>entity_id</th>\n",
       "      <th>entity_name</th>\n",
       "    </tr>\n",
       "  </thead>\n",
       "  <tbody>\n",
       "    <tr>\n",
       "      <th>381248</th>\n",
       "      <td>1</td>\n",
       "      <td>-RSB-</td>\n",
       "    </tr>\n",
       "    <tr>\n",
       "      <th>64389</th>\n",
       "      <td>2</td>\n",
       "      <td>-RSB- apelin-13</td>\n",
       "    </tr>\n",
       "    <tr>\n",
       "      <th>237874</th>\n",
       "      <td>3</td>\n",
       "      <td>-RSB- concentrations</td>\n",
       "    </tr>\n",
       "    <tr>\n",
       "      <th>949897</th>\n",
       "      <td>4</td>\n",
       "      <td>-RSB- existence</td>\n",
       "    </tr>\n",
       "    <tr>\n",
       "      <th>935653</th>\n",
       "      <td>5</td>\n",
       "      <td>-RSB- famous herb</td>\n",
       "    </tr>\n",
       "    <tr>\n",
       "      <th>...</th>\n",
       "      <td>...</td>\n",
       "      <td>...</td>\n",
       "    </tr>\n",
       "    <tr>\n",
       "      <th>50382</th>\n",
       "      <td>1004383</td>\n",
       "      <td>ﬁndings</td>\n",
       "    </tr>\n",
       "    <tr>\n",
       "      <th>387115</th>\n",
       "      <td>1004384</td>\n",
       "      <td>ﬁrst</td>\n",
       "    </tr>\n",
       "    <tr>\n",
       "      <th>552753</th>\n",
       "      <td>1004385</td>\n",
       "      <td>ﬁrst paper</td>\n",
       "    </tr>\n",
       "    <tr>\n",
       "      <th>939301</th>\n",
       "      <td>1004386</td>\n",
       "      <td>𝒪 memory</td>\n",
       "    </tr>\n",
       "    <tr>\n",
       "      <th>609102</th>\n",
       "      <td>1004387</td>\n",
       "      <td>𝜒</td>\n",
       "    </tr>\n",
       "  </tbody>\n",
       "</table>\n",
       "<p>1004387 rows × 2 columns</p>\n",
       "</div>"
      ],
      "text/plain": [
       "        entity_id           entity_name\n",
       "381248          1                 -RSB-\n",
       "64389           2       -RSB- apelin-13\n",
       "237874          3  -RSB- concentrations\n",
       "949897          4       -RSB- existence\n",
       "935653          5     -RSB- famous herb\n",
       "...           ...                   ...\n",
       "50382     1004383               ﬁndings\n",
       "387115    1004384                  ﬁrst\n",
       "552753    1004385            ﬁrst paper\n",
       "939301    1004386              𝒪 memory\n",
       "609102    1004387                     𝜒\n",
       "\n",
       "[1004387 rows x 2 columns]"
      ]
     },
     "execution_count": 5,
     "metadata": {},
     "output_type": "execute_result"
    }
   ],
   "source": [
    "sorted_df"
   ]
  },
  {
   "cell_type": "code",
   "execution_count": 6,
   "id": "efdaaee5",
   "metadata": {
    "ExecuteTime": {
     "end_time": "2021-10-16T06:25:29.120347Z",
     "start_time": "2021-10-16T06:25:27.705348Z"
    }
   },
   "outputs": [],
   "source": [
    "sorted_df.to_csv('minie-entity.csv', index=False)"
   ]
  },
  {
   "cell_type": "markdown",
   "id": "68942bb6",
   "metadata": {},
   "source": [
    "Link entity_id"
   ]
  },
  {
   "cell_type": "code",
   "execution_count": 3,
   "id": "4bffe5e0",
   "metadata": {
    "ExecuteTime": {
     "end_time": "2021-10-16T16:13:27.747589Z",
     "start_time": "2021-10-16T16:13:24.353593Z"
    }
   },
   "outputs": [],
   "source": [
    "relation = pd.read_csv(\"./minie-relat.csv\")\n",
    "entity = pd.read_csv(\"./minie-entity.csv\")"
   ]
  },
  {
   "cell_type": "code",
   "execution_count": 3,
   "id": "210b771b",
   "metadata": {
    "ExecuteTime": {
     "end_time": "2021-10-16T08:06:18.784870Z",
     "start_time": "2021-10-16T08:04:29.982658Z"
    }
   },
   "outputs": [
    {
     "name": "stderr",
     "output_type": "stream",
     "text": [
      "100%|█████████████████████████████████████████████████████████████████████| 1004387/1004387 [01:10<00:00, 14166.79it/s]\n"
     ]
    }
   ],
   "source": [
    "entity_dic = {}\n",
    "for i in tqdm(range(len(entity.index))):\n",
    "    row = entity.iloc[i]\n",
    "    entity_dic[row['entity_name']] = row['entity_id']\n",
    "relation['subject_id'] = relation.apply(lambda row: entity_dic[row['subject']],axis=1)\n",
    "relation['object_id'] = relation.apply(lambda row: entity_dic[row['object']],axis=1)\n",
    "order = ['subject_id','subject','relation','object_id','object']\n",
    "relation = relation[order]"
   ]
  },
  {
   "cell_type": "code",
   "execution_count": 11,
   "id": "069cbd17",
   "metadata": {
    "ExecuteTime": {
     "end_time": "2021-10-16T15:32:37.406949Z",
     "start_time": "2021-10-16T15:32:37.396951Z"
    },
    "scrolled": false
   },
   "outputs": [
    {
     "data": {
      "text/plain": [
       "Index(['entity_id', 'entity_name'], dtype='object')"
      ]
     },
     "execution_count": 11,
     "metadata": {},
     "output_type": "execute_result"
    }
   ],
   "source": [
    "entity.columns"
   ]
  },
  {
   "cell_type": "code",
   "execution_count": 10,
   "id": "72577330",
   "metadata": {
    "ExecuteTime": {
     "end_time": "2021-10-16T15:32:32.198345Z",
     "start_time": "2021-10-16T15:32:32.185341Z"
    }
   },
   "outputs": [
    {
     "data": {
      "text/plain": [
       "Index(['subject_id', 'subject', 'relation', 'object_id', 'object'], dtype='object')"
      ]
     },
     "execution_count": 10,
     "metadata": {},
     "output_type": "execute_result"
    }
   ],
   "source": [
    "relation.columns"
   ]
  },
  {
   "cell_type": "code",
   "execution_count": 12,
   "id": "2da573f2",
   "metadata": {
    "ExecuteTime": {
     "end_time": "2021-10-16T15:34:16.402750Z",
     "start_time": "2021-10-16T15:34:16.384753Z"
    }
   },
   "outputs": [],
   "source": [
    "entity.columns = ['entity_id:ID', 'entity_name']\n",
    "relation.columns = ['subject_id:START_ID', 'subject', 'relation', 'object_id:END_ID', 'object']"
   ]
  },
  {
   "cell_type": "code",
   "execution_count": 4,
   "id": "74140d93",
   "metadata": {
    "ExecuteTime": {
     "end_time": "2021-10-16T16:14:58.767274Z",
     "start_time": "2021-10-16T16:14:58.741260Z"
    }
   },
   "outputs": [],
   "source": [
    "relation['relation_type:TYPE'] = 'minie'"
   ]
  },
  {
   "cell_type": "code",
   "execution_count": 14,
   "id": "0207fafd",
   "metadata": {
    "ExecuteTime": {
     "end_time": "2021-10-16T15:35:59.785270Z",
     "start_time": "2021-10-16T15:35:52.009271Z"
    }
   },
   "outputs": [],
   "source": [
    "entity.to_csv('minie-entity.csv', index=False)\n",
    "relation.to_csv('minie-relation.csv', index=False)"
   ]
  },
  {
   "cell_type": "markdown",
   "id": "c1cea8d0",
   "metadata": {},
   "source": [
    "## Create neo4j database"
   ]
  },
  {
   "cell_type": "markdown",
   "id": "e5d31a0c",
   "metadata": {},
   "source": [
    "```shell\n",
    "docker run --name kg-minie --env NEO4J_dbms_connector_http_advertised__address=\"localhost:7474\" --env NEO4J_dbms_connector_bolt_advertised__address=\"localhost:7687\" -p7474:7474 -p7687:7687 -d -v D:/neo4j-minie/data:/data -v D:/neo4j-minie/logs:/logs -v D:/neo4j-minie/import:/var/lib/neo4j/import -v D:/neo4j-minie/plugins:/var/lib/neo4j/plugins -v D:/neo4j-minie/conf:/var/lib/neo4j/conf --env NEO4J_AUTH=neo4j/1234 neo4j\n",
    "```\n",
    "> windows"
   ]
  },
  {
   "cell_type": "markdown",
   "id": "b767422a",
   "metadata": {},
   "source": [
    "```shell\n",
    "docker run --name kg-minie -p7474:7474 -p7687:7687 -d -v /home/neo4j-minie/data:/data -v /home/neo4j-minie/logs:/logs -v /home/neo4j-minie/import:/var/lib/neo4j/import -v /home/neo4j-minie/plugins:/var/lib/neo4j/plugins -v /home/neo4j-minie/conf:/var/lib/neo4j/conf --env NEO4J_AUTH=neo4j/1234 neo4j\n",
    "```\n",
    "> linux"
   ]
  },
  {
   "cell_type": "markdown",
   "id": "a00333a9",
   "metadata": {},
   "source": [
    "> 1. import csv, conf\n",
    "> 2. restart neo4j\n",
    "> 3. neo4j admin import"
   ]
  },
  {
   "cell_type": "markdown",
   "id": "b303960b",
   "metadata": {},
   "source": [
    "neo4j admin import"
   ]
  },
  {
   "cell_type": "markdown",
   "id": "a2d411b6",
   "metadata": {
    "ExecuteTime": {
     "end_time": "2021-10-16T15:40:56.937386Z",
     "start_time": "2021-10-16T15:40:56.934386Z"
    }
   },
   "source": [
    "> Terminal:"
   ]
  },
  {
   "cell_type": "markdown",
   "id": "a378ea77",
   "metadata": {},
   "source": [
    "```shell\n",
    "bin/neo4j-admin import --database=kg-minie --nodes=import/minie-entity.csv --relationships=import/minie-relation.csv\n",
    "```"
   ]
  },
  {
   "cell_type": "markdown",
   "id": "7edd7ab7",
   "metadata": {},
   "source": [
    "> Old script backup (Skip)\n",
    "```cypher\n",
    "CREATE CONSTRAINT entityIdConstraint ON (ent:Entity) ASSERT ent.entity_id IS UNIQUE\n",
    "```\n",
    "```cypher\n",
    "LOAD CSV WITH HEADERS FROM \"file:///minie-entity.csv\" AS csvLine\n",
    "Merge (:Entity {entity_id: toInteger(csvLine.entity_id), entity_name: csvLine.entity_name})\n",
    "```\n",
    "```cypher\n",
    "LOAD CSV WITH HEADERS FROM \"file:///minie-relation.csv\" AS csvLine\n",
    "MATCH (s:Entity {entity_id: toInteger(csvLine.subject_id), entity_name:csvLine.subject}), (o:Entity {entity_id: toInteger(csvLine.object_id), entity_name:csvLine.object})\n",
    "CALL apoc.create.relationship(s, csvLine.relation, {type:'relation_type'}, o)\n",
    "YIELD rel\n",
    "RETURN rel\n",
    "```"
   ]
  },
  {
   "cell_type": "code",
   "execution_count": null,
   "id": "c79496bd",
   "metadata": {},
   "outputs": [],
   "source": []
  }
 ],
 "metadata": {
  "kernelspec": {
   "display_name": "Python 3 (ipykernel)",
   "language": "python",
   "name": "python3"
  },
  "language_info": {
   "codemirror_mode": {
    "name": "ipython",
    "version": 3
   },
   "file_extension": ".py",
   "mimetype": "text/x-python",
   "name": "python",
   "nbconvert_exporter": "python",
   "pygments_lexer": "ipython3",
   "version": "3.9.5"
  },
  "varInspector": {
   "cols": {
    "lenName": 16,
    "lenType": 16,
    "lenVar": 40
   },
   "kernels_config": {
    "python": {
     "delete_cmd_postfix": "",
     "delete_cmd_prefix": "del ",
     "library": "var_list.py",
     "varRefreshCmd": "print(var_dic_list())"
    },
    "r": {
     "delete_cmd_postfix": ") ",
     "delete_cmd_prefix": "rm(",
     "library": "var_list.r",
     "varRefreshCmd": "cat(var_dic_list()) "
    }
   },
   "position": {
    "height": "791px",
    "left": "1115px",
    "right": "20px",
    "top": "171px",
    "width": "800px"
   },
   "types_to_exclude": [
    "module",
    "function",
    "builtin_function_or_method",
    "instance",
    "_Feature"
   ],
   "window_display": false
  }
 },
 "nbformat": 4,
 "nbformat_minor": 5
}
