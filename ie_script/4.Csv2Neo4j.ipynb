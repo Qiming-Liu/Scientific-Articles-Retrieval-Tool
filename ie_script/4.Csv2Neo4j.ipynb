{
 "cells": [
  {
   "cell_type": "code",
   "execution_count": 1,
   "id": "78ccfeba",
   "metadata": {
    "ExecuteTime": {
     "end_time": "2021-10-13T01:45:28.279294Z",
     "start_time": "2021-10-13T01:45:27.860204Z"
    }
   },
   "outputs": [],
   "source": [
    "import os\n",
    "import pandas as pd\n",
    "import numpy as np\n",
    "import json\n",
    "import string\n",
    "import re\n",
    "from tqdm import tqdm\n",
    "import pandas as pd\n",
    "import glob\n",
    "import pickle"
   ]
  },
  {
   "cell_type": "markdown",
   "id": "7c1b3489",
   "metadata": {},
   "source": [
    "Merge csv"
   ]
  },
  {
   "cell_type": "code",
   "execution_count": 14,
   "id": "ae62205e",
   "metadata": {
    "ExecuteTime": {
     "end_time": "2021-10-12T22:32:37.238026Z",
     "start_time": "2021-10-12T22:32:17.955027Z"
    }
   },
   "outputs": [],
   "source": [
    "all_files = glob.glob(os.path.join(\"./result_minie/a*r.csv\"))\n",
    "combined_csv = pd.concat([pd.read_csv(f) for f in all_files ])\n",
    "combined_csv.to_csv(\"./result_minie/abstract.csv\", index=False)"
   ]
  },
  {
   "cell_type": "markdown",
   "id": "ee83b028",
   "metadata": {},
   "source": [
    "Remove"
   ]
  },
  {
   "cell_type": "code",
   "execution_count": 2,
   "id": "c3ad2d0c",
   "metadata": {
    "ExecuteTime": {
     "end_time": "2021-10-13T00:25:23.483409Z",
     "start_time": "2021-10-13T00:25:08.890414Z"
    }
   },
   "outputs": [],
   "source": [
    "df = pd.read_csv(\"./result_minie/abstract.csv\")\n",
    "sorted_df = df.sort_values(\"subject\")"
   ]
  },
  {
   "cell_type": "code",
   "execution_count": 3,
   "id": "6a959267",
   "metadata": {
    "ExecuteTime": {
     "end_time": "2021-10-13T00:25:23.531410Z",
     "start_time": "2021-10-13T00:25:23.516410Z"
    }
   },
   "outputs": [
    {
     "data": {
      "text/html": [
       "<div>\n",
       "<style scoped>\n",
       "    .dataframe tbody tr th:only-of-type {\n",
       "        vertical-align: middle;\n",
       "    }\n",
       "\n",
       "    .dataframe tbody tr th {\n",
       "        vertical-align: top;\n",
       "    }\n",
       "\n",
       "    .dataframe thead th {\n",
       "        text-align: right;\n",
       "    }\n",
       "</style>\n",
       "<table border=\"1\" class=\"dataframe\">\n",
       "  <thead>\n",
       "    <tr style=\"text-align: right;\">\n",
       "      <th></th>\n",
       "      <th>subject</th>\n",
       "      <th>relation</th>\n",
       "      <th>object</th>\n",
       "    </tr>\n",
       "  </thead>\n",
       "  <tbody>\n",
       "    <tr>\n",
       "      <th>5757675</th>\n",
       "      <td>#</td>\n",
       "      <td>were elevated in</td>\n",
       "      <td>deceased patients</td>\n",
       "    </tr>\n",
       "    <tr>\n",
       "      <th>5757674</th>\n",
       "      <td>#</td>\n",
       "      <td>were</td>\n",
       "      <td>elevated</td>\n",
       "    </tr>\n",
       "    <tr>\n",
       "      <th>2762704</th>\n",
       "      <td>#</td>\n",
       "      <td>is</td>\n",
       "      <td>clinicaltrials.gov</td>\n",
       "    </tr>\n",
       "    <tr>\n",
       "      <th>379823</th>\n",
       "      <td># 7131</td>\n",
       "      <td>be compared to</td>\n",
       "      <td># QUANT_O_1 in usual care group with QUANT_O_2...</td>\n",
       "    </tr>\n",
       "    <tr>\n",
       "      <th>50381</th>\n",
       "      <td># QUANT_S_1</td>\n",
       "      <td>is</td>\n",
       "      <td>QUANT_O_1</td>\n",
       "    </tr>\n",
       "  </tbody>\n",
       "</table>\n",
       "</div>"
      ],
      "text/plain": [
       "             subject          relation  \\\n",
       "5757675            #  were elevated in   \n",
       "5757674            #              were   \n",
       "2762704            #                is   \n",
       "379823        # 7131    be compared to   \n",
       "50381    # QUANT_S_1                is   \n",
       "\n",
       "                                                    object  \n",
       "5757675                                  deceased patients  \n",
       "5757674                                           elevated  \n",
       "2762704                                 clinicaltrials.gov  \n",
       "379823   # QUANT_O_1 in usual care group with QUANT_O_2...  \n",
       "50381                                            QUANT_O_1  "
      ]
     },
     "execution_count": 3,
     "metadata": {},
     "output_type": "execute_result"
    }
   ],
   "source": [
    "sorted_df.head()"
   ]
  },
  {
   "cell_type": "code",
   "execution_count": 5,
   "id": "7c37f09d",
   "metadata": {
    "ExecuteTime": {
     "end_time": "2021-10-13T00:25:44.468775Z",
     "start_time": "2021-10-13T00:25:44.453776Z"
    }
   },
   "outputs": [],
   "source": [
    "def isalnum(text):\n",
    "    return text.replace(\" \", \"\").replace(\"-\", \"\").replace(\"_\", \"\").isalnum()"
   ]
  },
  {
   "cell_type": "code",
   "execution_count": 6,
   "id": "3e0216c1",
   "metadata": {
    "ExecuteTime": {
     "end_time": "2021-10-13T00:25:45.017244Z",
     "start_time": "2021-10-13T00:25:45.000247Z"
    }
   },
   "outputs": [],
   "source": [
    "def isNaN(num):\n",
    "    return num != num"
   ]
  },
  {
   "cell_type": "code",
   "execution_count": 22,
   "id": "f0a274f7",
   "metadata": {
    "ExecuteTime": {
     "end_time": "2021-10-13T00:47:35.282895Z",
     "start_time": "2021-10-13T00:47:35.277894Z"
    }
   },
   "outputs": [],
   "source": [
    "def same(row1, row2):\n",
    "    return row1.subject == row2.subject and row1.relation == row2.relation and row1.object == row2.object"
   ]
  },
  {
   "cell_type": "code",
   "execution_count": 23,
   "id": "cced8d9f",
   "metadata": {
    "ExecuteTime": {
     "end_time": "2021-10-13T00:56:09.666512Z",
     "start_time": "2021-10-13T00:47:35.869494Z"
    },
    "scrolled": false
   },
   "outputs": [
    {
     "name": "stderr",
     "output_type": "stream",
     "text": [
      "100%|█████████████████████████████████████████████████████████████████████| 6210457/6210457 [08:33<00:00, 12087.56it/s]\n"
     ]
    }
   ],
   "source": [
    "last_row = sorted_df.iloc[1]\n",
    "result = []\n",
    "for i in tqdm(range(len(sorted_df.index))):\n",
    "    row = sorted_df.iloc[i]\n",
    "    # remove NaN\n",
    "    if not isNaN(row.subject) and not isNaN(row.object):\n",
    "        # remove special symbol\n",
    "        if isalnum(row.subject) and isalnum(row.object):\n",
    "            # remove the entities longer than 3 words\n",
    "            if len(row.subject.split()) <4 and len(row.object.split()) <4:\n",
    "                # different from the previous line\n",
    "                if not same(row, last_row):\n",
    "                    last_row = row\n",
    "                    result.append(row)"
   ]
  },
  {
   "cell_type": "code",
   "execution_count": null,
   "id": "4ad62b62",
   "metadata": {},
   "outputs": [],
   "source": [
    "pickle.dump(result, open('./result_minie/abstract_cleaned.sav', 'wb'))"
   ]
  },
  {
   "cell_type": "markdown",
   "id": "9f42f7b8",
   "metadata": {},
   "source": [
    "SAV to CSV"
   ]
  },
  {
   "cell_type": "code",
   "execution_count": 2,
   "id": "f6db7461",
   "metadata": {
    "ExecuteTime": {
     "end_time": "2021-10-13T01:53:13.458901Z",
     "start_time": "2021-10-13T01:47:13.994883Z"
    }
   },
   "outputs": [],
   "source": [
    "result = pickle.load(open('./result_minie/abstract_cleaned.sav', 'rb'))"
   ]
  },
  {
   "cell_type": "code",
   "execution_count": 3,
   "id": "5f73b727",
   "metadata": {
    "ExecuteTime": {
     "end_time": "2021-10-13T02:05:44.062458Z",
     "start_time": "2021-10-13T02:05:44.020621Z"
    }
   },
   "outputs": [
    {
     "data": {
      "text/plain": [
       "subject     -RSB-\n",
       "relation       is\n",
       "object       h3n2\n",
       "Name: 107441, dtype: object"
      ]
     },
     "execution_count": 3,
     "metadata": {},
     "output_type": "execute_result"
    }
   ],
   "source": [
    "result[0]"
   ]
  },
  {
   "cell_type": "code",
   "execution_count": 4,
   "id": "3cc8e65a",
   "metadata": {
    "ExecuteTime": {
     "end_time": "2021-10-13T02:20:38.673835Z",
     "start_time": "2021-10-13T02:18:09.217226Z"
    },
    "scrolled": true
   },
   "outputs": [],
   "source": [
    "results = pd.DataFrame(result)"
   ]
  },
  {
   "cell_type": "code",
   "execution_count": 5,
   "id": "4ea10121",
   "metadata": {
    "ExecuteTime": {
     "end_time": "2021-10-13T02:33:14.259417Z",
     "start_time": "2021-10-13T02:33:06.193755Z"
    }
   },
   "outputs": [],
   "source": [
    "results.to_csv('minie-post-re.csv', index=False)"
   ]
  },
  {
   "cell_type": "code",
   "execution_count": null,
   "id": "4a50365a",
   "metadata": {},
   "outputs": [],
   "source": []
  }
 ],
 "metadata": {
  "kernelspec": {
   "display_name": "Python 3 (ipykernel)",
   "language": "python",
   "name": "python3"
  },
  "language_info": {
   "codemirror_mode": {
    "name": "ipython",
    "version": 3
   },
   "file_extension": ".py",
   "mimetype": "text/x-python",
   "name": "python",
   "nbconvert_exporter": "python",
   "pygments_lexer": "ipython3",
   "version": "3.9.5"
  },
  "varInspector": {
   "cols": {
    "lenName": 16,
    "lenType": 16,
    "lenVar": 40
   },
   "kernels_config": {
    "python": {
     "delete_cmd_postfix": "",
     "delete_cmd_prefix": "del ",
     "library": "var_list.py",
     "varRefreshCmd": "print(var_dic_list())"
    },
    "r": {
     "delete_cmd_postfix": ") ",
     "delete_cmd_prefix": "rm(",
     "library": "var_list.r",
     "varRefreshCmd": "cat(var_dic_list()) "
    }
   },
   "position": {
    "height": "460px",
    "left": "1540px",
    "right": "20px",
    "top": "128px",
    "width": "350px"
   },
   "types_to_exclude": [
    "module",
    "function",
    "builtin_function_or_method",
    "instance",
    "_Feature"
   ],
   "window_display": true
  }
 },
 "nbformat": 4,
 "nbformat_minor": 5
}
