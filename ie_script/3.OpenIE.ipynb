{
 "cells": [
  {
   "cell_type": "markdown",
   "id": "32f7e561",
   "metadata": {},
   "source": [
    "### openie from split file"
   ]
  },
  {
   "cell_type": "code",
   "execution_count": 1,
   "id": "e63f4ef7",
   "metadata": {
    "ExecuteTime": {
     "end_time": "2021-10-06T15:35:44.807148Z",
     "start_time": "2021-10-06T15:35:42.579148Z"
    }
   },
   "outputs": [],
   "source": [
    "from stanza.server import CoreNLPClient\n",
    "import pickle\n",
    "import pandas as pd\n",
    "import spacy\n",
    "from tqdm import tqdm\n",
    "\n",
    "nlp = spacy.load('en_core_web_lg')\n",
    "def prepare_text(text, client):\n",
    "    # sentence segmentation\n",
    "    doc=nlp(text) \n",
    "    result=[]\n",
    "    \n",
    "    # openie from every sentence\n",
    "    for sent in list(doc.sents):\n",
    "            sent=str(sent)\n",
    "            sent = sent.rstrip()\n",
    "            \n",
    "            ann = client.annotate(sent,output_format='json')\n",
    "            for sentence in ann['sentences']:\n",
    "                for triple in sentence['openie']:\n",
    "                    if triple:\n",
    "                        result.append({'subject':triple['subject'],'relation': triple[\"relation\"],'object':triple['object']})\n",
    "    return result\n",
    "\n",
    "def process(file_name):\n",
    "    results = []\n",
    "    # read file\n",
    "    var = pickle.load(open('./cleaned_data_split/'+file_name+'.sav', 'rb'))\n",
    "    \n",
    "    # openie all\n",
    "    with CoreNLPClient(be_quite=False, annotators=[\"openie\"], memory='16G', endpoint='http://localhost:1234', threads=12) as client:\n",
    "        for text in tqdm(var):\n",
    "            results += prepare_text(text, client)\n",
    "            \n",
    "    # result save to csv\n",
    "    result = pd.DataFrame(results)\n",
    "    result.to_csv('./result_openie/'+file_name+'r.csv',index=False)"
   ]
  },
  {
   "cell_type": "code",
   "execution_count": 2,
   "id": "0b3fd25b",
   "metadata": {
    "ExecuteTime": {
     "end_time": "2021-10-06T17:41:44.076030Z",
     "start_time": "2021-10-06T15:35:44.871200Z"
    },
    "scrolled": true
   },
   "outputs": [
    {
     "name": "stderr",
     "output_type": "stream",
     "text": [
      "2021-10-07 02:05:44 INFO: Writing properties to tmp file: corenlp_server-8366b1862e134d9f.props\n",
      "2021-10-07 02:05:44 INFO: Starting server with command: java -Xmx16G -cp C:\\Users\\pross\\stanza_corenlp\\* edu.stanford.nlp.pipeline.StanfordCoreNLPServer -port 1234 -timeout 60000 -threads 12 -maxCharLength 100000 -quiet False -serverProperties corenlp_server-8366b1862e134d9f.props -annotators openie -preload -outputFormat serialized\n",
      "100%|██████████████████████████████████████████████████████████████████████████| 16042/16042 [2:05:53<00:00,  2.12it/s]\n"
     ]
    }
   ],
   "source": [
    "process('a0') # a1 a2 a3 ..."
   ]
  }
 ],
 "metadata": {
  "kernelspec": {
   "display_name": "Python 3 (ipykernel)",
   "language": "python",
   "name": "python3"
  },
  "language_info": {
   "codemirror_mode": {
    "name": "ipython",
    "version": 3
   },
   "file_extension": ".py",
   "mimetype": "text/x-python",
   "name": "python",
   "nbconvert_exporter": "python",
   "pygments_lexer": "ipython3",
   "version": "3.9.5"
  },
  "varInspector": {
   "cols": {
    "lenName": 16,
    "lenType": 16,
    "lenVar": 40
   },
   "kernels_config": {
    "python": {
     "delete_cmd_postfix": "",
     "delete_cmd_prefix": "del ",
     "library": "var_list.py",
     "varRefreshCmd": "print(var_dic_list())"
    },
    "r": {
     "delete_cmd_postfix": ") ",
     "delete_cmd_prefix": "rm(",
     "library": "var_list.r",
     "varRefreshCmd": "cat(var_dic_list()) "
    }
   },
   "types_to_exclude": [
    "module",
    "function",
    "builtin_function_or_method",
    "instance",
    "_Feature"
   ],
   "window_display": false
  }
 },
 "nbformat": 4,
 "nbformat_minor": 5
}
