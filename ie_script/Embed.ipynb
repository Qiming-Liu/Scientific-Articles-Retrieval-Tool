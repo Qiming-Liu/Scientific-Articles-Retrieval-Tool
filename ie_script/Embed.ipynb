{
 "cells": [
  {
   "cell_type": "code",
   "execution_count": 1,
   "id": "75f35ca5",
   "metadata": {
    "ExecuteTime": {
     "end_time": "2021-10-13T07:52:57.545202Z",
     "start_time": "2021-10-13T07:52:52.823205Z"
    }
   },
   "outputs": [],
   "source": [
    "import os\n",
    "import pandas as pd\n",
    "import numpy as np\n",
    "import matplotlib.pyplot as plt\n",
    "import pickle\n",
    "from sklearn.metrics.pairwise import cosine_similarity\n",
    "import spacy\n",
    "from spacy.matcher import Matcher\n",
    "import networkx as nx\n",
    "import tensorflow_hub as hub\n",
    "import time\n",
    "from tqdm import tqdm\n",
    "import math\n",
    "import seaborn as sns"
   ]
  },
  {
   "cell_type": "code",
   "execution_count": 2,
   "id": "91ae97f3",
   "metadata": {
    "ExecuteTime": {
     "end_time": "2021-10-13T07:53:08.289202Z",
     "start_time": "2021-10-13T07:52:57.578203Z"
    }
   },
   "outputs": [],
   "source": [
    "pd.set_option('display.max_columns', 300)\n",
    "pd.set_option('display.max_rows', 1000)\n",
    "pd.set_option('display.width', 120)\n",
    "path = os.getcwd()\n",
    "# embed = hub.load(\"https://tfhub.dev/google/universal-sentence-encoder-large/5\")\n",
    "embed = hub.load(path+'\\\\model')"
   ]
  },
  {
   "cell_type": "markdown",
   "id": "9d9ed2be",
   "metadata": {},
   "source": [
    "Vectorisation"
   ]
  },
  {
   "cell_type": "code",
   "execution_count": null,
   "id": "0ef71cae",
   "metadata": {},
   "outputs": [],
   "source": [
    "# ABSTRACT VECTORISATION\n",
    "df = pickle.load(open(path+'\\\\cleaned_data_no_null.sav', 'rb'))\n",
    "abstract_vec = np.zeros(shape=(1, 512))\n",
    "for i in tqdm(range(math.ceil(len(df)/100))):\n",
    "    if (i < math.ceil(len(df)/100)-1):\n",
    "        my_abstract = df.loc[(i*100):((i+1)*100-1), 'abstract']\n",
    "    else:\n",
    "        my_abstract = df.loc[(i*100):len(df), 'abstract']\n",
    "    embed_vectors = embed(my_abstract.values).numpy()\n",
    "    abstract_vec = np.append(abstract_vec, embed_vectors, axis=0)\n",
    "\n",
    "abstract_vec = np.delete(abstract_vec, 0, axis=0)"
   ]
  },
  {
   "cell_type": "code",
   "execution_count": 13,
   "id": "91fc7722",
   "metadata": {
    "ExecuteTime": {
     "end_time": "2021-10-11T21:28:29.392877Z",
     "start_time": "2021-10-11T21:28:28.707485Z"
    }
   },
   "outputs": [],
   "source": [
    "pickle.dump(abstract_vec, open(path+'\\\\abstract_vectors.sav', 'wb'))"
   ]
  },
  {
   "cell_type": "markdown",
   "id": "c85c74fd",
   "metadata": {},
   "source": [
    "Model"
   ]
  },
  {
   "cell_type": "code",
   "execution_count": 4,
   "id": "696badf6",
   "metadata": {
    "ExecuteTime": {
     "end_time": "2021-10-13T04:42:03.023488Z",
     "start_time": "2021-10-13T04:42:02.429490Z"
    },
    "scrolled": true
   },
   "outputs": [],
   "source": [
    "abstract_vec = pickle.load(open(path+'\\\\abstract_vectors.sav', 'rb'))"
   ]
  },
  {
   "cell_type": "code",
   "execution_count": 5,
   "id": "8c2bfd9f",
   "metadata": {
    "ExecuteTime": {
     "end_time": "2021-10-13T04:42:19.173488Z",
     "start_time": "2021-10-13T04:42:15.990490Z"
    }
   },
   "outputs": [],
   "source": [
    "question = \"best covid\"\n",
    "question = pd.Series(question)\n",
    "question_vec = embed(question.values).numpy()"
   ]
  },
  {
   "cell_type": "markdown",
   "id": "743dc453",
   "metadata": {},
   "source": [
    "cosine TODO reduce memory usage 1. Approximate Algorithm or 2. 分步计算"
   ]
  },
  {
   "cell_type": "code",
   "execution_count": 6,
   "id": "9e6a894a",
   "metadata": {
    "ExecuteTime": {
     "end_time": "2021-10-13T04:43:18.638859Z",
     "start_time": "2021-10-13T04:43:18.626858Z"
    }
   },
   "outputs": [
    {
     "data": {
      "text/plain": [
       "160415"
      ]
     },
     "execution_count": 6,
     "metadata": {},
     "output_type": "execute_result"
    }
   ],
   "source": [
    "len(abstract_vec)"
   ]
  },
  {
   "cell_type": "code",
   "execution_count": 14,
   "id": "4fe1ddfa",
   "metadata": {
    "ExecuteTime": {
     "end_time": "2021-10-13T04:58:49.082950Z",
     "start_time": "2021-10-13T04:58:47.557948Z"
    }
   },
   "outputs": [
    {
     "ename": "MemoryError",
     "evalue": "Unable to allocate 192. GiB for an array with shape (160416, 160416) and data type float64",
     "output_type": "error",
     "traceback": [
      "\u001b[1;31m---------------------------------------------------------------------------\u001b[0m",
      "\u001b[1;31mMemoryError\u001b[0m                               Traceback (most recent call last)",
      "\u001b[1;32m~\\AppData\\Local\\Temp/ipykernel_16340/3862470460.py\u001b[0m in \u001b[0;36m<module>\u001b[1;34m\u001b[0m\n\u001b[0;32m      1\u001b[0m \u001b[0membed_vectors\u001b[0m \u001b[1;33m=\u001b[0m \u001b[0mnp\u001b[0m\u001b[1;33m.\u001b[0m\u001b[0mappend\u001b[0m\u001b[1;33m(\u001b[0m\u001b[0mabstract_vec\u001b[0m\u001b[1;33m,\u001b[0m \u001b[0mquestion_vec\u001b[0m\u001b[1;33m,\u001b[0m \u001b[0maxis\u001b[0m\u001b[1;33m=\u001b[0m\u001b[1;36m0\u001b[0m\u001b[1;33m)\u001b[0m\u001b[1;33m\u001b[0m\u001b[1;33m\u001b[0m\u001b[0m\n\u001b[1;32m----> 2\u001b[1;33m \u001b[0msimilarity_matrix\u001b[0m \u001b[1;33m=\u001b[0m \u001b[0mcosine_similarity\u001b[0m\u001b[1;33m(\u001b[0m\u001b[0membed_vectors\u001b[0m\u001b[1;33m)\u001b[0m\u001b[1;33m\u001b[0m\u001b[1;33m\u001b[0m\u001b[0m\n\u001b[0m\u001b[0;32m      3\u001b[0m \u001b[0msimilarity_matrix\u001b[0m\u001b[1;33m\u001b[0m\u001b[1;33m\u001b[0m\u001b[0m\n",
      "\u001b[1;32m~\\scoop\\apps\\miniconda3\\current\\lib\\site-packages\\sklearn\\metrics\\pairwise.py\u001b[0m in \u001b[0;36mcosine_similarity\u001b[1;34m(X, Y, dense_output)\u001b[0m\n\u001b[0;32m   1186\u001b[0m         \u001b[0mY_normalized\u001b[0m \u001b[1;33m=\u001b[0m \u001b[0mnormalize\u001b[0m\u001b[1;33m(\u001b[0m\u001b[0mY\u001b[0m\u001b[1;33m,\u001b[0m \u001b[0mcopy\u001b[0m\u001b[1;33m=\u001b[0m\u001b[1;32mTrue\u001b[0m\u001b[1;33m)\u001b[0m\u001b[1;33m\u001b[0m\u001b[1;33m\u001b[0m\u001b[0m\n\u001b[0;32m   1187\u001b[0m \u001b[1;33m\u001b[0m\u001b[0m\n\u001b[1;32m-> 1188\u001b[1;33m     K = safe_sparse_dot(X_normalized, Y_normalized.T,\n\u001b[0m\u001b[0;32m   1189\u001b[0m                         dense_output=dense_output)\n\u001b[0;32m   1190\u001b[0m \u001b[1;33m\u001b[0m\u001b[0m\n",
      "\u001b[1;32m~\\scoop\\apps\\miniconda3\\current\\lib\\site-packages\\sklearn\\utils\\validation.py\u001b[0m in \u001b[0;36minner_f\u001b[1;34m(*args, **kwargs)\u001b[0m\n\u001b[0;32m     61\u001b[0m             \u001b[0mextra_args\u001b[0m \u001b[1;33m=\u001b[0m \u001b[0mlen\u001b[0m\u001b[1;33m(\u001b[0m\u001b[0margs\u001b[0m\u001b[1;33m)\u001b[0m \u001b[1;33m-\u001b[0m \u001b[0mlen\u001b[0m\u001b[1;33m(\u001b[0m\u001b[0mall_args\u001b[0m\u001b[1;33m)\u001b[0m\u001b[1;33m\u001b[0m\u001b[1;33m\u001b[0m\u001b[0m\n\u001b[0;32m     62\u001b[0m             \u001b[1;32mif\u001b[0m \u001b[0mextra_args\u001b[0m \u001b[1;33m<=\u001b[0m \u001b[1;36m0\u001b[0m\u001b[1;33m:\u001b[0m\u001b[1;33m\u001b[0m\u001b[1;33m\u001b[0m\u001b[0m\n\u001b[1;32m---> 63\u001b[1;33m                 \u001b[1;32mreturn\u001b[0m \u001b[0mf\u001b[0m\u001b[1;33m(\u001b[0m\u001b[1;33m*\u001b[0m\u001b[0margs\u001b[0m\u001b[1;33m,\u001b[0m \u001b[1;33m**\u001b[0m\u001b[0mkwargs\u001b[0m\u001b[1;33m)\u001b[0m\u001b[1;33m\u001b[0m\u001b[1;33m\u001b[0m\u001b[0m\n\u001b[0m\u001b[0;32m     64\u001b[0m \u001b[1;33m\u001b[0m\u001b[0m\n\u001b[0;32m     65\u001b[0m             \u001b[1;31m# extra_args > 0\u001b[0m\u001b[1;33m\u001b[0m\u001b[1;33m\u001b[0m\u001b[1;33m\u001b[0m\u001b[0m\n",
      "\u001b[1;32m~\\scoop\\apps\\miniconda3\\current\\lib\\site-packages\\sklearn\\utils\\extmath.py\u001b[0m in \u001b[0;36msafe_sparse_dot\u001b[1;34m(a, b, dense_output)\u001b[0m\n\u001b[0;32m    150\u001b[0m             \u001b[0mret\u001b[0m \u001b[1;33m=\u001b[0m \u001b[0mnp\u001b[0m\u001b[1;33m.\u001b[0m\u001b[0mdot\u001b[0m\u001b[1;33m(\u001b[0m\u001b[0ma\u001b[0m\u001b[1;33m,\u001b[0m \u001b[0mb\u001b[0m\u001b[1;33m)\u001b[0m\u001b[1;33m\u001b[0m\u001b[1;33m\u001b[0m\u001b[0m\n\u001b[0;32m    151\u001b[0m     \u001b[1;32melse\u001b[0m\u001b[1;33m:\u001b[0m\u001b[1;33m\u001b[0m\u001b[1;33m\u001b[0m\u001b[0m\n\u001b[1;32m--> 152\u001b[1;33m         \u001b[0mret\u001b[0m \u001b[1;33m=\u001b[0m \u001b[0ma\u001b[0m \u001b[1;33m@\u001b[0m \u001b[0mb\u001b[0m\u001b[1;33m\u001b[0m\u001b[1;33m\u001b[0m\u001b[0m\n\u001b[0m\u001b[0;32m    153\u001b[0m \u001b[1;33m\u001b[0m\u001b[0m\n\u001b[0;32m    154\u001b[0m     if (sparse.issparse(a) and sparse.issparse(b)\n",
      "\u001b[1;31mMemoryError\u001b[0m: Unable to allocate 192. GiB for an array with shape (160416, 160416) and data type float64"
     ]
    }
   ],
   "source": [
    "embed_vectors = np.append(abstract_vec, question_vec, axis=0)\n",
    "similarity_matrix = cosine_similarity(embed_vectors)\n",
    "similarity_matrix"
   ]
  },
  {
   "cell_type": "code",
   "execution_count": 24,
   "id": "5242255d",
   "metadata": {
    "ExecuteTime": {
     "end_time": "2021-10-13T08:05:07.404852Z",
     "start_time": "2021-10-13T08:05:07.384944Z"
    }
   },
   "outputs": [],
   "source": [
    "def plot_similarity(labels, features, rotation):\n",
    "    corr = np.inner(features, features[0:1])\n",
    "    print(corr)\n",
    "    sns.set(font_scale=1.2)\n",
    "    g = sns.heatmap(\n",
    "        corr,\n",
    "        yticklabels=labels,\n",
    "        vmin=0,\n",
    "        vmax=1,\n",
    "        cmap=\"YlOrRd\")\n",
    "\n",
    "def run_and_plot(messages_):\n",
    "    message_embeddings_ = embed(messages_)\n",
    "    plot_similarity(messages_, message_embeddings_, 90)"
   ]
  },
  {
   "cell_type": "code",
   "execution_count": 23,
   "id": "7ba8782a",
   "metadata": {
    "ExecuteTime": {
     "end_time": "2021-10-13T08:04:16.399756Z",
     "start_time": "2021-10-13T08:03:52.982758Z"
    }
   },
   "outputs": [],
   "source": [
    "df = pickle.load(open(path+'\\\\cleaned_data_no_null.sav', 'rb'))['abstract']"
   ]
  },
  {
   "cell_type": "code",
   "execution_count": 25,
   "id": "85ad1a5b",
   "metadata": {
    "ExecuteTime": {
     "end_time": "2021-10-13T08:05:09.329466Z",
     "start_time": "2021-10-13T08:05:08.980469Z"
    }
   },
   "outputs": [],
   "source": [
    "messages = ['best covid treatment']\n",
    "for i in range(len(df)):\n",
    "    messages.append(df[i])"
   ]
  },
  {
   "cell_type": "code",
   "execution_count": null,
   "id": "d2e4668b",
   "metadata": {
    "ExecuteTime": {
     "start_time": "2021-10-13T08:05:24.767Z"
    }
   },
   "outputs": [],
   "source": [
    "run_and_plot(messages)"
   ]
  },
  {
   "cell_type": "code",
   "execution_count": null,
   "id": "f90af940",
   "metadata": {},
   "outputs": [],
   "source": []
  }
 ],
 "metadata": {
  "kernelspec": {
   "display_name": "Python 3 (ipykernel)",
   "language": "python",
   "name": "python3"
  },
  "language_info": {
   "codemirror_mode": {
    "name": "ipython",
    "version": 3
   },
   "file_extension": ".py",
   "mimetype": "text/x-python",
   "name": "python",
   "nbconvert_exporter": "python",
   "pygments_lexer": "ipython3",
   "version": "3.9.5"
  },
  "varInspector": {
   "cols": {
    "lenName": 16,
    "lenType": 16,
    "lenVar": 40
   },
   "kernels_config": {
    "python": {
     "delete_cmd_postfix": "",
     "delete_cmd_prefix": "del ",
     "library": "var_list.py",
     "varRefreshCmd": "print(var_dic_list())"
    },
    "r": {
     "delete_cmd_postfix": ") ",
     "delete_cmd_prefix": "rm(",
     "library": "var_list.r",
     "varRefreshCmd": "cat(var_dic_list()) "
    }
   },
   "types_to_exclude": [
    "module",
    "function",
    "builtin_function_or_method",
    "instance",
    "_Feature"
   ],
   "window_display": false
  }
 },
 "nbformat": 4,
 "nbformat_minor": 5
}
