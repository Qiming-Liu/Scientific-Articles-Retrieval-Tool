{
 "cells": [
  {
   "cell_type": "code",
   "execution_count": 1,
   "id": "75f35ca5",
   "metadata": {
    "ExecuteTime": {
     "start_time": "2021-10-17T22:22:35.075Z"
    }
   },
   "outputs": [],
   "source": [
    "import os\n",
    "import pandas as pd\n",
    "import numpy as np\n",
    "import matplotlib.pyplot as plt\n",
    "import pickle\n",
    "import tensorflow_hub as hub\n",
    "import time\n",
    "from tqdm import tqdm\n",
    "import math\n",
    "import seaborn as sns\n",
    "import json"
   ]
  },
  {
   "cell_type": "code",
   "execution_count": 2,
   "id": "91ae97f3",
   "metadata": {
    "ExecuteTime": {
     "start_time": "2021-10-17T22:22:35.477Z"
    }
   },
   "outputs": [],
   "source": [
    "path = os.getcwd()\n",
    "# embed = hub.load(\"https://tfhub.dev/google/universal-sentence-encoder-large/5\")\n",
    "embed = hub.load(path+'\\\\model')"
   ]
  },
  {
   "cell_type": "markdown",
   "id": "9d9ed2be",
   "metadata": {},
   "source": [
    "Vectorisation"
   ]
  },
  {
   "cell_type": "code",
   "execution_count": 3,
   "id": "45d5adb2",
   "metadata": {
    "ExecuteTime": {
     "start_time": "2021-10-17T22:22:52.127Z"
    }
   },
   "outputs": [],
   "source": [
    "df = pickle.load(open(path+'\\\\cleaned_data_no_null.sav', 'rb'))"
   ]
  },
  {
   "cell_type": "code",
   "execution_count": 5,
   "id": "1b11b3b9",
   "metadata": {
    "scrolled": true
   },
   "outputs": [
    {
     "data": {
      "text/html": [
       "<div>\n",
       "<style scoped>\n",
       "    .dataframe tbody tr th:only-of-type {\n",
       "        vertical-align: middle;\n",
       "    }\n",
       "\n",
       "    .dataframe tbody tr th {\n",
       "        vertical-align: top;\n",
       "    }\n",
       "\n",
       "    .dataframe thead th {\n",
       "        text-align: right;\n",
       "    }\n",
       "</style>\n",
       "<table border=\"1\" class=\"dataframe\">\n",
       "  <thead>\n",
       "    <tr style=\"text-align: right;\">\n",
       "      <th></th>\n",
       "      <th>sha</th>\n",
       "      <th>source_x</th>\n",
       "      <th>title</th>\n",
       "      <th>doi</th>\n",
       "      <th>pmcid</th>\n",
       "      <th>abstract</th>\n",
       "      <th>publish_time</th>\n",
       "      <th>authors</th>\n",
       "      <th>journal</th>\n",
       "      <th>institution</th>\n",
       "      <th>country</th>\n",
       "      <th>body_text</th>\n",
       "    </tr>\n",
       "  </thead>\n",
       "  <tbody>\n",
       "    <tr>\n",
       "      <th>0</th>\n",
       "      <td>d1aafb70c066a2068b02786f8929fd9c900897fb</td>\n",
       "      <td>PMC</td>\n",
       "      <td>clinical features of culture-proven mycoplasma...</td>\n",
       "      <td>10.1186/1471-2334-1-6</td>\n",
       "      <td>PMC35282</td>\n",
       "      <td>objective: this retrospective chart review des...</td>\n",
       "      <td>2001-07-04</td>\n",
       "      <td>Madani, Tariq A; Al-Ghamdi, Aisha A</td>\n",
       "      <td>BMC Infect Dis</td>\n",
       "      <td>{}</td>\n",
       "      <td>{}</td>\n",
       "      <td>mycoplasma pneumoniae is a common cause of upp...</td>\n",
       "    </tr>\n",
       "    <tr>\n",
       "      <th>1</th>\n",
       "      <td>6b0567729c2143a66d737eb0a2f63f2dce2e5a7d</td>\n",
       "      <td>PMC</td>\n",
       "      <td>nitric oxide: a pro-inflammatory mediator in l...</td>\n",
       "      <td>10.1186/rr14</td>\n",
       "      <td>PMC59543</td>\n",
       "      <td>inflammatory diseases of the respiratory tract...</td>\n",
       "      <td>2000-08-15</td>\n",
       "      <td>Vliet, Albert van der; Eiserich, Jason P; Cros...</td>\n",
       "      <td>Respir Res</td>\n",
       "      <td>{University of Alabama at Birmingham}</td>\n",
       "      <td>{USA}</td>\n",
       "      <td>since its discovery as a biological messenger ...</td>\n",
       "    </tr>\n",
       "    <tr>\n",
       "      <th>2</th>\n",
       "      <td>06ced00a5fc04215949aa72528f2eeaae1d58927</td>\n",
       "      <td>PMC</td>\n",
       "      <td>surfactant protein-d and pulmonary host defense</td>\n",
       "      <td>10.1186/rr19</td>\n",
       "      <td>PMC59549</td>\n",
       "      <td>surfactant protein-d (sp-d) participates in th...</td>\n",
       "      <td>2000-08-25</td>\n",
       "      <td>Crouch, Erika C</td>\n",
       "      <td>Respir Res</td>\n",
       "      <td>{Washington University School of Medicine}</td>\n",
       "      <td>{USA}</td>\n",
       "      <td>surfactant protein-d (sp-d) is a member of the...</td>\n",
       "    </tr>\n",
       "    <tr>\n",
       "      <th>3</th>\n",
       "      <td>348055649b6b8cf2b9a376498df9bf41f7123605</td>\n",
       "      <td>PMC</td>\n",
       "      <td>role of endothelin-1 in lung disease</td>\n",
       "      <td>10.1186/rr44</td>\n",
       "      <td>PMC59574</td>\n",
       "      <td>endothelin-1 (et-1) is a 21 amino acid peptide...</td>\n",
       "      <td>2001-02-22</td>\n",
       "      <td>Fagan, Karen A; McMurtry, Ivan F; Rodman, David M</td>\n",
       "      <td>Respir Res</td>\n",
       "      <td>{}</td>\n",
       "      <td>{}</td>\n",
       "      <td>from xenopus laevis. eta receptors in normal l...</td>\n",
       "    </tr>\n",
       "    <tr>\n",
       "      <th>4</th>\n",
       "      <td>5f48792a5fa08bed9f56016f4981ae2ca6031b32</td>\n",
       "      <td>PMC</td>\n",
       "      <td>gene expression in epithelial cells in respons...</td>\n",
       "      <td>10.1186/rr61</td>\n",
       "      <td>PMC59580</td>\n",
       "      <td>respiratory syncytial virus (rsv) and pneumoni...</td>\n",
       "      <td>2001-05-11</td>\n",
       "      <td>Domachowske, Joseph B; Bonville, Cynthia A; Ro...</td>\n",
       "      <td>Respir Res</td>\n",
       "      <td>{National Institutes of Health}</td>\n",
       "      <td>{USA}</td>\n",
       "      <td>rsv and pvm are viruses of the family paramyxo...</td>\n",
       "    </tr>\n",
       "  </tbody>\n",
       "</table>\n",
       "</div>"
      ],
      "text/plain": [
       "                                        sha source_x  \\\n",
       "0  d1aafb70c066a2068b02786f8929fd9c900897fb      PMC   \n",
       "1  6b0567729c2143a66d737eb0a2f63f2dce2e5a7d      PMC   \n",
       "2  06ced00a5fc04215949aa72528f2eeaae1d58927      PMC   \n",
       "3  348055649b6b8cf2b9a376498df9bf41f7123605      PMC   \n",
       "4  5f48792a5fa08bed9f56016f4981ae2ca6031b32      PMC   \n",
       "\n",
       "                                               title                    doi  \\\n",
       "0  clinical features of culture-proven mycoplasma...  10.1186/1471-2334-1-6   \n",
       "1  nitric oxide: a pro-inflammatory mediator in l...           10.1186/rr14   \n",
       "2    surfactant protein-d and pulmonary host defense           10.1186/rr19   \n",
       "3               role of endothelin-1 in lung disease           10.1186/rr44   \n",
       "4  gene expression in epithelial cells in respons...           10.1186/rr61   \n",
       "\n",
       "      pmcid                                           abstract publish_time  \\\n",
       "0  PMC35282  objective: this retrospective chart review des...   2001-07-04   \n",
       "1  PMC59543  inflammatory diseases of the respiratory tract...   2000-08-15   \n",
       "2  PMC59549  surfactant protein-d (sp-d) participates in th...   2000-08-25   \n",
       "3  PMC59574  endothelin-1 (et-1) is a 21 amino acid peptide...   2001-02-22   \n",
       "4  PMC59580  respiratory syncytial virus (rsv) and pneumoni...   2001-05-11   \n",
       "\n",
       "                                             authors         journal  \\\n",
       "0                Madani, Tariq A; Al-Ghamdi, Aisha A  BMC Infect Dis   \n",
       "1  Vliet, Albert van der; Eiserich, Jason P; Cros...      Respir Res   \n",
       "2                                    Crouch, Erika C      Respir Res   \n",
       "3  Fagan, Karen A; McMurtry, Ivan F; Rodman, David M      Respir Res   \n",
       "4  Domachowske, Joseph B; Bonville, Cynthia A; Ro...      Respir Res   \n",
       "\n",
       "                                  institution country  \\\n",
       "0                                          {}      {}   \n",
       "1       {University of Alabama at Birmingham}   {USA}   \n",
       "2  {Washington University School of Medicine}   {USA}   \n",
       "3                                          {}      {}   \n",
       "4             {National Institutes of Health}   {USA}   \n",
       "\n",
       "                                           body_text  \n",
       "0  mycoplasma pneumoniae is a common cause of upp...  \n",
       "1  since its discovery as a biological messenger ...  \n",
       "2  surfactant protein-d (sp-d) is a member of the...  \n",
       "3  from xenopus laevis. eta receptors in normal l...  \n",
       "4  rsv and pvm are viruses of the family paramyxo...  "
      ]
     },
     "execution_count": 5,
     "metadata": {},
     "output_type": "execute_result"
    }
   ],
   "source": [
    "df.head()"
   ]
  },
  {
   "cell_type": "code",
   "execution_count": 8,
   "id": "9a1eadee",
   "metadata": {},
   "outputs": [],
   "source": [
    "sentences = np.array(df['abstract'])"
   ]
  },
  {
   "cell_type": "code",
   "execution_count": 12,
   "id": "0ef71cae",
   "metadata": {},
   "outputs": [
    {
     "name": "stderr",
     "output_type": "stream",
     "text": [
      "100%|██████████████████████████████████████████████████████████████████████████████| 8021/8021 [20:29<00:00,  6.52it/s]\n"
     ]
    }
   ],
   "source": [
    "abstract_vec = np.zeros(shape=(1, 512))\n",
    "groups_num = 20 # depends on GPU memery (8G set to 20 works fine for me)\n",
    "for i in tqdm(range(math.ceil(len(sentences)/groups_num))):\n",
    "    if (i < math.ceil(len(sentences)/groups_num)-1):\n",
    "        vec = sentences[(i*groups_num):((i+1)*groups_num)]\n",
    "    else:\n",
    "        vec = sentences[(i*groups_num):len(sentences)]\n",
    "    embed_vectors = embed(vec).numpy()\n",
    "    abstract_vec = np.append(abstract_vec, embed_vectors, axis=0)\n",
    "    \n",
    "abstract_vec = np.delete(abstract_vec, 0, axis=0)"
   ]
  },
  {
   "cell_type": "code",
   "execution_count": 13,
   "id": "fbbfb98d",
   "metadata": {},
   "outputs": [],
   "source": [
    "pickle.dump(sentences, open('./abstract_data.pkl', 'wb'))\n",
    "pickle.dump(abstract_vec, open('./abstract_embed.pkl', 'wb'))"
   ]
  },
  {
   "cell_type": "markdown",
   "id": "c85c74fd",
   "metadata": {},
   "source": [
    "Model"
   ]
  },
  {
   "cell_type": "code",
   "execution_count": 15,
   "id": "dca11b42",
   "metadata": {},
   "outputs": [],
   "source": [
    "abstract_data = pickle.load(open('./abstract_data.pkl', 'rb'))\n",
    "abstract_embed = pickle.load(open('./abstract_embed.pkl', 'rb'))"
   ]
  },
  {
   "cell_type": "code",
   "execution_count": 16,
   "id": "7ba8782a",
   "metadata": {
    "ExecuteTime": {
     "end_time": "2021-10-17T18:21:55.955752Z",
     "start_time": "2021-10-17T18:21:55.505469Z"
    }
   },
   "outputs": [],
   "source": [
    "def query(text):\n",
    "    corr = np.inner(embed([text]).numpy(), abstract_embed)\n",
    "    return abstract_data[np.argmax(corr)]"
   ]
  },
  {
   "cell_type": "code",
   "execution_count": 17,
   "id": "a4ab3e86",
   "metadata": {},
   "outputs": [
    {
     "data": {
      "text/plain": [
       "'apart from the treatment options, protocols and preventive measures against covid, an essential step prior to the treatment is its quick and accurate diagnosis. there are several diagnostic protocols prevailing currently for the identification of covid infection. the gold standard available diagnosis is based on the identification of pathogen by rtpcr analysis . this involves extraction of the genetic material of the virus followed by its amplification using specific primers and identification.'"
      ]
     },
     "execution_count": 17,
     "metadata": {},
     "output_type": "execute_result"
    }
   ],
   "source": [
    "query('What is the best covid treatment?')"
   ]
  },
  {
   "cell_type": "code",
   "execution_count": null,
   "id": "a3d61f0f",
   "metadata": {},
   "outputs": [],
   "source": []
  }
 ],
 "metadata": {
  "kernelspec": {
   "display_name": "Python 3 (ipykernel)",
   "language": "python",
   "name": "python3"
  },
  "language_info": {
   "codemirror_mode": {
    "name": "ipython",
    "version": 3
   },
   "file_extension": ".py",
   "mimetype": "text/x-python",
   "name": "python",
   "nbconvert_exporter": "python",
   "pygments_lexer": "ipython3",
   "version": "3.9.5"
  },
  "varInspector": {
   "cols": {
    "lenName": 16,
    "lenType": 16,
    "lenVar": 40
   },
   "kernels_config": {
    "python": {
     "delete_cmd_postfix": "",
     "delete_cmd_prefix": "del ",
     "library": "var_list.py",
     "varRefreshCmd": "print(var_dic_list())"
    },
    "r": {
     "delete_cmd_postfix": ") ",
     "delete_cmd_prefix": "rm(",
     "library": "var_list.r",
     "varRefreshCmd": "cat(var_dic_list()) "
    }
   },
   "types_to_exclude": [
    "module",
    "function",
    "builtin_function_or_method",
    "instance",
    "_Feature"
   ],
   "window_display": false
  }
 },
 "nbformat": 4,
 "nbformat_minor": 5
}
