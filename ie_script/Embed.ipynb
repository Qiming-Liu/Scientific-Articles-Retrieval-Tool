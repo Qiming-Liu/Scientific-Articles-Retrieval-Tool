{
 "cells": [
  {
   "cell_type": "code",
   "execution_count": 1,
   "id": "75f35ca5",
   "metadata": {
    "ExecuteTime": {
     "end_time": "2021-10-13T01:48:52.662880Z",
     "start_time": "2021-10-13T01:48:46.065882Z"
    }
   },
   "outputs": [],
   "source": [
    "import os\n",
    "import pandas as pd\n",
    "import numpy as np\n",
    "import matplotlib.pyplot as plt\n",
    "import pickle\n",
    "from sklearn.metrics.pairwise import cosine_similarity\n",
    "import spacy\n",
    "from spacy.matcher import Matcher\n",
    "import networkx as nx\n",
    "import tensorflow_hub as hub\n",
    "import time\n",
    "from tqdm import tqdm\n",
    "import math"
   ]
  },
  {
   "cell_type": "markdown",
   "id": "9d9ed2be",
   "metadata": {},
   "source": [
    "Vectorisation"
   ]
  },
  {
   "cell_type": "code",
   "execution_count": 2,
   "id": "91ae97f3",
   "metadata": {
    "ExecuteTime": {
     "end_time": "2021-10-13T01:48:52.710880Z",
     "start_time": "2021-10-13T01:48:52.695881Z"
    }
   },
   "outputs": [],
   "source": [
    "pd.set_option('display.max_columns', 300)\n",
    "pd.set_option('display.max_rows', 1000)\n",
    "pd.set_option('display.width', 120)\n",
    "path = os.getcwd()"
   ]
  },
  {
   "cell_type": "code",
   "execution_count": 7,
   "id": "44962dc6",
   "metadata": {
    "ExecuteTime": {
     "end_time": "2021-10-13T02:18:26.738028Z",
     "start_time": "2021-10-13T02:17:25.718689Z"
    },
    "scrolled": true
   },
   "outputs": [],
   "source": [
    "# =================================================================================\n",
    "# LOADING CLEAN DATA\n",
    "# =================================================================================\n",
    "df = pickle.load(open(path+'\\\\cleaned_data_no_null.sav', 'rb'))\n",
    "# embed = hub.load(\"https://tfhub.dev/google/universal-sentence-encoder-large/5\")\n",
    "embed = hub.load(path+'\\\\model')"
   ]
  },
  {
   "cell_type": "code",
   "execution_count": 12,
   "id": "45594d6e",
   "metadata": {
    "ExecuteTime": {
     "end_time": "2021-10-11T17:45:48.355410Z",
     "start_time": "2021-10-11T14:15:54.453490Z"
    }
   },
   "outputs": [
    {
     "name": "stderr",
     "output_type": "stream",
     "text": [
      "100%|████████████████████████████████████████████████████████████████████████████| 1605/1605 [3:29:53<00:00,  7.85s/it]\n"
     ]
    },
    {
     "ename": "NameError",
     "evalue": "name 'path_data' is not defined",
     "output_type": "error",
     "traceback": [
      "\u001b[1;31m---------------------------------------------------------------------------\u001b[0m",
      "\u001b[1;31mNameError\u001b[0m                                 Traceback (most recent call last)",
      "\u001b[1;32m~\\AppData\\Local\\Temp/ipykernel_4464/817440009.py\u001b[0m in \u001b[0;36m<module>\u001b[1;34m\u001b[0m\n\u001b[0;32m     10\u001b[0m \u001b[1;33m\u001b[0m\u001b[0m\n\u001b[0;32m     11\u001b[0m \u001b[0mabstract_vec\u001b[0m \u001b[1;33m=\u001b[0m \u001b[0mnp\u001b[0m\u001b[1;33m.\u001b[0m\u001b[0mdelete\u001b[0m\u001b[1;33m(\u001b[0m\u001b[0mabstract_vec\u001b[0m\u001b[1;33m,\u001b[0m \u001b[1;36m0\u001b[0m\u001b[1;33m,\u001b[0m \u001b[0maxis\u001b[0m\u001b[1;33m=\u001b[0m\u001b[1;36m0\u001b[0m\u001b[1;33m)\u001b[0m\u001b[1;33m\u001b[0m\u001b[1;33m\u001b[0m\u001b[0m\n\u001b[1;32m---> 12\u001b[1;33m \u001b[0mpickle\u001b[0m\u001b[1;33m.\u001b[0m\u001b[0mdump\u001b[0m\u001b[1;33m(\u001b[0m\u001b[0mabstract_vec\u001b[0m\u001b[1;33m,\u001b[0m \u001b[0mopen\u001b[0m\u001b[1;33m(\u001b[0m\u001b[0mpath_data\u001b[0m\u001b[1;33m+\u001b[0m\u001b[1;34m'\\\\abstract_vectors.sav'\u001b[0m\u001b[1;33m,\u001b[0m \u001b[1;34m'wb'\u001b[0m\u001b[1;33m)\u001b[0m\u001b[1;33m)\u001b[0m\u001b[1;33m\u001b[0m\u001b[1;33m\u001b[0m\u001b[0m\n\u001b[0m",
      "\u001b[1;31mNameError\u001b[0m: name 'path_data' is not defined"
     ]
    }
   ],
   "source": [
    "# ABSTRACT VECTORISATION\n",
    "abstract_vec = np.zeros(shape=(1, 512))\n",
    "for i in tqdm(range(math.ceil(len(df)/100))):\n",
    "    if (i < math.ceil(len(df)/100)-1):\n",
    "        my_abstract = df.loc[(i*100):((i+1)*100-1), 'abstract']\n",
    "    else:\n",
    "        my_abstract = df.loc[(i*100):len(df), 'abstract']\n",
    "    embed_vectors = embed(my_abstract.values).numpy()\n",
    "    abstract_vec = np.append(abstract_vec, embed_vectors, axis=0)\n",
    "\n",
    "abstract_vec = np.delete(abstract_vec, 0, axis=0)"
   ]
  },
  {
   "cell_type": "code",
   "execution_count": 13,
   "id": "91fc7722",
   "metadata": {
    "ExecuteTime": {
     "end_time": "2021-10-11T21:28:29.392877Z",
     "start_time": "2021-10-11T21:28:28.707485Z"
    }
   },
   "outputs": [],
   "source": [
    "pickle.dump(abstract_vec, open(path+'\\\\abstract_vectors.sav', 'wb'))"
   ]
  },
  {
   "cell_type": "markdown",
   "id": "c85c74fd",
   "metadata": {},
   "source": [
    "Model"
   ]
  },
  {
   "cell_type": "code",
   "execution_count": 3,
   "id": "696badf6",
   "metadata": {
    "ExecuteTime": {
     "end_time": "2021-10-13T01:49:09.269882Z",
     "start_time": "2021-10-13T01:49:08.783882Z"
    },
    "scrolled": true
   },
   "outputs": [],
   "source": [
    "abstract_vec = pickle.load(open(path+'\\\\abstract_vectors.sav', 'rb'))"
   ]
  },
  {
   "cell_type": "code",
   "execution_count": 4,
   "id": "5e505962",
   "metadata": {
    "ExecuteTime": {
     "end_time": "2021-10-13T01:50:14.744883Z",
     "start_time": "2021-10-13T01:50:14.730881Z"
    }
   },
   "outputs": [],
   "source": [
    "def prepare_similarity(vectors):\n",
    "    similarity = cosine_similarity(vectors)\n",
    "    return similarity"
   ]
  },
  {
   "cell_type": "code",
   "execution_count": 10,
   "id": "8c2bfd9f",
   "metadata": {
    "ExecuteTime": {
     "end_time": "2021-10-13T02:37:37.083870Z",
     "start_time": "2021-10-13T02:37:32.557871Z"
    }
   },
   "outputs": [],
   "source": [
    "question = \"best covid\"\n",
    "question = pd.Series(question)\n",
    "question_vec = embed(question.values).numpy()\n",
    "embed_vectors = np.append(abstract_vec, question_vec, axis=0)"
   ]
  },
  {
   "cell_type": "code",
   "execution_count": 11,
   "id": "4fe1ddfa",
   "metadata": {
    "ExecuteTime": {
     "end_time": "2021-10-13T02:37:44.751628Z",
     "start_time": "2021-10-13T02:37:43.617625Z"
    }
   },
   "outputs": [
    {
     "ename": "MemoryError",
     "evalue": "Unable to allocate 192. GiB for an array with shape (160416, 160416) and data type float64",
     "output_type": "error",
     "traceback": [
      "\u001b[1;31m---------------------------------------------------------------------------\u001b[0m",
      "\u001b[1;31mMemoryError\u001b[0m                               Traceback (most recent call last)",
      "\u001b[1;32m~\\AppData\\Local\\Temp/ipykernel_18388/255267116.py\u001b[0m in \u001b[0;36m<module>\u001b[1;34m\u001b[0m\n\u001b[1;32m----> 1\u001b[1;33m \u001b[0msimilarity_matrix\u001b[0m \u001b[1;33m=\u001b[0m \u001b[0mprepare_similarity\u001b[0m\u001b[1;33m(\u001b[0m\u001b[0membed_vectors\u001b[0m\u001b[1;33m)\u001b[0m\u001b[1;33m\u001b[0m\u001b[1;33m\u001b[0m\u001b[0m\n\u001b[0m",
      "\u001b[1;32m~\\AppData\\Local\\Temp/ipykernel_18388/1334130382.py\u001b[0m in \u001b[0;36mprepare_similarity\u001b[1;34m(vectors)\u001b[0m\n\u001b[0;32m      1\u001b[0m \u001b[1;32mdef\u001b[0m \u001b[0mprepare_similarity\u001b[0m\u001b[1;33m(\u001b[0m\u001b[0mvectors\u001b[0m\u001b[1;33m)\u001b[0m\u001b[1;33m:\u001b[0m\u001b[1;33m\u001b[0m\u001b[1;33m\u001b[0m\u001b[0m\n\u001b[1;32m----> 2\u001b[1;33m     \u001b[0msimilarity\u001b[0m \u001b[1;33m=\u001b[0m \u001b[0mcosine_similarity\u001b[0m\u001b[1;33m(\u001b[0m\u001b[0mvectors\u001b[0m\u001b[1;33m)\u001b[0m\u001b[1;33m\u001b[0m\u001b[1;33m\u001b[0m\u001b[0m\n\u001b[0m\u001b[0;32m      3\u001b[0m     \u001b[1;32mreturn\u001b[0m \u001b[0msimilarity\u001b[0m\u001b[1;33m\u001b[0m\u001b[1;33m\u001b[0m\u001b[0m\n",
      "\u001b[1;32m~\\scoop\\apps\\miniconda3\\current\\lib\\site-packages\\sklearn\\metrics\\pairwise.py\u001b[0m in \u001b[0;36mcosine_similarity\u001b[1;34m(X, Y, dense_output)\u001b[0m\n\u001b[0;32m   1186\u001b[0m         \u001b[0mY_normalized\u001b[0m \u001b[1;33m=\u001b[0m \u001b[0mnormalize\u001b[0m\u001b[1;33m(\u001b[0m\u001b[0mY\u001b[0m\u001b[1;33m,\u001b[0m \u001b[0mcopy\u001b[0m\u001b[1;33m=\u001b[0m\u001b[1;32mTrue\u001b[0m\u001b[1;33m)\u001b[0m\u001b[1;33m\u001b[0m\u001b[1;33m\u001b[0m\u001b[0m\n\u001b[0;32m   1187\u001b[0m \u001b[1;33m\u001b[0m\u001b[0m\n\u001b[1;32m-> 1188\u001b[1;33m     K = safe_sparse_dot(X_normalized, Y_normalized.T,\n\u001b[0m\u001b[0;32m   1189\u001b[0m                         dense_output=dense_output)\n\u001b[0;32m   1190\u001b[0m \u001b[1;33m\u001b[0m\u001b[0m\n",
      "\u001b[1;32m~\\scoop\\apps\\miniconda3\\current\\lib\\site-packages\\sklearn\\utils\\validation.py\u001b[0m in \u001b[0;36minner_f\u001b[1;34m(*args, **kwargs)\u001b[0m\n\u001b[0;32m     61\u001b[0m             \u001b[0mextra_args\u001b[0m \u001b[1;33m=\u001b[0m \u001b[0mlen\u001b[0m\u001b[1;33m(\u001b[0m\u001b[0margs\u001b[0m\u001b[1;33m)\u001b[0m \u001b[1;33m-\u001b[0m \u001b[0mlen\u001b[0m\u001b[1;33m(\u001b[0m\u001b[0mall_args\u001b[0m\u001b[1;33m)\u001b[0m\u001b[1;33m\u001b[0m\u001b[1;33m\u001b[0m\u001b[0m\n\u001b[0;32m     62\u001b[0m             \u001b[1;32mif\u001b[0m \u001b[0mextra_args\u001b[0m \u001b[1;33m<=\u001b[0m \u001b[1;36m0\u001b[0m\u001b[1;33m:\u001b[0m\u001b[1;33m\u001b[0m\u001b[1;33m\u001b[0m\u001b[0m\n\u001b[1;32m---> 63\u001b[1;33m                 \u001b[1;32mreturn\u001b[0m \u001b[0mf\u001b[0m\u001b[1;33m(\u001b[0m\u001b[1;33m*\u001b[0m\u001b[0margs\u001b[0m\u001b[1;33m,\u001b[0m \u001b[1;33m**\u001b[0m\u001b[0mkwargs\u001b[0m\u001b[1;33m)\u001b[0m\u001b[1;33m\u001b[0m\u001b[1;33m\u001b[0m\u001b[0m\n\u001b[0m\u001b[0;32m     64\u001b[0m \u001b[1;33m\u001b[0m\u001b[0m\n\u001b[0;32m     65\u001b[0m             \u001b[1;31m# extra_args > 0\u001b[0m\u001b[1;33m\u001b[0m\u001b[1;33m\u001b[0m\u001b[1;33m\u001b[0m\u001b[0m\n",
      "\u001b[1;32m~\\scoop\\apps\\miniconda3\\current\\lib\\site-packages\\sklearn\\utils\\extmath.py\u001b[0m in \u001b[0;36msafe_sparse_dot\u001b[1;34m(a, b, dense_output)\u001b[0m\n\u001b[0;32m    150\u001b[0m             \u001b[0mret\u001b[0m \u001b[1;33m=\u001b[0m \u001b[0mnp\u001b[0m\u001b[1;33m.\u001b[0m\u001b[0mdot\u001b[0m\u001b[1;33m(\u001b[0m\u001b[0ma\u001b[0m\u001b[1;33m,\u001b[0m \u001b[0mb\u001b[0m\u001b[1;33m)\u001b[0m\u001b[1;33m\u001b[0m\u001b[1;33m\u001b[0m\u001b[0m\n\u001b[0;32m    151\u001b[0m     \u001b[1;32melse\u001b[0m\u001b[1;33m:\u001b[0m\u001b[1;33m\u001b[0m\u001b[1;33m\u001b[0m\u001b[0m\n\u001b[1;32m--> 152\u001b[1;33m         \u001b[0mret\u001b[0m \u001b[1;33m=\u001b[0m \u001b[0ma\u001b[0m \u001b[1;33m@\u001b[0m \u001b[0mb\u001b[0m\u001b[1;33m\u001b[0m\u001b[1;33m\u001b[0m\u001b[0m\n\u001b[0m\u001b[0;32m    153\u001b[0m \u001b[1;33m\u001b[0m\u001b[0m\n\u001b[0;32m    154\u001b[0m     if (sparse.issparse(a) and sparse.issparse(b)\n",
      "\u001b[1;31mMemoryError\u001b[0m: Unable to allocate 192. GiB for an array with shape (160416, 160416) and data type float64"
     ]
    }
   ],
   "source": [
    "# cosine TODO reduce memory usage 1. Approximate Algorithm or 2. 分步计算\n",
    "similarity_matrix = prepare_similarity(embed_vectors)"
   ]
  },
  {
   "cell_type": "code",
   "execution_count": 22,
   "id": "3b5a1198",
   "metadata": {
    "ExecuteTime": {
     "end_time": "2021-10-11T21:42:50.738578Z",
     "start_time": "2021-10-11T21:42:50.722583Z"
    }
   },
   "outputs": [
    {
     "data": {
      "text/plain": [
       "array([[-2.35034648e-04, -3.98643222e-03,  4.23211940e-02, ...,\n",
       "        -3.42577067e-03, -3.50324698e-02,  9.52725857e-02],\n",
       "       [ 7.30029494e-02, -2.99957339e-02, -6.49087578e-02, ...,\n",
       "        -2.84780376e-02, -3.87244485e-02, -7.77232880e-03],\n",
       "       [ 6.58439472e-02, -5.62125146e-02, -1.77819207e-02, ...,\n",
       "        -5.42196743e-02, -6.17322139e-02,  5.25257029e-02],\n",
       "       ...,\n",
       "       [-9.86412391e-02,  2.95698438e-02,  2.67106220e-02, ...,\n",
       "         5.02402690e-05, -6.42253435e-04, -3.78320403e-02],\n",
       "       [-5.78135327e-02,  1.01426229e-01, -7.36692222e-03, ...,\n",
       "         7.52908885e-02, -3.21089774e-02, -1.03685353e-02],\n",
       "       [-7.16842152e-03,  4.41300534e-02, -1.81317218e-02, ...,\n",
       "         7.04283938e-02, -2.78379191e-02,  7.08289668e-02]])"
      ]
     },
     "execution_count": 22,
     "metadata": {},
     "output_type": "execute_result"
    }
   ],
   "source": [
    "abstract_vec"
   ]
  },
  {
   "cell_type": "code",
   "execution_count": null,
   "id": "5242255d",
   "metadata": {},
   "outputs": [],
   "source": []
  }
 ],
 "metadata": {
  "kernelspec": {
   "display_name": "Python 3 (ipykernel)",
   "language": "python",
   "name": "python3"
  },
  "language_info": {
   "codemirror_mode": {
    "name": "ipython",
    "version": 3
   },
   "file_extension": ".py",
   "mimetype": "text/x-python",
   "name": "python",
   "nbconvert_exporter": "python",
   "pygments_lexer": "ipython3",
   "version": "3.9.5"
  },
  "varInspector": {
   "cols": {
    "lenName": 16,
    "lenType": 16,
    "lenVar": 40
   },
   "kernels_config": {
    "python": {
     "delete_cmd_postfix": "",
     "delete_cmd_prefix": "del ",
     "library": "var_list.py",
     "varRefreshCmd": "print(var_dic_list())"
    },
    "r": {
     "delete_cmd_postfix": ") ",
     "delete_cmd_prefix": "rm(",
     "library": "var_list.r",
     "varRefreshCmd": "cat(var_dic_list()) "
    }
   },
   "types_to_exclude": [
    "module",
    "function",
    "builtin_function_or_method",
    "instance",
    "_Feature"
   ],
   "window_display": false
  }
 },
 "nbformat": 4,
 "nbformat_minor": 5
}
