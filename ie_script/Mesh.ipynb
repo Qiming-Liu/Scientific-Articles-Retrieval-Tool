{
 "cells": [
  {
   "cell_type": "code",
   "execution_count": 1,
   "id": "fe2b8c0d",
   "metadata": {},
   "outputs": [],
   "source": [
    "import xml.etree.ElementTree as ET\n",
    "from lxml import etree\n",
    "import json\n",
    "from tqdm import tqdm"
   ]
  },
  {
   "cell_type": "code",
   "execution_count": 2,
   "id": "cffec286",
   "metadata": {},
   "outputs": [],
   "source": [
    "xml_file = './desc2022.xml'\n",
    "out_file= './desc2022.json'"
   ]
  },
  {
   "cell_type": "code",
   "execution_count": 4,
   "id": "fefa49d9",
   "metadata": {},
   "outputs": [
    {
     "name": "stderr",
     "output_type": "stream",
     "text": [
      "100%|███████████████████████████████████████████████████████████████████████| 62317/62317 [00:00<00:00, 1639916.44it/s]\n"
     ]
    }
   ],
   "source": [
    "# get all Tree Number\n",
    "treeIDset=set()\n",
    "tree = ET.parse(xml_file)\n",
    "root = tree.getroot()\n",
    "\n",
    "TreeNumbers = root.findall(\".//TreeNumber\")\n",
    "for treeno in tqdm(TreeNumbers):\n",
    "    treeIDset.add(treeno.text)\n",
    "\n",
    "sortedset= sorted(treeIDset)\n",
    "treeIDlist = list(sortedset)"
   ]
  },
  {
   "cell_type": "code",
   "execution_count": 6,
   "id": "9e31a05c",
   "metadata": {},
   "outputs": [
    {
     "name": "stderr",
     "output_type": "stream",
     "text": [
      "100%|███████████████████████████████████████████████████████████████████████████| 62317/62317 [01:27<00:00, 714.55it/s]\n"
     ]
    }
   ],
   "source": [
    "# link MeSH Heading with Tree Number\n",
    "treeDefDic = {}\n",
    "doc=etree.parse(xml_file)\n",
    "for elem in tqdm(doc.xpath('//TreeNumber')):\n",
    "    if elem.text in treeIDlist:\n",
    "        parent = elem.getparent().getparent().find('.//String')\n",
    "        treeDefDic[elem.text]=parent.text"
   ]
  },
  {
   "cell_type": "code",
   "execution_count": 7,
   "id": "bfd22dcb",
   "metadata": {},
   "outputs": [],
   "source": [
    "def getTreeStructs(elem,treeDefDict):\n",
    "    treestruts={}\n",
    "    \n",
    "    trees = elem.findall('.//TreeNumber')\n",
    "    for tree in trees:\n",
    "        # paser tree ids:\n",
    "        splits = tree.text.split('.')\n",
    "\n",
    "        treelist = []\n",
    "        parselen=len(splits)\n",
    "        for i in reversed(range(parselen)):\n",
    "            if (i==0): \n",
    "                break\n",
    "            itemdict={}\n",
    "\n",
    "            id= '.'.join(splits[:i])\n",
    "\n",
    "            itemdict['id']=id\n",
    "            name=treeDefDict[id]\n",
    "\n",
    "            itemdict['name']=name\n",
    "            treelist.append(itemdict)\n",
    "        \n",
    "        treestruts[tree.text]=treelist\n",
    "    return treestruts\n",
    "\n",
    "def getSeeAlso(elem):\n",
    "\n",
    "    terms = elem.findall('.//SeeRelatedDescriptor')\n",
    "    if terms is None:\n",
    "        return None\n",
    "\n",
    "    termList=[]\n",
    "\n",
    "    for term in terms:\n",
    "        termDict={}\n",
    "        term_name = term.findtext(\".//DescriptorReferredTo/DescriptorName/String\")\n",
    "        term_id = term.findtext(\".//DescriptorReferredTo/DescriptorUI\")\n",
    "\n",
    "        termDict['term_id'] = term_id\n",
    "        termDict['term_name'] = term_name\n",
    "\n",
    "        termList.append(termDict)\n",
    "        \n",
    "        # no seealso\n",
    "        if len(termList)==0:\n",
    "            return None\n",
    "    return termList\n",
    "\n",
    "def getSynonyms(elem,name):\n",
    "    terms = elem.findall('.//Term')\n",
    "    if terms is None:\n",
    "        return None\n",
    "\n",
    "    termList=[]\n",
    "\n",
    "    for term in terms:\n",
    "        termDict={}\n",
    "        term_name = term.findtext(\".//String\")\n",
    "        term_id = term.findtext(\".//TermUI\")\n",
    "\n",
    "        if (term_name == name):\n",
    "            continue\n",
    "\n",
    "        termDict['term_id'] = term_id\n",
    "        termDict['term_name'] = term_name\n",
    "\n",
    "        termList.append(termDict)\n",
    "        if len(termList)==0:\n",
    "            return None\n",
    "\n",
    "    return termList "
   ]
  },
  {
   "cell_type": "code",
   "execution_count": 8,
   "id": "cbe5a4d9",
   "metadata": {},
   "outputs": [
    {
     "name": "stderr",
     "output_type": "stream",
     "text": [
      "100%|██████████████████████████████████████████████████████████████████████████| 30194/30194 [00:03<00:00, 9796.89it/s]\n"
     ]
    }
   ],
   "source": [
    "jsonDict = {}\n",
    "\n",
    "for elem in tqdm(doc.xpath('//DescriptorRecord')):\n",
    "    itemDict={}\n",
    "        \n",
    "    dui = elem.findtext('.//DescriptorUI')\n",
    "    name = elem.findtext('.//DescriptorName/String')\n",
    "    scopeNote = elem.findtext('.//ScopeNote')\n",
    "    synonyms = getSynonyms(elem,name)\n",
    "    treeStruts = getTreeStructs(elem,treeDefDic)\n",
    "    seealso=getSeeAlso(elem)\n",
    "\n",
    "    itemDict['id']=dui\n",
    "    itemDict['desc']=scopeNote\n",
    "    itemDict['treeInfo']=treeStruts\n",
    "    itemDict['synonyms']=synonyms\n",
    "    itemDict['seealso']=seealso\n",
    "\n",
    "    jsonDict[name]=itemDict\n",
    "\n",
    "with open(out_file, 'w') as outfile:\n",
    "    json.dump(jsonDict, outfile)"
   ]
  },
  {
   "cell_type": "code",
   "execution_count": null,
   "id": "a29942f1",
   "metadata": {},
   "outputs": [],
   "source": []
  }
 ],
 "metadata": {
  "kernelspec": {
   "display_name": "Python 3",
   "language": "python",
   "name": "python3"
  },
  "language_info": {
   "codemirror_mode": {
    "name": "ipython",
    "version": 3
   },
   "file_extension": ".py",
   "mimetype": "text/x-python",
   "name": "python",
   "nbconvert_exporter": "python",
   "pygments_lexer": "ipython3",
   "version": "3.6.8"
  }
 },
 "nbformat": 4,
 "nbformat_minor": 5
}
