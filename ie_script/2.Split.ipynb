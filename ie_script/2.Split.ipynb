{
 "cells": [
  {
   "cell_type": "markdown",
   "id": "6a09b9ac",
   "metadata": {},
   "source": [
    "### In order to facilitate processing, split data"
   ]
  },
  {
   "cell_type": "code",
   "execution_count": 1,
   "id": "e8f80342",
   "metadata": {
    "ExecuteTime": {
     "end_time": "2021-10-06T11:10:17.072379Z",
     "start_time": "2021-10-06T11:10:15.713116Z"
    },
    "scrolled": true
   },
   "outputs": [],
   "source": [
    "from stanza.server import CoreNLPClient\n",
    "import time\n",
    "\n",
    "import pickle\n",
    "import pandas as pd\n",
    "import spacy\n",
    "\n",
    "from tqdm import tqdm\n",
    "\n",
    "import numpy as np"
   ]
  },
  {
   "cell_type": "markdown",
   "id": "a82ebf7d",
   "metadata": {},
   "source": [
    "### Read file"
   ]
  },
  {
   "cell_type": "code",
   "execution_count": 20,
   "id": "ca6b7288",
   "metadata": {
    "ExecuteTime": {
     "end_time": "2021-10-06T10:33:44.436071Z",
     "start_time": "2021-10-06T10:33:37.521073Z"
    }
   },
   "outputs": [],
   "source": [
    "in_file  = \"./cleaned_data_no_null.sav\"\n",
    "df = pickle.load(open(in_file, 'rb'))"
   ]
  },
  {
   "cell_type": "code",
   "execution_count": 3,
   "id": "e9dcf8ef",
   "metadata": {
    "ExecuteTime": {
     "end_time": "2021-10-06T09:37:04.125845Z",
     "start_time": "2021-10-06T09:37:04.104846Z"
    }
   },
   "outputs": [
    {
     "data": {
      "text/plain": [
       "160415"
      ]
     },
     "execution_count": 3,
     "metadata": {},
     "output_type": "execute_result"
    }
   ],
   "source": [
    "len(df) # Total number of scientific articles"
   ]
  },
  {
   "cell_type": "code",
   "execution_count": 21,
   "id": "32c32041",
   "metadata": {
    "ExecuteTime": {
     "end_time": "2021-10-06T10:33:46.167335Z",
     "start_time": "2021-10-06T10:33:46.039336Z"
    }
   },
   "outputs": [],
   "source": [
    "df_split = np.array_split(df, 10)"
   ]
  },
  {
   "cell_type": "markdown",
   "id": "b0fb1949",
   "metadata": {},
   "source": [
    "### Split"
   ]
  },
  {
   "cell_type": "code",
   "execution_count": 41,
   "id": "98bcb23e",
   "metadata": {
    "ExecuteTime": {
     "end_time": "2021-10-06T10:13:10.274185Z",
     "start_time": "2021-10-06T10:13:09.847692Z"
    }
   },
   "outputs": [
    {
     "name": "stderr",
     "output_type": "stream",
     "text": [
      "100%|██████████████████████████████████████████████████████████████████████████████████| 10/10 [00:00<00:00, 23.89it/s]\n"
     ]
    }
   ],
   "source": [
    "for i in tqdm(range(len(df_split))):\n",
    "    abstract = []\n",
    "    body_text = []\n",
    "    for article in df_split[i]['abstract']:\n",
    "        abstract.append(article)\n",
    "    for article in df_split[i]['body_text']:\n",
    "        body_text.append(article)\n",
    "    pickle.dump(abstract, open('./cleaned_data_split/a'+str(i)+'.sav', 'wb'))\n",
    "    pickle.dump(abstract, open('./cleaned_data_split/b'+str(i)+'.sav', 'wb'))"
   ]
  }
 ],
 "metadata": {
  "kernelspec": {
   "display_name": "Python 3 (ipykernel)",
   "language": "python",
   "name": "python3"
  },
  "language_info": {
   "codemirror_mode": {
    "name": "ipython",
    "version": 3
   },
   "file_extension": ".py",
   "mimetype": "text/x-python",
   "name": "python",
   "nbconvert_exporter": "python",
   "pygments_lexer": "ipython3",
   "version": "3.9.5"
  },
  "varInspector": {
   "cols": {
    "lenName": 16,
    "lenType": 16,
    "lenVar": 40
   },
   "kernels_config": {
    "python": {
     "delete_cmd_postfix": "",
     "delete_cmd_prefix": "del ",
     "library": "var_list.py",
     "varRefreshCmd": "print(var_dic_list())"
    },
    "r": {
     "delete_cmd_postfix": ") ",
     "delete_cmd_prefix": "rm(",
     "library": "var_list.r",
     "varRefreshCmd": "cat(var_dic_list()) "
    }
   },
   "position": {
    "height": "562px",
    "left": "1544px",
    "right": "20px",
    "top": "101px",
    "width": "350px"
   },
   "types_to_exclude": [
    "module",
    "function",
    "builtin_function_or_method",
    "instance",
    "_Feature"
   ],
   "window_display": true
  }
 },
 "nbformat": 4,
 "nbformat_minor": 5
}
