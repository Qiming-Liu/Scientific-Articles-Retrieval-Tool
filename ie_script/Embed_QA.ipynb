{
 "cells": [
  {
   "cell_type": "code",
   "execution_count": 2,
   "id": "75f35ca5",
   "metadata": {
    "ExecuteTime": {
     "end_time": "2021-10-19T10:18:42.927455Z",
     "start_time": "2021-10-19T10:18:40.186456Z"
    }
   },
   "outputs": [],
   "source": [
    "import os\n",
    "import pandas as pd\n",
    "import numpy as np\n",
    "import matplotlib.pyplot as plt\n",
    "import pickle\n",
    "import tensorflow_hub as hub\n",
    "import time\n",
    "from tqdm import tqdm\n",
    "import math\n",
    "import json"
   ]
  },
  {
   "cell_type": "code",
   "execution_count": 6,
   "id": "91ae97f3",
   "metadata": {
    "ExecuteTime": {
     "end_time": "2021-10-19T10:18:54.255454Z",
     "start_time": "2021-10-19T10:18:42.944455Z"
    }
   },
   "outputs": [],
   "source": [
    "path = os.getcwd()\n",
    "# embed = hub.load(\"https://tfhub.dev/google/universal-sentence-encoder-large/5\")\n",
    "embed = hub.load(path+'\\\\model')"
   ]
  },
  {
   "cell_type": "markdown",
   "id": "9d9ed2be",
   "metadata": {},
   "source": [
    "Vectorisation"
   ]
  },
  {
   "cell_type": "code",
   "execution_count": 3,
   "id": "45d5adb2",
   "metadata": {
    "ExecuteTime": {
     "start_time": "2021-10-17T22:22:52.127Z"
    }
   },
   "outputs": [],
   "source": [
    "df = pickle.load(open(path+'\\\\cleaned_data.sav', 'rb'))"
   ]
  },
  {
   "cell_type": "code",
   "execution_count": 5,
   "id": "9a1eadee",
   "metadata": {},
   "outputs": [],
   "source": [
    "sentences = np.array(df['abstract'])"
   ]
  },
  {
   "cell_type": "code",
   "execution_count": 6,
   "id": "0ef71cae",
   "metadata": {},
   "outputs": [
    {
     "name": "stderr",
     "output_type": "stream",
     "text": [
      "100%|████████████████████████████████████████████████████████████████████████████| 8026/8026 [2:50:42<00:00,  1.28s/it]\n"
     ]
    }
   ],
   "source": [
    "abstract_vec = np.zeros(shape=(1, 512))\n",
    "groups_num = 20 # depends on GPU memery (8G set to 20 works fine for me)\n",
    "for i in tqdm(range(math.ceil(len(sentences)/groups_num))):\n",
    "    if (i < math.ceil(len(sentences)/groups_num)-1):\n",
    "        vec = sentences[(i*groups_num):((i+1)*groups_num)]\n",
    "    else:\n",
    "        vec = sentences[(i*groups_num):len(sentences)]\n",
    "    embed_vectors = embed(vec).numpy()\n",
    "    abstract_vec = np.append(abstract_vec, embed_vectors, axis=0)\n",
    "    \n",
    "abstract_vec = np.delete(abstract_vec, 0, axis=0)"
   ]
  },
  {
   "cell_type": "code",
   "execution_count": 8,
   "id": "daf048b6",
   "metadata": {},
   "outputs": [],
   "source": [
    "abstract_qa = sentences, abstract_vec\n",
    "pickle.dump(abstract_qa, open('./tu.pkl', 'wb'))"
   ]
  },
  {
   "cell_type": "markdown",
   "id": "c85c74fd",
   "metadata": {},
   "source": [
    "Model"
   ]
  },
  {
   "cell_type": "code",
   "execution_count": 3,
   "id": "849f2171",
   "metadata": {
    "scrolled": true
   },
   "outputs": [],
   "source": [
    "abstract_sent, abstract_vec = pickle.load(open('./abstract_qa.pkl', 'rb'))"
   ]
  },
  {
   "cell_type": "code",
   "execution_count": 4,
   "id": "7ba8782a",
   "metadata": {
    "ExecuteTime": {
     "end_time": "2021-10-17T18:21:55.955752Z",
     "start_time": "2021-10-17T18:21:55.505469Z"
    }
   },
   "outputs": [],
   "source": [
    "def query(text):\n",
    "    corr = np.inner(embed([text]).numpy(), abstract_vec)[0]\n",
    "    return abstract_sent[np.argmax(corr)]"
   ]
  },
  {
   "cell_type": "code",
   "execution_count": 7,
   "id": "a4ab3e86",
   "metadata": {
    "scrolled": true
   },
   "outputs": [
    {
     "data": {
      "text/plain": [
       "'Apart from the treatment options, protocols and preventive measures against COVID, an essential step prior to the treatment is its quick and accurate diagnosis. There are several diagnostic protocols prevailing currently for the identification of COVID infection. The Gold standard available diagnosis is based on the identification of pathogen by RTPCR analysis . This involves extraction of the genetic material of the virus followed by its amplification using specific primers and identification.'"
      ]
     },
     "execution_count": 7,
     "metadata": {},
     "output_type": "execute_result"
    }
   ],
   "source": [
    "query('What is the best covid treatment?')"
   ]
  },
  {
   "cell_type": "markdown",
   "id": "b475bf24",
   "metadata": {},
   "source": [
    "Get top k"
   ]
  },
  {
   "cell_type": "code",
   "execution_count": 20,
   "id": "a3d61f0f",
   "metadata": {
    "ExecuteTime": {
     "end_time": "2021-10-19T10:35:19.902426Z",
     "start_time": "2021-10-19T10:35:19.294427Z"
    }
   },
   "outputs": [],
   "source": [
    "corr = np.inner(embed(['What is the best covid treatment?']).numpy(), abstract_vec)[0]"
   ]
  },
  {
   "cell_type": "code",
   "execution_count": 21,
   "id": "8880bcc4",
   "metadata": {
    "ExecuteTime": {
     "end_time": "2021-10-19T10:35:25.438322Z",
     "start_time": "2021-10-19T10:35:25.420320Z"
    }
   },
   "outputs": [
    {
     "data": {
      "text/plain": [
       "array([ 0.05221304,  0.04399603, -0.00804991, ...,  0.01596651,\n",
       "       -0.02183577,  0.10824992])"
      ]
     },
     "execution_count": 21,
     "metadata": {},
     "output_type": "execute_result"
    }
   ],
   "source": [
    "corr"
   ]
  },
  {
   "cell_type": "code",
   "execution_count": 22,
   "id": "9c08703a",
   "metadata": {
    "ExecuteTime": {
     "end_time": "2021-10-19T10:35:26.295239Z",
     "start_time": "2021-10-19T10:35:26.287240Z"
    }
   },
   "outputs": [
    {
     "data": {
      "text/plain": [
       "20528"
      ]
     },
     "execution_count": 22,
     "metadata": {},
     "output_type": "execute_result"
    }
   ],
   "source": [
    "#top 1\n",
    "np.argmax(corr)"
   ]
  },
  {
   "cell_type": "code",
   "execution_count": 17,
   "id": "4bb3fb62",
   "metadata": {
    "ExecuteTime": {
     "end_time": "2021-10-19T10:32:43.930524Z",
     "start_time": "2021-10-19T10:32:43.918529Z"
    }
   },
   "outputs": [],
   "source": [
    "def topk(k):\n",
    "    return (-corr).argsort()[:k]"
   ]
  },
  {
   "cell_type": "code",
   "execution_count": 24,
   "id": "d735cbdc",
   "metadata": {
    "ExecuteTime": {
     "end_time": "2021-10-19T10:45:18.696196Z",
     "start_time": "2021-10-19T10:45:18.672197Z"
    }
   },
   "outputs": [
    {
     "data": {
      "text/plain": [
       "array([20528, 34667], dtype=int64)"
      ]
     },
     "execution_count": 24,
     "metadata": {},
     "output_type": "execute_result"
    }
   ],
   "source": [
    "#top 2\n",
    "topk(2)"
   ]
  },
  {
   "cell_type": "code",
   "execution_count": null,
   "id": "b0d123ba",
   "metadata": {},
   "outputs": [],
   "source": []
  }
 ],
 "metadata": {
  "kernelspec": {
   "display_name": "Python 3",
   "language": "python",
   "name": "python3"
  },
  "language_info": {
   "codemirror_mode": {
    "name": "ipython",
    "version": 3
   },
   "file_extension": ".py",
   "mimetype": "text/x-python",
   "name": "python",
   "nbconvert_exporter": "python",
   "pygments_lexer": "ipython3",
   "version": "3.6.8"
  },
  "varInspector": {
   "cols": {
    "lenName": 16,
    "lenType": 16,
    "lenVar": 40
   },
   "kernels_config": {
    "python": {
     "delete_cmd_postfix": "",
     "delete_cmd_prefix": "del ",
     "library": "var_list.py",
     "varRefreshCmd": "print(var_dic_list())"
    },
    "r": {
     "delete_cmd_postfix": ") ",
     "delete_cmd_prefix": "rm(",
     "library": "var_list.r",
     "varRefreshCmd": "cat(var_dic_list()) "
    }
   },
   "types_to_exclude": [
    "module",
    "function",
    "builtin_function_or_method",
    "instance",
    "_Feature"
   ],
   "window_display": false
  }
 },
 "nbformat": 4,
 "nbformat_minor": 5
}
