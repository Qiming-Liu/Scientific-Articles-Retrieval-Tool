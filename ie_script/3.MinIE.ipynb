{
 "cells": [
  {
   "cell_type": "markdown",
   "id": "a7ad656b",
   "metadata": {},
   "source": [
    "### start minie server:\n",
    "```shell\n",
    "mvn clean compile exec:java\n",
    "```"
   ]
  },
  {
   "cell_type": "markdown",
   "id": "75c181b1",
   "metadata": {},
   "source": [
    "### call example:\n",
    "```shell\n",
    "curl 'http://localhost:8080/minie/query' -X POST -d 'Obama visited the white house.' | jq .\n",
    "```\n",
    "                                                Post                data                   json"
   ]
  },
  {
   "cell_type": "code",
   "execution_count": 6,
   "id": "bdd1a783",
   "metadata": {
    "ExecuteTime": {
     "end_time": "2021-10-07T04:37:06.508935Z",
     "start_time": "2021-10-07T04:37:04.379081Z"
    }
   },
   "outputs": [
    {
     "name": "stdout",
     "output_type": "stream",
     "text": [
      "{'facts': [{'subject': 'English people', 'predicate': 'are', 'object': 'ethnic group'}, {'subject': 'English people', 'predicate': 'are', 'object': 'nation native to England'}, {'subject': 'ethnic group', 'predicate': 'speak', 'object': 'English language'}, {'subject': 'ethnic group', 'predicate': 'speak', 'object': 'share'}, {'subject': 'nation native to England', 'predicate': 'speak', 'object': 'English language'}, {'subject': 'nation native to England', 'predicate': 'speak', 'object': 'share'}]}\n"
     ]
    }
   ],
   "source": [
    "import requests\n",
    "\n",
    "url = 'http://localhost:8080/minie/query'\n",
    "data = 'The English people are an ethnic group and nation native to England, who speak the English language and share a common history and culture.'\n",
    "r = requests.post(url, data=data)\n",
    "print(r.json())"
   ]
  },
  {
   "cell_type": "markdown",
   "id": "b93d1cf3",
   "metadata": {},
   "source": [
    "#### MinIE.Mode.SAFE\n",
    "#### Change mode in file FaceResource.java line 30:\n",
    "```java\n",
    "MinIE minie = new MinIE(sentence, FactsResource.parser, MinIE.Mode.SAFE);\n",
    "```"
   ]
  },
  {
   "cell_type": "code",
   "execution_count": 8,
   "id": "e63f4ef7",
   "metadata": {
    "ExecuteTime": {
     "end_time": "2021-10-07T04:41:48.014917Z",
     "start_time": "2021-10-07T04:41:44.409785Z"
    }
   },
   "outputs": [],
   "source": [
    "import pickle\n",
    "import pandas as pd\n",
    "import spacy\n",
    "from tqdm import tqdm\n",
    "url = 'http://localhost:8080/minie/query'\n",
    "nlp = spacy.load('en_core_web_lg')\n",
    "def prepare_text(text):\n",
    "    doc=nlp(text)\n",
    "    result=[]\n",
    "    for sent in list(doc.sents):\n",
    "            sent=str(sent)\n",
    "            sent = sent.rstrip() #末尾空格\n",
    "            r = requests.post(url, data=sent)\n",
    "            for facts in r.json()['facts']:\n",
    "                result.append({'subject':facts['subject'],'relation': facts['predicate'],'object':facts['object']})\n",
    "    return result\n",
    "\n",
    "def process(file_name):\n",
    "    results = []\n",
    "    var = pickle.load(open('./cleaned_data_split/'+file_name+'.sav', 'rb'))\n",
    "    for text in tqdm(var):\n",
    "        results += prepare_text(text)\n",
    "    result = pd.DataFrame(results)\n",
    "    result.to_csv('./result_minie/'+file_name+'r.csv',index=False)"
   ]
  },
  {
   "cell_type": "code",
   "execution_count": 9,
   "id": "0b3fd25b",
   "metadata": {
    "ExecuteTime": {
     "end_time": "2021-10-07T04:41:56.710490Z",
     "start_time": "2021-10-07T04:41:50.132141Z"
    },
    "scrolled": true
   },
   "outputs": [
    {
     "name": "stderr",
     "output_type": "stream",
     "text": [
      "  0%|                                                                                        | 0/16042 [00:06<?, ?it/s]\n"
     ]
    },
    {
     "ename": "JSONDecodeError",
     "evalue": "Expecting value: line 1 column 1 (char 0)",
     "output_type": "error",
     "traceback": [
      "\u001b[1;31m---------------------------------------------------------------------------\u001b[0m",
      "\u001b[1;31mJSONDecodeError\u001b[0m                           Traceback (most recent call last)",
      "\u001b[1;32m~\\AppData\\Local\\Temp/ipykernel_5320/3055224034.py\u001b[0m in \u001b[0;36m<module>\u001b[1;34m\u001b[0m\n\u001b[1;32m----> 1\u001b[1;33m \u001b[0mprocess\u001b[0m\u001b[1;33m(\u001b[0m\u001b[1;34m'a0'\u001b[0m\u001b[1;33m)\u001b[0m \u001b[1;31m# a1 a2 a3 ...\u001b[0m\u001b[1;33m\u001b[0m\u001b[1;33m\u001b[0m\u001b[0m\n\u001b[0m",
      "\u001b[1;32m~\\AppData\\Local\\Temp/ipykernel_5320/2127752197.py\u001b[0m in \u001b[0;36mprocess\u001b[1;34m(file_name)\u001b[0m\n\u001b[0;32m     23\u001b[0m     \u001b[0mvar\u001b[0m \u001b[1;33m=\u001b[0m \u001b[0mpickle\u001b[0m\u001b[1;33m.\u001b[0m\u001b[0mload\u001b[0m\u001b[1;33m(\u001b[0m\u001b[0mopen\u001b[0m\u001b[1;33m(\u001b[0m\u001b[1;34m'./cleaned_data_split/'\u001b[0m\u001b[1;33m+\u001b[0m\u001b[0mfile_name\u001b[0m\u001b[1;33m+\u001b[0m\u001b[1;34m'.sav'\u001b[0m\u001b[1;33m,\u001b[0m \u001b[1;34m'rb'\u001b[0m\u001b[1;33m)\u001b[0m\u001b[1;33m)\u001b[0m\u001b[1;33m\u001b[0m\u001b[1;33m\u001b[0m\u001b[0m\n\u001b[0;32m     24\u001b[0m     \u001b[1;32mfor\u001b[0m \u001b[0mtext\u001b[0m \u001b[1;32min\u001b[0m \u001b[0mtqdm\u001b[0m\u001b[1;33m(\u001b[0m\u001b[0mvar\u001b[0m\u001b[1;33m)\u001b[0m\u001b[1;33m:\u001b[0m\u001b[1;33m\u001b[0m\u001b[1;33m\u001b[0m\u001b[0m\n\u001b[1;32m---> 25\u001b[1;33m         \u001b[0mresults\u001b[0m \u001b[1;33m+=\u001b[0m \u001b[0mprepare_text\u001b[0m\u001b[1;33m(\u001b[0m\u001b[0mtext\u001b[0m\u001b[1;33m)\u001b[0m\u001b[1;33m\u001b[0m\u001b[1;33m\u001b[0m\u001b[0m\n\u001b[0m\u001b[0;32m     26\u001b[0m     \u001b[0mresult\u001b[0m \u001b[1;33m=\u001b[0m \u001b[0mpd\u001b[0m\u001b[1;33m.\u001b[0m\u001b[0mDataFrame\u001b[0m\u001b[1;33m(\u001b[0m\u001b[0mresults\u001b[0m\u001b[1;33m)\u001b[0m\u001b[1;33m\u001b[0m\u001b[1;33m\u001b[0m\u001b[0m\n\u001b[0;32m     27\u001b[0m     \u001b[0mresult\u001b[0m\u001b[1;33m.\u001b[0m\u001b[0mto_csv\u001b[0m\u001b[1;33m(\u001b[0m\u001b[1;34m'./result_minie/'\u001b[0m\u001b[1;33m+\u001b[0m\u001b[0mfile_name\u001b[0m\u001b[1;33m+\u001b[0m\u001b[1;34m'r.csv'\u001b[0m\u001b[1;33m,\u001b[0m\u001b[0mindex\u001b[0m\u001b[1;33m=\u001b[0m\u001b[1;32mFalse\u001b[0m\u001b[1;33m)\u001b[0m\u001b[1;33m\u001b[0m\u001b[1;33m\u001b[0m\u001b[0m\n",
      "\u001b[1;32m~\\AppData\\Local\\Temp/ipykernel_5320/2127752197.py\u001b[0m in \u001b[0;36mprepare_text\u001b[1;34m(text)\u001b[0m\n\u001b[0;32m     14\u001b[0m             \u001b[0mr\u001b[0m \u001b[1;33m=\u001b[0m \u001b[0mrequests\u001b[0m\u001b[1;33m.\u001b[0m\u001b[0mpost\u001b[0m\u001b[1;33m(\u001b[0m\u001b[0murl\u001b[0m\u001b[1;33m,\u001b[0m \u001b[0mdata\u001b[0m\u001b[1;33m=\u001b[0m\u001b[0msent\u001b[0m\u001b[1;33m)\u001b[0m\u001b[1;33m\u001b[0m\u001b[1;33m\u001b[0m\u001b[0m\n\u001b[0;32m     15\u001b[0m \u001b[1;33m\u001b[0m\u001b[0m\n\u001b[1;32m---> 16\u001b[1;33m             \u001b[1;32mfor\u001b[0m \u001b[0mfacts\u001b[0m \u001b[1;32min\u001b[0m \u001b[0mr\u001b[0m\u001b[1;33m.\u001b[0m\u001b[0mjson\u001b[0m\u001b[1;33m(\u001b[0m\u001b[1;33m)\u001b[0m\u001b[1;33m[\u001b[0m\u001b[1;34m'facts'\u001b[0m\u001b[1;33m]\u001b[0m\u001b[1;33m:\u001b[0m\u001b[1;33m\u001b[0m\u001b[1;33m\u001b[0m\u001b[0m\n\u001b[0m\u001b[0;32m     17\u001b[0m                 \u001b[0mresult\u001b[0m\u001b[1;33m.\u001b[0m\u001b[0mappend\u001b[0m\u001b[1;33m(\u001b[0m\u001b[1;33m{\u001b[0m\u001b[1;34m'subject'\u001b[0m\u001b[1;33m:\u001b[0m\u001b[0mfacts\u001b[0m\u001b[1;33m[\u001b[0m\u001b[1;34m'subject'\u001b[0m\u001b[1;33m]\u001b[0m\u001b[1;33m,\u001b[0m\u001b[1;34m'relation'\u001b[0m\u001b[1;33m:\u001b[0m \u001b[0mfacts\u001b[0m\u001b[1;33m[\u001b[0m\u001b[1;34m'predicate'\u001b[0m\u001b[1;33m]\u001b[0m\u001b[1;33m,\u001b[0m\u001b[1;34m'object'\u001b[0m\u001b[1;33m:\u001b[0m\u001b[0mfacts\u001b[0m\u001b[1;33m[\u001b[0m\u001b[1;34m'object'\u001b[0m\u001b[1;33m]\u001b[0m\u001b[1;33m}\u001b[0m\u001b[1;33m)\u001b[0m\u001b[1;33m\u001b[0m\u001b[1;33m\u001b[0m\u001b[0m\n\u001b[0;32m     18\u001b[0m             \u001b[0mcount\u001b[0m\u001b[1;33m=\u001b[0m\u001b[0mcount\u001b[0m\u001b[1;33m+\u001b[0m\u001b[1;36m1\u001b[0m\u001b[1;33m\u001b[0m\u001b[1;33m\u001b[0m\u001b[0m\n",
      "\u001b[1;32m~\\scoop\\apps\\miniconda3\\current\\lib\\site-packages\\requests\\models.py\u001b[0m in \u001b[0;36mjson\u001b[1;34m(self, **kwargs)\u001b[0m\n\u001b[0;32m    898\u001b[0m                     \u001b[1;31m# used.\u001b[0m\u001b[1;33m\u001b[0m\u001b[1;33m\u001b[0m\u001b[1;33m\u001b[0m\u001b[0m\n\u001b[0;32m    899\u001b[0m                     \u001b[1;32mpass\u001b[0m\u001b[1;33m\u001b[0m\u001b[1;33m\u001b[0m\u001b[0m\n\u001b[1;32m--> 900\u001b[1;33m         \u001b[1;32mreturn\u001b[0m \u001b[0mcomplexjson\u001b[0m\u001b[1;33m.\u001b[0m\u001b[0mloads\u001b[0m\u001b[1;33m(\u001b[0m\u001b[0mself\u001b[0m\u001b[1;33m.\u001b[0m\u001b[0mtext\u001b[0m\u001b[1;33m,\u001b[0m \u001b[1;33m**\u001b[0m\u001b[0mkwargs\u001b[0m\u001b[1;33m)\u001b[0m\u001b[1;33m\u001b[0m\u001b[1;33m\u001b[0m\u001b[0m\n\u001b[0m\u001b[0;32m    901\u001b[0m \u001b[1;33m\u001b[0m\u001b[0m\n\u001b[0;32m    902\u001b[0m     \u001b[1;33m@\u001b[0m\u001b[0mproperty\u001b[0m\u001b[1;33m\u001b[0m\u001b[1;33m\u001b[0m\u001b[0m\n",
      "\u001b[1;32m~\\scoop\\apps\\miniconda3\\current\\lib\\json\\__init__.py\u001b[0m in \u001b[0;36mloads\u001b[1;34m(s, cls, object_hook, parse_float, parse_int, parse_constant, object_pairs_hook, **kw)\u001b[0m\n\u001b[0;32m    344\u001b[0m             \u001b[0mparse_int\u001b[0m \u001b[1;32mis\u001b[0m \u001b[1;32mNone\u001b[0m \u001b[1;32mand\u001b[0m \u001b[0mparse_float\u001b[0m \u001b[1;32mis\u001b[0m \u001b[1;32mNone\u001b[0m \u001b[1;32mand\u001b[0m\u001b[1;33m\u001b[0m\u001b[1;33m\u001b[0m\u001b[0m\n\u001b[0;32m    345\u001b[0m             parse_constant is None and object_pairs_hook is None and not kw):\n\u001b[1;32m--> 346\u001b[1;33m         \u001b[1;32mreturn\u001b[0m \u001b[0m_default_decoder\u001b[0m\u001b[1;33m.\u001b[0m\u001b[0mdecode\u001b[0m\u001b[1;33m(\u001b[0m\u001b[0ms\u001b[0m\u001b[1;33m)\u001b[0m\u001b[1;33m\u001b[0m\u001b[1;33m\u001b[0m\u001b[0m\n\u001b[0m\u001b[0;32m    347\u001b[0m     \u001b[1;32mif\u001b[0m \u001b[0mcls\u001b[0m \u001b[1;32mis\u001b[0m \u001b[1;32mNone\u001b[0m\u001b[1;33m:\u001b[0m\u001b[1;33m\u001b[0m\u001b[1;33m\u001b[0m\u001b[0m\n\u001b[0;32m    348\u001b[0m         \u001b[0mcls\u001b[0m \u001b[1;33m=\u001b[0m \u001b[0mJSONDecoder\u001b[0m\u001b[1;33m\u001b[0m\u001b[1;33m\u001b[0m\u001b[0m\n",
      "\u001b[1;32m~\\scoop\\apps\\miniconda3\\current\\lib\\json\\decoder.py\u001b[0m in \u001b[0;36mdecode\u001b[1;34m(self, s, _w)\u001b[0m\n\u001b[0;32m    335\u001b[0m \u001b[1;33m\u001b[0m\u001b[0m\n\u001b[0;32m    336\u001b[0m         \"\"\"\n\u001b[1;32m--> 337\u001b[1;33m         \u001b[0mobj\u001b[0m\u001b[1;33m,\u001b[0m \u001b[0mend\u001b[0m \u001b[1;33m=\u001b[0m \u001b[0mself\u001b[0m\u001b[1;33m.\u001b[0m\u001b[0mraw_decode\u001b[0m\u001b[1;33m(\u001b[0m\u001b[0ms\u001b[0m\u001b[1;33m,\u001b[0m \u001b[0midx\u001b[0m\u001b[1;33m=\u001b[0m\u001b[0m_w\u001b[0m\u001b[1;33m(\u001b[0m\u001b[0ms\u001b[0m\u001b[1;33m,\u001b[0m \u001b[1;36m0\u001b[0m\u001b[1;33m)\u001b[0m\u001b[1;33m.\u001b[0m\u001b[0mend\u001b[0m\u001b[1;33m(\u001b[0m\u001b[1;33m)\u001b[0m\u001b[1;33m)\u001b[0m\u001b[1;33m\u001b[0m\u001b[1;33m\u001b[0m\u001b[0m\n\u001b[0m\u001b[0;32m    338\u001b[0m         \u001b[0mend\u001b[0m \u001b[1;33m=\u001b[0m \u001b[0m_w\u001b[0m\u001b[1;33m(\u001b[0m\u001b[0ms\u001b[0m\u001b[1;33m,\u001b[0m \u001b[0mend\u001b[0m\u001b[1;33m)\u001b[0m\u001b[1;33m.\u001b[0m\u001b[0mend\u001b[0m\u001b[1;33m(\u001b[0m\u001b[1;33m)\u001b[0m\u001b[1;33m\u001b[0m\u001b[1;33m\u001b[0m\u001b[0m\n\u001b[0;32m    339\u001b[0m         \u001b[1;32mif\u001b[0m \u001b[0mend\u001b[0m \u001b[1;33m!=\u001b[0m \u001b[0mlen\u001b[0m\u001b[1;33m(\u001b[0m\u001b[0ms\u001b[0m\u001b[1;33m)\u001b[0m\u001b[1;33m:\u001b[0m\u001b[1;33m\u001b[0m\u001b[1;33m\u001b[0m\u001b[0m\n",
      "\u001b[1;32m~\\scoop\\apps\\miniconda3\\current\\lib\\json\\decoder.py\u001b[0m in \u001b[0;36mraw_decode\u001b[1;34m(self, s, idx)\u001b[0m\n\u001b[0;32m    353\u001b[0m             \u001b[0mobj\u001b[0m\u001b[1;33m,\u001b[0m \u001b[0mend\u001b[0m \u001b[1;33m=\u001b[0m \u001b[0mself\u001b[0m\u001b[1;33m.\u001b[0m\u001b[0mscan_once\u001b[0m\u001b[1;33m(\u001b[0m\u001b[0ms\u001b[0m\u001b[1;33m,\u001b[0m \u001b[0midx\u001b[0m\u001b[1;33m)\u001b[0m\u001b[1;33m\u001b[0m\u001b[1;33m\u001b[0m\u001b[0m\n\u001b[0;32m    354\u001b[0m         \u001b[1;32mexcept\u001b[0m \u001b[0mStopIteration\u001b[0m \u001b[1;32mas\u001b[0m \u001b[0merr\u001b[0m\u001b[1;33m:\u001b[0m\u001b[1;33m\u001b[0m\u001b[1;33m\u001b[0m\u001b[0m\n\u001b[1;32m--> 355\u001b[1;33m             \u001b[1;32mraise\u001b[0m \u001b[0mJSONDecodeError\u001b[0m\u001b[1;33m(\u001b[0m\u001b[1;34m\"Expecting value\"\u001b[0m\u001b[1;33m,\u001b[0m \u001b[0ms\u001b[0m\u001b[1;33m,\u001b[0m \u001b[0merr\u001b[0m\u001b[1;33m.\u001b[0m\u001b[0mvalue\u001b[0m\u001b[1;33m)\u001b[0m \u001b[1;32mfrom\u001b[0m \u001b[1;32mNone\u001b[0m\u001b[1;33m\u001b[0m\u001b[1;33m\u001b[0m\u001b[0m\n\u001b[0m\u001b[0;32m    356\u001b[0m         \u001b[1;32mreturn\u001b[0m \u001b[0mobj\u001b[0m\u001b[1;33m,\u001b[0m \u001b[0mend\u001b[0m\u001b[1;33m\u001b[0m\u001b[1;33m\u001b[0m\u001b[0m\n",
      "\u001b[1;31mJSONDecodeError\u001b[0m: Expecting value: line 1 column 1 (char 0)"
     ]
    }
   ],
   "source": [
    "process('a0') # a1 a2 a3 ..."
   ]
  },
  {
   "cell_type": "code",
   "execution_count": 11,
   "id": "37bcb3f4",
   "metadata": {
    "ExecuteTime": {
     "end_time": "2021-10-07T04:42:22.416500Z",
     "start_time": "2021-10-07T04:42:22.375204Z"
    }
   },
   "outputs": [],
   "source": [
    "var = pickle.load(open('./cleaned_data_split/a0.sav', 'rb'))"
   ]
  },
  {
   "cell_type": "code",
   "execution_count": 13,
   "id": "3a109994",
   "metadata": {
    "ExecuteTime": {
     "end_time": "2021-10-07T04:43:24.993556Z",
     "start_time": "2021-10-07T04:43:24.944295Z"
    }
   },
   "outputs": [],
   "source": [
    "doc=nlp(var[0])\n",
    "result=[]"
   ]
  },
  {
   "cell_type": "code",
   "execution_count": 20,
   "id": "408a3dfd",
   "metadata": {
    "ExecuteTime": {
     "end_time": "2021-10-07T04:44:34.821634Z",
     "start_time": "2021-10-07T04:44:34.808634Z"
    }
   },
   "outputs": [
    {
     "data": {
      "text/plain": [
       "objective: this retrospective chart review describes the epidemiology and clinical features of 40 patients with culture-proven mycoplasma pneumoniae infections at king abdulaziz university hospital, jeddah, saudi arabia."
      ]
     },
     "execution_count": 20,
     "metadata": {},
     "output_type": "execute_result"
    }
   ],
   "source": [
    "sent=str(list(doc.sents)[0])"
   ]
  },
  {
   "cell_type": "code",
   "execution_count": 23,
   "id": "cf281d16",
   "metadata": {
    "ExecuteTime": {
     "end_time": "2021-10-07T04:45:14.084440Z",
     "start_time": "2021-10-07T04:45:14.072444Z"
    }
   },
   "outputs": [],
   "source": [
    "sent = sent.rstrip()"
   ]
  },
  {
   "cell_type": "code",
   "execution_count": 25,
   "id": "9d164ff9",
   "metadata": {
    "ExecuteTime": {
     "end_time": "2021-10-07T04:46:15.364006Z",
     "start_time": "2021-10-07T04:46:13.265105Z"
    }
   },
   "outputs": [],
   "source": [
    "r = requests.post(url, data=sent)"
   ]
  },
  {
   "cell_type": "code",
   "execution_count": 26,
   "id": "4bdf6872",
   "metadata": {
    "ExecuteTime": {
     "end_time": "2021-10-07T04:46:27.857240Z",
     "start_time": "2021-10-07T04:46:27.839239Z"
    }
   },
   "outputs": [],
   "source": [
    "for facts in r.json()['facts']:\n",
    "    result.append({'subject':facts['subject'],'relation': facts['predicate'],'object':facts['object']})"
   ]
  },
  {
   "cell_type": "code",
   "execution_count": 27,
   "id": "0c300fa9",
   "metadata": {
    "ExecuteTime": {
     "end_time": "2021-10-07T04:46:55.773873Z",
     "start_time": "2021-10-07T04:46:55.767871Z"
    }
   },
   "outputs": [
    {
     "data": {
      "text/plain": [
       "[{'subject': 'retrospective chart review',\n",
       "  'relation': 'describes',\n",
       "  'object': 'epidemiology of QUANT_O_1 patients with culture-proven mycoplasma pneumoniae infections at king abdulaziz university hospital'},\n",
       " {'subject': 'retrospective chart review',\n",
       "  'relation': 'describes',\n",
       "  'object': 'clinical features'},\n",
       " {'subject': 'retrospective chart review',\n",
       "  'relation': 'describes',\n",
       "  'object': 'epidemiology of QUANT_O_1 patients with culture-proven mycoplasma pneumoniae infections at jeddah'},\n",
       " {'subject': 'king abdulaziz university hospital',\n",
       "  'relation': 'is',\n",
       "  'object': 'saudi arabia'},\n",
       " {'subject': 'jeddah', 'relation': 'is', 'object': 'saudi arabia'}]"
      ]
     },
     "execution_count": 27,
     "metadata": {},
     "output_type": "execute_result"
    }
   ],
   "source": [
    "result"
   ]
  },
  {
   "cell_type": "code",
   "execution_count": 28,
   "id": "eab14251",
   "metadata": {
    "ExecuteTime": {
     "end_time": "2021-10-07T05:22:30.215968Z",
     "start_time": "2021-10-07T05:22:30.205970Z"
    }
   },
   "outputs": [],
   "source": [
    "from stanza.server import CoreNLPClient"
   ]
  },
  {
   "cell_type": "code",
   "execution_count": 30,
   "id": "64366054",
   "metadata": {
    "ExecuteTime": {
     "end_time": "2021-10-07T05:23:28.449879Z",
     "start_time": "2021-10-07T05:23:22.199288Z"
    }
   },
   "outputs": [
    {
     "name": "stderr",
     "output_type": "stream",
     "text": [
      "2021-10-07 15:53:22 INFO: Writing properties to tmp file: corenlp_server-b83eb1fa97e540b1.props\n",
      "2021-10-07 15:53:22 INFO: Starting server with command: java -Xmx16G -cp C:\\Users\\pross\\stanza_corenlp\\* edu.stanford.nlp.pipeline.StanfordCoreNLPServer -port 1234 -timeout 60000 -threads 12 -maxCharLength 100000 -quiet False -serverProperties corenlp_server-b83eb1fa97e540b1.props -annotators openie -preload -outputFormat serialized\n"
     ]
    }
   ],
   "source": [
    "result2=[]\n",
    "with CoreNLPClient(be_quite=False, annotators=[\"openie\"], memory='16G', endpoint='http://localhost:1234', threads=12) as client:\n",
    "    ann = client.annotate(sent,output_format='json')\n",
    "    for sentence in ann['sentences']:\n",
    "        for triple in sentence['openie']:\n",
    "            if triple:\n",
    "                result2.append({'subject':triple['subject'],'relation': triple[\"relation\"],'object':triple['object']})"
   ]
  },
  {
   "cell_type": "code",
   "execution_count": 31,
   "id": "8923b304",
   "metadata": {
    "ExecuteTime": {
     "end_time": "2021-10-07T05:23:41.533909Z",
     "start_time": "2021-10-07T05:23:41.514907Z"
    }
   },
   "outputs": [
    {
     "data": {
      "text/plain": [
       "[{'subject': 'retrospective chart review',\n",
       "  'relation': 'epidemiology of',\n",
       "  'object': '40 patients with culture proven mycoplasma pneumoniae infections at king abdulaziz university hospital'},\n",
       " {'subject': 'chart review',\n",
       "  'relation': 'epidemiology of',\n",
       "  'object': '40 patients with mycoplasma pneumoniae infections at king university hospital'},\n",
       " {'subject': 'retrospective chart review',\n",
       "  'relation': 'describes',\n",
       "  'object': 'epidemiology of 40 patients with mycoplasma pneumoniae infections'},\n",
       " {'subject': 'retrospective chart review',\n",
       "  'relation': 'describes',\n",
       "  'object': 'epidemiology of 40 patients with culture proven mycoplasma pneumoniae infections'},\n",
       " {'subject': 'retrospective chart review',\n",
       "  'relation': 'epidemiology of',\n",
       "  'object': '40 patients with proven mycoplasma pneumoniae infections'},\n",
       " {'subject': 'retrospective chart review',\n",
       "  'relation': 'describes',\n",
       "  'object': 'epidemiology of 40 patients with mycoplasma pneumoniae infections at king university hospital'},\n",
       " {'subject': 'chart review',\n",
       "  'relation': 'epidemiology of',\n",
       "  'object': '40 patients with proven mycoplasma pneumoniae infections at king abdulaziz university hospital'},\n",
       " {'subject': 'retrospective chart review',\n",
       "  'relation': 'epidemiology of',\n",
       "  'object': '40 patients with proven mycoplasma pneumoniae infections at king abdulaziz university hospital'},\n",
       " {'subject': 'retrospective chart review',\n",
       "  'relation': 'epidemiology of',\n",
       "  'object': '40 patients with mycoplasma pneumoniae infections at king university hospital'},\n",
       " {'subject': 'retrospective chart review',\n",
       "  'relation': 'describes',\n",
       "  'object': 'epidemiology of 40 patients with proven mycoplasma pneumoniae infections'},\n",
       " {'subject': 'chart review',\n",
       "  'relation': 'describes',\n",
       "  'object': 'epidemiology of 40 patients with proven mycoplasma pneumoniae infections'},\n",
       " {'subject': 'retrospective chart review',\n",
       "  'relation': 'epidemiology of',\n",
       "  'object': '40 patients with mycoplasma pneumoniae infections at king abdulaziz university hospital'},\n",
       " {'subject': 'chart review',\n",
       "  'relation': 'epidemiology of',\n",
       "  'object': '40 patients with mycoplasma pneumoniae infections at king abdulaziz university hospital'},\n",
       " {'subject': 'retrospective chart review',\n",
       "  'relation': 'describes',\n",
       "  'object': 'epidemiology'},\n",
       " {'subject': 'chart review',\n",
       "  'relation': 'describes',\n",
       "  'object': 'epidemiology of 40 patients with proven mycoplasma pneumoniae infections at king university hospital'},\n",
       " {'subject': 'retrospective chart review',\n",
       "  'relation': 'epidemiology of',\n",
       "  'object': '40 patients with mycoplasma pneumoniae infections'},\n",
       " {'subject': 'chart review',\n",
       "  'relation': 'epidemiology of',\n",
       "  'object': '40 patients with culture proven mycoplasma pneumoniae infections'},\n",
       " {'subject': 'chart review',\n",
       "  'relation': 'describes',\n",
       "  'object': 'epidemiology of 40 patients with culture proven mycoplasma pneumoniae infections at king abdulaziz university hospital'},\n",
       " {'subject': 'chart review',\n",
       "  'relation': 'describes',\n",
       "  'object': 'epidemiology of 40 patients with mycoplasma pneumoniae infections'},\n",
       " {'subject': 'chart review',\n",
       "  'relation': 'epidemiology of',\n",
       "  'object': '40 patients with mycoplasma pneumoniae infections'},\n",
       " {'subject': 'chart review',\n",
       "  'relation': 'describes',\n",
       "  'object': 'epidemiology of 40 patients with mycoplasma pneumoniae infections at king university hospital'},\n",
       " {'subject': 'chart review',\n",
       "  'relation': 'describes',\n",
       "  'object': 'epidemiology'},\n",
       " {'subject': 'retrospective chart review',\n",
       "  'relation': 'epidemiology of',\n",
       "  'object': '40 patients with culture proven mycoplasma pneumoniae infections at king university hospital'},\n",
       " {'subject': 'retrospective chart review',\n",
       "  'relation': 'describes',\n",
       "  'object': 'epidemiology of 40 patients'},\n",
       " {'subject': 'chart review',\n",
       "  'relation': 'epidemiology of',\n",
       "  'object': '40 patients with proven mycoplasma pneumoniae infections at king university hospital'},\n",
       " {'subject': 'chart review',\n",
       "  'relation': 'describes',\n",
       "  'object': 'epidemiology of 40 patients with culture proven mycoplasma pneumoniae infections at king university hospital'},\n",
       " {'subject': 'retrospective chart review',\n",
       "  'relation': 'describes',\n",
       "  'object': 'epidemiology of 40 patients with culture proven mycoplasma pneumoniae infections at king university hospital'},\n",
       " {'subject': 'chart review',\n",
       "  'relation': 'describes',\n",
       "  'object': 'epidemiology of 40 patients with culture proven mycoplasma pneumoniae infections'},\n",
       " {'subject': 'retrospective chart review',\n",
       "  'relation': 'describes',\n",
       "  'object': 'epidemiology of 40 patients with proven mycoplasma pneumoniae infections at king abdulaziz university hospital'},\n",
       " {'subject': 'retrospective chart review',\n",
       "  'relation': 'epidemiology of',\n",
       "  'object': '40 patients with culture proven mycoplasma pneumoniae infections'},\n",
       " {'subject': 'chart review',\n",
       "  'relation': 'epidemiology of',\n",
       "  'object': '40 patients with proven mycoplasma pneumoniae infections'},\n",
       " {'subject': 'retrospective chart review',\n",
       "  'relation': 'epidemiology of',\n",
       "  'object': '40 patients'},\n",
       " {'subject': 'chart review',\n",
       "  'relation': 'describes',\n",
       "  'object': 'epidemiology of 40 patients with proven mycoplasma pneumoniae infections at king abdulaziz university hospital'},\n",
       " {'subject': 'retrospective chart review',\n",
       "  'relation': 'describes',\n",
       "  'object': 'epidemiology of 40 patients with culture proven mycoplasma pneumoniae infections at king abdulaziz university hospital'},\n",
       " {'subject': 'chart review',\n",
       "  'relation': 'describes',\n",
       "  'object': 'epidemiology of 40 patients'},\n",
       " {'subject': 'retrospective chart review',\n",
       "  'relation': 'describes',\n",
       "  'object': 'epidemiology of 40 patients with mycoplasma pneumoniae infections at king abdulaziz university hospital'},\n",
       " {'subject': 'retrospective chart review',\n",
       "  'relation': 'epidemiology of',\n",
       "  'object': '40 patients with proven mycoplasma pneumoniae infections at king university hospital'},\n",
       " {'subject': '40 patients', 'relation': 'is with', 'object': 'infections'},\n",
       " {'subject': 'retrospective chart review',\n",
       "  'relation': 'describes',\n",
       "  'object': 'epidemiology of 40 patients with proven mycoplasma pneumoniae infections at king university hospital'},\n",
       " {'subject': 'chart review',\n",
       "  'relation': 'epidemiology of',\n",
       "  'object': '40 patients with culture proven mycoplasma pneumoniae infections at king abdulaziz university hospital'},\n",
       " {'subject': 'chart review',\n",
       "  'relation': 'epidemiology of',\n",
       "  'object': '40 patients'},\n",
       " {'subject': 'chart review',\n",
       "  'relation': 'describes',\n",
       "  'object': 'epidemiology of 40 patients with mycoplasma pneumoniae infections at king abdulaziz university hospital'},\n",
       " {'subject': 'chart review',\n",
       "  'relation': 'epidemiology of',\n",
       "  'object': '40 patients with culture proven mycoplasma pneumoniae infections at king university hospital'}]"
      ]
     },
     "execution_count": 31,
     "metadata": {},
     "output_type": "execute_result"
    }
   ],
   "source": [
    "result2"
   ]
  },
  {
   "cell_type": "code",
   "execution_count": null,
   "id": "e0c8db28",
   "metadata": {},
   "outputs": [],
   "source": []
  }
 ],
 "metadata": {
  "kernelspec": {
   "display_name": "Python 3 (ipykernel)",
   "language": "python",
   "name": "python3"
  },
  "language_info": {
   "codemirror_mode": {
    "name": "ipython",
    "version": 3
   },
   "file_extension": ".py",
   "mimetype": "text/x-python",
   "name": "python",
   "nbconvert_exporter": "python",
   "pygments_lexer": "ipython3",
   "version": "3.9.5"
  },
  "varInspector": {
   "cols": {
    "lenName": 16,
    "lenType": 16,
    "lenVar": 40
   },
   "kernels_config": {
    "python": {
     "delete_cmd_postfix": "",
     "delete_cmd_prefix": "del ",
     "library": "var_list.py",
     "varRefreshCmd": "print(var_dic_list())"
    },
    "r": {
     "delete_cmd_postfix": ") ",
     "delete_cmd_prefix": "rm(",
     "library": "var_list.r",
     "varRefreshCmd": "cat(var_dic_list()) "
    }
   },
   "types_to_exclude": [
    "module",
    "function",
    "builtin_function_or_method",
    "instance",
    "_Feature"
   ],
   "window_display": false
  }
 },
 "nbformat": 4,
 "nbformat_minor": 5
}
