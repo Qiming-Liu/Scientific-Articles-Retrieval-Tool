{
 "cells": [
  {
   "cell_type": "markdown",
   "id": "04fa52b9",
   "metadata": {
    "ExecuteTime": {
     "end_time": "2021-10-07T14:14:31.554561Z",
     "start_time": "2021-10-07T14:14:31.541551Z"
    }
   },
   "source": [
    "### minie from split file"
   ]
  },
  {
   "cell_type": "markdown",
   "id": "a7ad656b",
   "metadata": {},
   "source": [
    "> start minie server:\n",
    "```shell\n",
    "mvn clean compile exec:java\n",
    "```"
   ]
  },
  {
   "cell_type": "markdown",
   "id": "75c181b1",
   "metadata": {},
   "source": [
    "> call example:\n",
    "```shell\n",
    "curl 'http://localhost:8080/minie/query' -X POST -d 'Obama visited the white house.' | jq .\n",
    "```\n",
    "                                                Post                data                   json"
   ]
  },
  {
   "cell_type": "code",
   "execution_count": 1,
   "id": "702ff12f",
   "metadata": {
    "ExecuteTime": {
     "end_time": "2021-10-08T00:30:17.857703Z",
     "start_time": "2021-10-08T00:30:16.100517Z"
    }
   },
   "outputs": [],
   "source": [
    "import pickle\n",
    "import pandas as pd\n",
    "import spacy\n",
    "from tqdm import tqdm\n",
    "import requests"
   ]
  },
  {
   "cell_type": "code",
   "execution_count": 2,
   "id": "bdd1a783",
   "metadata": {
    "ExecuteTime": {
     "end_time": "2021-10-07T15:20:40.923785Z",
     "start_time": "2021-10-07T15:20:38.875978Z"
    }
   },
   "outputs": [
    {
     "name": "stdout",
     "output_type": "stream",
     "text": [
      "{'facts': [{'subject': 'Obama', 'predicate': 'visited', 'object': 'white house'}]}\n"
     ]
    }
   ],
   "source": [
    "# example\n",
    "url = 'http://localhost:8080/minie/query'\n",
    "text = 'Obama visited the white house.'\n",
    "headers = {'Content-Type': 'text/text; charset=utf-8'}\n",
    "r = requests.post(url,data = text.encode('utf-8'), headers = headers)\n",
    "print(r.json())"
   ]
  },
  {
   "cell_type": "markdown",
   "id": "b93d1cf3",
   "metadata": {},
   "source": [
    "> MinIE.Mode.SAFE  \n",
    "> Change mode in file FaceResource.java line 30:\n",
    "```java\n",
    "MinIE minie = new MinIE(sentence, FactsResource.parser, MinIE.Mode.SAFE);\n",
    "```"
   ]
  },
  {
   "cell_type": "markdown",
   "id": "6ef3d761",
   "metadata": {},
   "source": [
    "> Two problem here\n",
    "> 1. https://github.com/uma-pi1/minie/issues/17\n",
    "> 2. de\\uni_mannheim\\minie\\annotation\\AnnotatedPhrase.java line 299"
   ]
  },
  {
   "cell_type": "code",
   "execution_count": 19,
   "id": "e63f4ef7",
   "metadata": {
    "ExecuteTime": {
     "end_time": "2021-10-07T15:00:41.589801Z",
     "start_time": "2021-10-07T15:00:39.726803Z"
    }
   },
   "outputs": [],
   "source": [
    "url = 'http://localhost:8080/minie/query'\n",
    "nlp = spacy.load('en_core_web_lg')\n",
    "\n",
    "def prepare_text(text):\n",
    "    doc=nlp(text)\n",
    "    result=[]\n",
    "    for sent in list(doc.sents):\n",
    "            sent=str(sent)\n",
    "            sent = sent.rstrip() #remove end space\n",
    "            \n",
    "            # post to server\n",
    "            headers = {'Content-Type': 'text/text; charset=utf-8'}\n",
    "            r = requests.post(url,data = sent.encode('utf-8'), headers = headers)\n",
    "            \n",
    "            for facts in r.json()['facts']:\n",
    "                result.append({'subject':facts['subject'],'relation': facts['predicate'],'object':facts['object']})\n",
    "    return result\n",
    "\n",
    "def process(file_name):\n",
    "    results = []\n",
    "    var = pickle.load(open('./cleaned_data_split/'+file_name+'.sav', 'rb'))\n",
    "    for text in tqdm(var):\n",
    "        results += prepare_text(text)\n",
    "    result = pd.DataFrame(results)\n",
    "    result.to_csv('./result_minie/'+file_name+'r.csv',index=False)"
   ]
  },
  {
   "cell_type": "code",
   "execution_count": null,
   "id": "0b3fd25b",
   "metadata": {
    "ExecuteTime": {
     "start_time": "2021-10-07T15:00:45.156Z"
    },
    "scrolled": true
   },
   "outputs": [
    {
     "name": "stderr",
     "output_type": "stream",
     "text": [
      "  0%|                                                                            | 22/16042 [05:38<84:55:36, 19.08s/it]"
     ]
    }
   ],
   "source": [
    "process('a0') # a1 a2 a3 ..."
   ]
  },
  {
   "cell_type": "markdown",
   "id": "254dd1ad",
   "metadata": {},
   "source": [
    "It takes too long, try to process it in java"
   ]
  },
  {
   "cell_type": "code",
   "execution_count": null,
   "id": "b82a1752",
   "metadata": {
    "ExecuteTime": {
     "start_time": "2021-10-08T00:30:28.506Z"
    }
   },
   "outputs": [
    {
     "name": "stderr",
     "output_type": "stream",
     "text": [
      " 82%|█████████████████████████████████████████████████████████████████████████████████████████████████████████████████████████████████████████████████████████████▊                                   | 13114/16042 [05:37<01:27, 33.52it/s]"
     ]
    }
   ],
   "source": [
    "# array to json\n",
    "file_name = 'a1'\n",
    "var = pickle.load(open('./cleaned_data_split/'+file_name+'.sav', 'rb'))\n",
    "results = []\n",
    "nlp = spacy.load('en_core_web_lg')\n",
    "\n",
    "def to_sent(text):\n",
    "    doc=nlp(text)\n",
    "    result=[]\n",
    "    for sent in list(doc.sents):\n",
    "        sent=str(sent)\n",
    "        sent = sent.rstrip() #remove end space\n",
    "        result.append(sent)\n",
    "    return result\n",
    "    \n",
    "for text in tqdm(var):\n",
    "    results += to_sent(text)"
   ]
  },
  {
   "cell_type": "code",
   "execution_count": null,
   "id": "2b99f24b",
   "metadata": {
    "ExecuteTime": {
     "start_time": "2021-10-08T00:30:41.357Z"
    }
   },
   "outputs": [],
   "source": [
    "import json\n",
    "json_file = file_name + '.json'\n",
    "with open('./data_json/'+json_file,'w') as f:\n",
    "    json.dump(results, f)"
   ]
  },
  {
   "cell_type": "code",
   "execution_count": null,
   "id": "a08c23e5",
   "metadata": {},
   "outputs": [],
   "source": []
  }
 ],
 "metadata": {
  "kernelspec": {
   "display_name": "Python 3 (ipykernel)",
   "language": "python",
   "name": "python3"
  },
  "language_info": {
   "codemirror_mode": {
    "name": "ipython",
    "version": 3
   },
   "file_extension": ".py",
   "mimetype": "text/x-python",
   "name": "python",
   "nbconvert_exporter": "python",
   "pygments_lexer": "ipython3",
   "version": "3.9.5"
  },
  "varInspector": {
   "cols": {
    "lenName": 16,
    "lenType": 16,
    "lenVar": 40
   },
   "kernels_config": {
    "python": {
     "delete_cmd_postfix": "",
     "delete_cmd_prefix": "del ",
     "library": "var_list.py",
     "varRefreshCmd": "print(var_dic_list())"
    },
    "r": {
     "delete_cmd_postfix": ") ",
     "delete_cmd_prefix": "rm(",
     "library": "var_list.r",
     "varRefreshCmd": "cat(var_dic_list()) "
    }
   },
   "types_to_exclude": [
    "module",
    "function",
    "builtin_function_or_method",
    "instance",
    "_Feature"
   ],
   "window_display": false
  }
 },
 "nbformat": 4,
 "nbformat_minor": 5
}
